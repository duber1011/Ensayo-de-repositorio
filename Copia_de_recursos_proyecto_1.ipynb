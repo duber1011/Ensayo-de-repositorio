{
  "nbformat": 4,
  "nbformat_minor": 0,
  "metadata": {
    "kernelspec": {
      "display_name": "Python 3",
      "language": "python",
      "name": "python3"
    },
    "language_info": {
      "codemirror_mode": {
        "name": "ipython",
        "version": 3
      },
      "file_extension": ".py",
      "mimetype": "text/x-python",
      "name": "python",
      "nbconvert_exporter": "python",
      "pygments_lexer": "ipython3",
      "version": "3.6.5"
    },
    "colab": {
      "name": "Copia de recursos_proyecto_1.ipynb",
      "provenance": [],
      "collapsed_sections": [
        "XPBaXdXbIRp3"
      ],
      "include_colab_link": true
    }
  },
  "cells": [
    {
      "cell_type": "markdown",
      "metadata": {
        "id": "view-in-github",
        "colab_type": "text"
      },
      "source": [
        "<a href=\"https://colab.research.google.com/github/duber1011/Ensayo-de-repositorio/blob/master/Copia_de_recursos_proyecto_1.ipynb\" target=\"_parent\"><img src=\"https://colab.research.google.com/assets/colab-badge.svg\" alt=\"Open In Colab\"/></a>"
      ]
    },
    {
      "cell_type": "markdown",
      "metadata": {
        "id": "KdMRKm6IIRl8",
        "colab_type": "text"
      },
      "source": [
        "# Proyecto: Análisis mercado inmobiliario de la Ciudad de Buenos Aires"
      ]
    },
    {
      "cell_type": "markdown",
      "metadata": {
        "id": "fET_VFpDIRmW",
        "colab_type": "text"
      },
      "source": [
        "¡Bienvenidos al primer proyecto de la carrera de Data Science de Acamica! \n",
        "\n",
        "En este proyecto vamos a trabajar con un dataset de propiedades en venta publicadas en el portal [Properati](www.properati.com.ar). El objetivo es dar los primeros pasos en el proceso de exploración de datos usando las herramientas que trabajamos en las activades.\n",
        "\n",
        "Vamos a enfocarnos en analizar algunos aspectos del mercado inmobiliario de la Ciudad de Buenos Aires pero para eso primero debemos limpiar un poco el dataset."
      ]
    },
    {
      "cell_type": "markdown",
      "metadata": {
        "id": "e01ZeGbFIRmd",
        "colab_type": "text"
      },
      "source": [
        "## El dataset: propiedades en venta en Ciudad de Buenos Aires."
      ]
    },
    {
      "cell_type": "markdown",
      "metadata": {
        "id": "lYjwv3LzIRmn",
        "colab_type": "text"
      },
      "source": [
        "En este proyecto, trabajaremos con una muestra del conjunto de datos de propiedades en venta mencionado. En este dataset, cada fila es una propiedad en venta. \n",
        "\n",
        "## Los atributos\n",
        "A continuación vamos a describir los atributos que consideramos en esta muestra:\n",
        "\n",
        "* **id**: id de la propiedad\n",
        "* **created_on**: fecha en la que la propiedad ingresó al sitio\n",
        "* **operation**: alquiler (rent) o venta (sell)\n",
        "* **property_type**: tipo de propiedad (casa, departamento, ph, etcétera)\n",
        "* **place_with_parent_names**: nombre del lugar donde se encuentra la propiedad según el publicador\n",
        "* **lat-lon**: coordenadas concatenadas\n",
        "* **lat**: latitud\n",
        "* **lon**: longitud\n",
        "* **price**: precio en la moneda especificada en currency\n",
        "* **currency**: divisa en la que está expresada la publicación\n",
        "* **price_aprox_usd**: precio aproximado en dólares estadounidenses\n",
        "* **surface_total_in_m2**: superficie total (en metros cuadrados)\n",
        "* **surface_covered_in_m2**: superficie cubierta (en metros cuadrados)\n",
        "* **price_usd_per_m2**: precio por metro cuadrado en dólares (precio dólares / superficie)\n",
        "* **floor**: número de piso (si corresponde)\n",
        "* **rooms**: cantidad de ambientes\n",
        "* **expenses**: expensas (si corresponde)\n",
        "* **barrio**: barrio según cartografía oficial\n",
        "* **properati_url**: url de la publicación en Properati\n"
      ]
    },
    {
      "cell_type": "markdown",
      "metadata": {
        "id": "I0JOWNZ9IRmr",
        "colab_type": "text"
      },
      "source": [
        "## Importando las bibliotecas necesarias\n",
        "\n",
        "Para poder trabajar en la limpieza de datos y la visualización de nuestro dataset vamos a utilizar las bibliotecas numpy, pandas, matplotlib.pylab y seaborn. \n",
        "\n",
        "** 1) Importá ** cada una de ellas con los siguientes nombres: \n",
        "- **numpy** como **np**\n",
        "- **pandas** como **pd**\n",
        "- **matplotlib.pylab** como **plt**\n",
        "- **seaborn** como **sns**\n"
      ]
    },
    {
      "cell_type": "code",
      "metadata": {
        "id": "pcR8-8TjIRmx",
        "colab_type": "code",
        "colab": {}
      },
      "source": [
        "import numpy as np\n",
        "import pandas as pd\n",
        "import matplotlib.pylab as plt \n",
        "import seaborn as sns \n",
        "sns.set()\n"
      ],
      "execution_count": 0,
      "outputs": []
    },
    {
      "cell_type": "code",
      "metadata": {
        "id": "5uG6Edh4dNW0",
        "colab_type": "code",
        "outputId": "345cf7b0-d434-4a2b-ac24-4e9b5cccbffe",
        "colab": {
          "base_uri": "https://localhost:8080/",
          "height": 34
        }
      },
      "source": [
        "from google.colab import drive\n",
        "drive.mount('/content/drive')"
      ],
      "execution_count": 114,
      "outputs": [
        {
          "output_type": "stream",
          "text": [
            "Drive already mounted at /content/drive; to attempt to forcibly remount, call drive.mount(\"/content/drive\", force_remount=True).\n"
          ],
          "name": "stdout"
        }
      ]
    },
    {
      "cell_type": "code",
      "metadata": {
        "id": "onx8T0awIRnC",
        "colab_type": "code",
        "colab": {}
      },
      "source": [
        "# La siguiente línea es para ver las imagenes dentro del notebook\n",
        "%matplotlib inline\n",
        "# Acá configuramos el tamaño de las figuras\n",
        "plt.rcParams['figure.figsize'] = (12,8)\n",
        "# Seteamos opciones de pandas sobre las columnas y su ancho\n",
        "pd.set_option('max_columns', 120)\n",
        "pd.set_option('max_colwidth', 5000)\n",
        "\n"
      ],
      "execution_count": 0,
      "outputs": []
    },
    {
      "cell_type": "markdown",
      "metadata": {
        "id": "lckQr3yZIRnS",
        "colab_type": "text"
      },
      "source": [
        "## Cargando dataset de propiedades\n",
        "\n",
        "**2) Cargá** el dataset que se encuentra en la carpeta *dataset/* y guardalo en una variable llamada **df**. \n",
        "No te olvides de utilizar **parse_dates** sobre la columna **created_on**\n"
      ]
    },
    {
      "cell_type": "code",
      "metadata": {
        "id": "Hm3MDAZFIRnX",
        "colab_type": "code",
        "colab": {}
      },
      "source": [
        "df = pd.read_csv('/content/drive/My Drive/Data Science/Entrega 1/datos_properati.csv', parse_dates = True)\n"
      ],
      "execution_count": 0,
      "outputs": []
    },
    {
      "cell_type": "code",
      "metadata": {
        "id": "-INj6sYbeRtE",
        "colab_type": "code",
        "outputId": "d48a4d7a-488e-4f31-c817-e5483368ba27",
        "colab": {
          "base_uri": "https://localhost:8080/",
          "height": 323
        }
      },
      "source": [
        "df.dtypes"
      ],
      "execution_count": 117,
      "outputs": [
        {
          "output_type": "execute_result",
          "data": {
            "text/plain": [
              "created_on                  object\n",
              "operation                   object\n",
              "property_type               object\n",
              "place_with_parent_names     object\n",
              "lat-lon                     object\n",
              "lat                        float64\n",
              "lon                        float64\n",
              "price_aprox_usd            float64\n",
              "surface_total_in_m2        float64\n",
              "surface_covered_in_m2      float64\n",
              "price_usd_per_m2           float64\n",
              "floor                      float64\n",
              "rooms                      float64\n",
              "expenses                   float64\n",
              "properati_url               object\n",
              "barrio                      object\n",
              "comuna                     float64\n",
              "dtype: object"
            ]
          },
          "metadata": {
            "tags": []
          },
          "execution_count": 117
        }
      ]
    },
    {
      "cell_type": "markdown",
      "metadata": {
        "id": "VaL6PEnwIRnl",
        "colab_type": "text"
      },
      "source": [
        "## Exploración de datos"
      ]
    },
    {
      "cell_type": "markdown",
      "metadata": {
        "id": "U3rVqUkdIRnq",
        "colab_type": "text"
      },
      "source": [
        "Lo primero que vamos a hacer es ver qué forma tiene el dataset que acabamos de cargar. Para eso vamos a mostrar las primeras 3 entradas del mismo y utilizar la propiedad `shape` para ver la cantidad de instancias y atributos con los que vamos a estar trabajando."
      ]
    },
    {
      "cell_type": "code",
      "metadata": {
        "id": "xoxLCYYQIRnu",
        "colab_type": "code",
        "outputId": "6af12707-6ff6-4f6b-e072-681bd9680f88",
        "colab": {
          "base_uri": "https://localhost:8080/",
          "height": 298
        }
      },
      "source": [
        "print(df.shape)\n",
        "df.head(3)"
      ],
      "execution_count": 118,
      "outputs": [
        {
          "output_type": "stream",
          "text": [
            "(18979, 17)\n"
          ],
          "name": "stdout"
        },
        {
          "output_type": "execute_result",
          "data": {
            "text/html": [
              "<div>\n",
              "<style scoped>\n",
              "    .dataframe tbody tr th:only-of-type {\n",
              "        vertical-align: middle;\n",
              "    }\n",
              "\n",
              "    .dataframe tbody tr th {\n",
              "        vertical-align: top;\n",
              "    }\n",
              "\n",
              "    .dataframe thead th {\n",
              "        text-align: right;\n",
              "    }\n",
              "</style>\n",
              "<table border=\"1\" class=\"dataframe\">\n",
              "  <thead>\n",
              "    <tr style=\"text-align: right;\">\n",
              "      <th></th>\n",
              "      <th>created_on</th>\n",
              "      <th>operation</th>\n",
              "      <th>property_type</th>\n",
              "      <th>place_with_parent_names</th>\n",
              "      <th>lat-lon</th>\n",
              "      <th>lat</th>\n",
              "      <th>lon</th>\n",
              "      <th>price_aprox_usd</th>\n",
              "      <th>surface_total_in_m2</th>\n",
              "      <th>surface_covered_in_m2</th>\n",
              "      <th>price_usd_per_m2</th>\n",
              "      <th>floor</th>\n",
              "      <th>rooms</th>\n",
              "      <th>expenses</th>\n",
              "      <th>properati_url</th>\n",
              "      <th>barrio</th>\n",
              "      <th>comuna</th>\n",
              "    </tr>\n",
              "  </thead>\n",
              "  <tbody>\n",
              "    <tr>\n",
              "      <th>0</th>\n",
              "      <td>2017-09-22</td>\n",
              "      <td>sell</td>\n",
              "      <td>house</td>\n",
              "      <td>|Argentina|Capital Federal|Palermo|Palermo Viejo|</td>\n",
              "      <td>-34.5889531469,-58.4298817776</td>\n",
              "      <td>-34.588953</td>\n",
              "      <td>-58.429882</td>\n",
              "      <td>2000000.0</td>\n",
              "      <td>312.0</td>\n",
              "      <td>NaN</td>\n",
              "      <td>6410.25641</td>\n",
              "      <td>NaN</td>\n",
              "      <td>NaN</td>\n",
              "      <td>NaN</td>\n",
              "      <td>https://www.properati.com.ar/2os_venta_casa_palermo-viejo_rent-ba</td>\n",
              "      <td>PALERMO</td>\n",
              "      <td>14.0</td>\n",
              "    </tr>\n",
              "    <tr>\n",
              "      <th>1</th>\n",
              "      <td>2017-08-01</td>\n",
              "      <td>sell</td>\n",
              "      <td>store</td>\n",
              "      <td>|Argentina|Capital Federal|Palermo|</td>\n",
              "      <td>-34.586069,-58.414431</td>\n",
              "      <td>-34.586069</td>\n",
              "      <td>-58.414431</td>\n",
              "      <td>790000.0</td>\n",
              "      <td>121.0</td>\n",
              "      <td>121.0</td>\n",
              "      <td>6528.92562</td>\n",
              "      <td>NaN</td>\n",
              "      <td>NaN</td>\n",
              "      <td>NaN</td>\n",
              "      <td>https://www.properati.com.ar/1cl7l_venta_local_palermo_santa-fe-av-al-3500_sotano_garage_subte-linea-d_deptos-temporarios</td>\n",
              "      <td>PALERMO</td>\n",
              "      <td>14.0</td>\n",
              "    </tr>\n",
              "    <tr>\n",
              "      <th>2</th>\n",
              "      <td>2017-08-02</td>\n",
              "      <td>sell</td>\n",
              "      <td>store</td>\n",
              "      <td>|Argentina|Capital Federal|Palermo|Palermo Soho|</td>\n",
              "      <td>-34.589723,-58.4325664</td>\n",
              "      <td>-34.589723</td>\n",
              "      <td>-58.432566</td>\n",
              "      <td>343000.0</td>\n",
              "      <td>122.0</td>\n",
              "      <td>108.0</td>\n",
              "      <td>2811.47541</td>\n",
              "      <td>NaN</td>\n",
              "      <td>2.0</td>\n",
              "      <td>NaN</td>\n",
              "      <td>https://www.properati.com.ar/1cm8w_venta_local_palermo-soho_cabrera-jose-a-_5000_jardin_lavadero_patio_piscina_toilette_garage_ojo-propiedades</td>\n",
              "      <td>PALERMO</td>\n",
              "      <td>14.0</td>\n",
              "    </tr>\n",
              "  </tbody>\n",
              "</table>\n",
              "</div>"
            ],
            "text/plain": [
              "   created_on operation property_type  \\\n",
              "0  2017-09-22      sell         house   \n",
              "1  2017-08-01      sell         store   \n",
              "2  2017-08-02      sell         store   \n",
              "\n",
              "                             place_with_parent_names  \\\n",
              "0  |Argentina|Capital Federal|Palermo|Palermo Viejo|   \n",
              "1                |Argentina|Capital Federal|Palermo|   \n",
              "2   |Argentina|Capital Federal|Palermo|Palermo Soho|   \n",
              "\n",
              "                         lat-lon        lat        lon  price_aprox_usd  \\\n",
              "0  -34.5889531469,-58.4298817776 -34.588953 -58.429882        2000000.0   \n",
              "1          -34.586069,-58.414431 -34.586069 -58.414431         790000.0   \n",
              "2         -34.589723,-58.4325664 -34.589723 -58.432566         343000.0   \n",
              "\n",
              "   surface_total_in_m2  surface_covered_in_m2  price_usd_per_m2  floor  rooms  \\\n",
              "0                312.0                    NaN        6410.25641    NaN    NaN   \n",
              "1                121.0                  121.0        6528.92562    NaN    NaN   \n",
              "2                122.0                  108.0        2811.47541    NaN    2.0   \n",
              "\n",
              "   expenses  \\\n",
              "0       NaN   \n",
              "1       NaN   \n",
              "2       NaN   \n",
              "\n",
              "                                                                                                                                    properati_url  \\\n",
              "0                                                                               https://www.properati.com.ar/2os_venta_casa_palermo-viejo_rent-ba   \n",
              "1                       https://www.properati.com.ar/1cl7l_venta_local_palermo_santa-fe-av-al-3500_sotano_garage_subte-linea-d_deptos-temporarios   \n",
              "2  https://www.properati.com.ar/1cm8w_venta_local_palermo-soho_cabrera-jose-a-_5000_jardin_lavadero_patio_piscina_toilette_garage_ojo-propiedades   \n",
              "\n",
              "    barrio  comuna  \n",
              "0  PALERMO    14.0  \n",
              "1  PALERMO    14.0  \n",
              "2  PALERMO    14.0  "
            ]
          },
          "metadata": {
            "tags": []
          },
          "execution_count": 118
        }
      ]
    },
    {
      "cell_type": "markdown",
      "metadata": {
        "id": "y7TT5GiJIRoA",
        "colab_type": "text"
      },
      "source": [
        "## Categorías de propiedades\n",
        "En primer lugar vamos a ver qué categorías existen en el campo `property_type`. Y de esas categorías cuantos valores tenemos de cada uno.\n",
        "\n",
        "**3) Mostrá** las categorías de `property_type` y cuántas instancias hay de cada una.\n",
        "\n",
        "Recordá utilizar funciones del **dataframe** de pandas para realizar esto."
      ]
    },
    {
      "cell_type": "code",
      "metadata": {
        "id": "ewpQ7dObIRoF",
        "colab_type": "code",
        "outputId": "7fba8d83-1c1c-49f6-d496-f19b2c81ff79",
        "colab": {
          "base_uri": "https://localhost:8080/",
          "height": 34
        }
      },
      "source": [
        "# mostrá las categorías del campo property_type y mostrá la cant. de valores en esta celda\n",
        "\n",
        "df.property_type.unique()"
      ],
      "execution_count": 119,
      "outputs": [
        {
          "output_type": "execute_result",
          "data": {
            "text/plain": [
              "array(['house', 'store', 'apartment', 'PH'], dtype=object)"
            ]
          },
          "metadata": {
            "tags": []
          },
          "execution_count": 119
        }
      ]
    },
    {
      "cell_type": "markdown",
      "metadata": {
        "id": "rPHNUApyIRoS",
        "colab_type": "text"
      },
      "source": [
        "### Filtrando las categorías\n",
        "\n",
        "De las categorías existentes sólo queremos quedarnos con las que sean casas (house), departamentos (apartment) o PH (PH). \n",
        "\n",
        "Para esto, \n",
        "\n",
        "**4) filtrá** el `dataframe` original creando un **nuevo** `dataframe` llamado `df_filtered`. Este es el `dataframe` que seguirás usando a lo largo del análisis.\n"
      ]
    },
    {
      "cell_type": "code",
      "metadata": {
        "id": "a9VHhV9QIRoW",
        "colab_type": "code",
        "outputId": "93257bf5-2c3d-4a94-cde3-d383d5a23f21",
        "colab": {
          "base_uri": "https://localhost:8080/",
          "height": 343
        }
      },
      "source": [
        "# Filtrá el dataframe en esta celda\n",
        "# Código altenativo que ejecuta la misma acción del siguiente código\n",
        "'''lista_prop = ['house', 'apartment', 'PH']\n",
        "df_filtered = df[df['property_type'].isin(lista_prop)]\n",
        "df_filtered'''\n",
        "df_filtered = df.copy()\n",
        "df_filtered = df_filtered[(df_filtered['property_type'] == 'house')  | (df_filtered['property_type'] == 'PH') | (df_filtered['property_type'] == 'apartment')] \n",
        "df_filtered.head ()\n",
        "  \n",
        "\n"
      ],
      "execution_count": 120,
      "outputs": [
        {
          "output_type": "execute_result",
          "data": {
            "text/html": [
              "<div>\n",
              "<style scoped>\n",
              "    .dataframe tbody tr th:only-of-type {\n",
              "        vertical-align: middle;\n",
              "    }\n",
              "\n",
              "    .dataframe tbody tr th {\n",
              "        vertical-align: top;\n",
              "    }\n",
              "\n",
              "    .dataframe thead th {\n",
              "        text-align: right;\n",
              "    }\n",
              "</style>\n",
              "<table border=\"1\" class=\"dataframe\">\n",
              "  <thead>\n",
              "    <tr style=\"text-align: right;\">\n",
              "      <th></th>\n",
              "      <th>created_on</th>\n",
              "      <th>operation</th>\n",
              "      <th>property_type</th>\n",
              "      <th>place_with_parent_names</th>\n",
              "      <th>lat-lon</th>\n",
              "      <th>lat</th>\n",
              "      <th>lon</th>\n",
              "      <th>price_aprox_usd</th>\n",
              "      <th>surface_total_in_m2</th>\n",
              "      <th>surface_covered_in_m2</th>\n",
              "      <th>price_usd_per_m2</th>\n",
              "      <th>floor</th>\n",
              "      <th>rooms</th>\n",
              "      <th>expenses</th>\n",
              "      <th>properati_url</th>\n",
              "      <th>barrio</th>\n",
              "      <th>comuna</th>\n",
              "    </tr>\n",
              "  </thead>\n",
              "  <tbody>\n",
              "    <tr>\n",
              "      <th>0</th>\n",
              "      <td>2017-09-22</td>\n",
              "      <td>sell</td>\n",
              "      <td>house</td>\n",
              "      <td>|Argentina|Capital Federal|Palermo|Palermo Viejo|</td>\n",
              "      <td>-34.5889531469,-58.4298817776</td>\n",
              "      <td>-34.588953</td>\n",
              "      <td>-58.429882</td>\n",
              "      <td>2000000.0</td>\n",
              "      <td>312.0</td>\n",
              "      <td>NaN</td>\n",
              "      <td>6410.256410</td>\n",
              "      <td>NaN</td>\n",
              "      <td>NaN</td>\n",
              "      <td>NaN</td>\n",
              "      <td>https://www.properati.com.ar/2os_venta_casa_palermo-viejo_rent-ba</td>\n",
              "      <td>PALERMO</td>\n",
              "      <td>14.0</td>\n",
              "    </tr>\n",
              "    <tr>\n",
              "      <th>18</th>\n",
              "      <td>2017-08-29</td>\n",
              "      <td>sell</td>\n",
              "      <td>apartment</td>\n",
              "      <td>|Argentina|Capital Federal|Palermo|</td>\n",
              "      <td>-34.588912403,-58.4134942185</td>\n",
              "      <td>-34.588912</td>\n",
              "      <td>-58.413494</td>\n",
              "      <td>340000.0</td>\n",
              "      <td>130.0</td>\n",
              "      <td>120.0</td>\n",
              "      <td>2615.384615</td>\n",
              "      <td>NaN</td>\n",
              "      <td>4.0</td>\n",
              "      <td>8000.0</td>\n",
              "      <td>https://www.properati.com.ar/1dzv6_venta_departamento_palermo_guemes_3600_balcon_suite_jardin_lavadero_luminoso_lujoso_dependencias_placard_doble-circulacion_subte-linea-d_luisio-propiedades-suc-virrey-del-pino-2378</td>\n",
              "      <td>PALERMO</td>\n",
              "      <td>14.0</td>\n",
              "    </tr>\n",
              "    <tr>\n",
              "      <th>19</th>\n",
              "      <td>2017-08-29</td>\n",
              "      <td>sell</td>\n",
              "      <td>apartment</td>\n",
              "      <td>|Argentina|Capital Federal|Palermo|</td>\n",
              "      <td>-34.5770327,-58.4233675</td>\n",
              "      <td>-34.577033</td>\n",
              "      <td>-58.423368</td>\n",
              "      <td>222000.0</td>\n",
              "      <td>52.0</td>\n",
              "      <td>48.0</td>\n",
              "      <td>4269.230769</td>\n",
              "      <td>NaN</td>\n",
              "      <td>1.0</td>\n",
              "      <td>NaN</td>\n",
              "      <td>https://www.properati.com.ar/1e05k_venta_departamento_palermo_juncal-al-4500_gimnasio_jardin_lavadero_parrilla_piscina_sum_aire-acondicionado_subte-linea-h_subte-linea-c_deptos-temporarios</td>\n",
              "      <td>PALERMO</td>\n",
              "      <td>14.0</td>\n",
              "    </tr>\n",
              "    <tr>\n",
              "      <th>20</th>\n",
              "      <td>2017-08-29</td>\n",
              "      <td>sell</td>\n",
              "      <td>apartment</td>\n",
              "      <td>|Argentina|Capital Federal|Palermo|</td>\n",
              "      <td>-34.5950139,-58.4273915</td>\n",
              "      <td>-34.595014</td>\n",
              "      <td>-58.427392</td>\n",
              "      <td>180000.0</td>\n",
              "      <td>70.0</td>\n",
              "      <td>70.0</td>\n",
              "      <td>2571.428571</td>\n",
              "      <td>NaN</td>\n",
              "      <td>NaN</td>\n",
              "      <td>3000.0</td>\n",
              "      <td>https://www.properati.com.ar/1e0mq_venta_departamento_palermo_julian-alvarez-al-1200_lavadero_amoblado_sanchez-carrizo-real-estate</td>\n",
              "      <td>PALERMO</td>\n",
              "      <td>14.0</td>\n",
              "    </tr>\n",
              "    <tr>\n",
              "      <th>22</th>\n",
              "      <td>2017-08-30</td>\n",
              "      <td>sell</td>\n",
              "      <td>house</td>\n",
              "      <td>|Argentina|Capital Federal|Palermo|Palermo Hollywood|</td>\n",
              "      <td>-34.5793535,-58.4364489</td>\n",
              "      <td>-34.579354</td>\n",
              "      <td>-58.436449</td>\n",
              "      <td>1200000.0</td>\n",
              "      <td>532.0</td>\n",
              "      <td>334.0</td>\n",
              "      <td>2255.639098</td>\n",
              "      <td>NaN</td>\n",
              "      <td>6.0</td>\n",
              "      <td>NaN</td>\n",
              "      <td>https://www.properati.com.ar/1e1ve_venta_casa_palermo-hollywood_jardin_lavadero_piscina_luminoso_vista_garage_nexo-propiedades_h0z</td>\n",
              "      <td>PALERMO</td>\n",
              "      <td>14.0</td>\n",
              "    </tr>\n",
              "  </tbody>\n",
              "</table>\n",
              "</div>"
            ],
            "text/plain": [
              "    created_on operation property_type  \\\n",
              "0   2017-09-22      sell         house   \n",
              "18  2017-08-29      sell     apartment   \n",
              "19  2017-08-29      sell     apartment   \n",
              "20  2017-08-29      sell     apartment   \n",
              "22  2017-08-30      sell         house   \n",
              "\n",
              "                                  place_with_parent_names  \\\n",
              "0       |Argentina|Capital Federal|Palermo|Palermo Viejo|   \n",
              "18                    |Argentina|Capital Federal|Palermo|   \n",
              "19                    |Argentina|Capital Federal|Palermo|   \n",
              "20                    |Argentina|Capital Federal|Palermo|   \n",
              "22  |Argentina|Capital Federal|Palermo|Palermo Hollywood|   \n",
              "\n",
              "                          lat-lon        lat        lon  price_aprox_usd  \\\n",
              "0   -34.5889531469,-58.4298817776 -34.588953 -58.429882        2000000.0   \n",
              "18   -34.588912403,-58.4134942185 -34.588912 -58.413494         340000.0   \n",
              "19        -34.5770327,-58.4233675 -34.577033 -58.423368         222000.0   \n",
              "20        -34.5950139,-58.4273915 -34.595014 -58.427392         180000.0   \n",
              "22        -34.5793535,-58.4364489 -34.579354 -58.436449        1200000.0   \n",
              "\n",
              "    surface_total_in_m2  surface_covered_in_m2  price_usd_per_m2  floor  \\\n",
              "0                 312.0                    NaN       6410.256410    NaN   \n",
              "18                130.0                  120.0       2615.384615    NaN   \n",
              "19                 52.0                   48.0       4269.230769    NaN   \n",
              "20                 70.0                   70.0       2571.428571    NaN   \n",
              "22                532.0                  334.0       2255.639098    NaN   \n",
              "\n",
              "    rooms  expenses  \\\n",
              "0     NaN       NaN   \n",
              "18    4.0    8000.0   \n",
              "19    1.0       NaN   \n",
              "20    NaN    3000.0   \n",
              "22    6.0       NaN   \n",
              "\n",
              "                                                                                                                                                                                                              properati_url  \\\n",
              "0                                                                                                                                                         https://www.properati.com.ar/2os_venta_casa_palermo-viejo_rent-ba   \n",
              "18  https://www.properati.com.ar/1dzv6_venta_departamento_palermo_guemes_3600_balcon_suite_jardin_lavadero_luminoso_lujoso_dependencias_placard_doble-circulacion_subte-linea-d_luisio-propiedades-suc-virrey-del-pino-2378   \n",
              "19                             https://www.properati.com.ar/1e05k_venta_departamento_palermo_juncal-al-4500_gimnasio_jardin_lavadero_parrilla_piscina_sum_aire-acondicionado_subte-linea-h_subte-linea-c_deptos-temporarios   \n",
              "20                                                                                       https://www.properati.com.ar/1e0mq_venta_departamento_palermo_julian-alvarez-al-1200_lavadero_amoblado_sanchez-carrizo-real-estate   \n",
              "22                                                                                       https://www.properati.com.ar/1e1ve_venta_casa_palermo-hollywood_jardin_lavadero_piscina_luminoso_vista_garage_nexo-propiedades_h0z   \n",
              "\n",
              "     barrio  comuna  \n",
              "0   PALERMO    14.0  \n",
              "18  PALERMO    14.0  \n",
              "19  PALERMO    14.0  \n",
              "20  PALERMO    14.0  \n",
              "22  PALERMO    14.0  "
            ]
          },
          "metadata": {
            "tags": []
          },
          "execution_count": 120
        }
      ]
    },
    {
      "cell_type": "code",
      "metadata": {
        "id": "BD6lADo2JeEZ",
        "colab_type": "code",
        "outputId": "e9b7ea3c-8998-42c1-8e67-9dc0c5ad5bc3",
        "colab": {
          "base_uri": "https://localhost:8080/",
          "height": 34
        }
      },
      "source": [
        "# Verificamos que el filtro haya sido efectivo y que tengamos en DF correcto \n",
        "\n",
        "df_filtered.property_type.unique()"
      ],
      "execution_count": 121,
      "outputs": [
        {
          "output_type": "execute_result",
          "data": {
            "text/plain": [
              "array(['house', 'apartment', 'PH'], dtype=object)"
            ]
          },
          "metadata": {
            "tags": []
          },
          "execution_count": 121
        }
      ]
    },
    {
      "cell_type": "markdown",
      "metadata": {
        "id": "vYIMqNTvIRok",
        "colab_type": "text"
      },
      "source": [
        "### Visualizando las categorías\n",
        "**5)** Utilizando `seaborn` **creá un countplot** para visualizar las categorías de `df_filtered` en el campo `property_type` "
      ]
    },
    {
      "cell_type": "code",
      "metadata": {
        "id": "4Bl65dtXIRop",
        "colab_type": "code",
        "outputId": "8ddd3f0b-aa12-4f9e-a96c-6d0c4d249fba",
        "colab": {
          "base_uri": "https://localhost:8080/",
          "height": 386
        }
      },
      "source": [
        "# Visualizá las categorías en esta celda\n",
        "# ax = sns.countplot(x=\"property_type\", data=df_filtered) (Alternativa al siguiente código)\n",
        "sns.catplot(x = \"property_type\", data = df_filtered, kind = \"count\")\n"
      ],
      "execution_count": 122,
      "outputs": [
        {
          "output_type": "execute_result",
          "data": {
            "text/plain": [
              "<seaborn.axisgrid.FacetGrid at 0x7f067405fe10>"
            ]
          },
          "metadata": {
            "tags": []
          },
          "execution_count": 122
        },
        {
          "output_type": "display_data",
          "data": {
            "image/png": "[encoded data removed]",
            "text/plain": [
              "<Figure size 360x360 with 1 Axes>"
            ]
          },
          "metadata": {
            "tags": []
          }
        }
      ]
    },
    {
      "cell_type": "markdown",
      "metadata": {
        "id": "o_102-w-IRo4",
        "colab_type": "text"
      },
      "source": [
        "## Valores Faltantes"
      ]
    },
    {
      "cell_type": "markdown",
      "metadata": {
        "id": "e1SPckSKIRo9",
        "colab_type": "text"
      },
      "source": [
        "Vamos a querer descartar aquellas instancias que tengan valores nulos en columnas importantes para el análisis del mercado.\n",
        "Estas columnas son las que informan **superficie (total o cubierta)**, **cantidad de ambientes**, **precio** y **precio por metro cuadrado**.\n",
        "\n",
        "**6) Quitá** del `dataframe` las instancias que no tengan ningún valor en los campos nombrados."
      ]
    },
    {
      "cell_type": "code",
      "metadata": {
        "id": "d2oh-67U_WEV",
        "colab_type": "code",
        "outputId": "3e61d354-2560-41b7-8475-c7c9799f7e42",
        "colab": {
          "base_uri": "https://localhost:8080/",
          "height": 391
        }
      },
      "source": [
        "# Obtención de info previa del DF\n",
        "df_filtered.info()"
      ],
      "execution_count": 123,
      "outputs": [
        {
          "output_type": "stream",
          "text": [
            "<class 'pandas.core.frame.DataFrame'>\n",
            "Int64Index: 17888 entries, 0 to 18978\n",
            "Data columns (total 17 columns):\n",
            "created_on                 17888 non-null object\n",
            "operation                  17888 non-null object\n",
            "property_type              17888 non-null object\n",
            "place_with_parent_names    17888 non-null object\n",
            "lat-lon                    17888 non-null object\n",
            "lat                        17888 non-null float64\n",
            "lon                        17888 non-null float64\n",
            "price_aprox_usd            16511 non-null float64\n",
            "surface_total_in_m2        15691 non-null float64\n",
            "surface_covered_in_m2      15968 non-null float64\n",
            "price_usd_per_m2           15207 non-null float64\n",
            "floor                      2720 non-null float64\n",
            "rooms                      13407 non-null float64\n",
            "expenses                   3698 non-null float64\n",
            "properati_url              17888 non-null object\n",
            "barrio                     17888 non-null object\n",
            "comuna                     17888 non-null float64\n",
            "dtypes: float64(10), object(7)\n",
            "memory usage: 3.1+ MB\n"
          ],
          "name": "stdout"
        }
      ]
    },
    {
      "cell_type": "code",
      "metadata": {
        "id": "whbPxK7wIRpA",
        "colab_type": "code",
        "outputId": "93acba51-11cb-4f5f-b622-5ef8e73f67c0",
        "colab": {
          "base_uri": "https://localhost:8080/",
          "height": 323
        }
      },
      "source": [
        "# df_filtered.isna().sum() (Número de datos nulos)\n",
        "df_filtered.isna().sum()/len(df_filtered)*100 # porcentaje de valores nulos por columna es otra manera alternativa a la anterior de visualizar nulos y no nulos"
      ],
      "execution_count": 124,
      "outputs": [
        {
          "output_type": "execute_result",
          "data": {
            "text/plain": [
              "created_on                  0.000000\n",
              "operation                   0.000000\n",
              "property_type               0.000000\n",
              "place_with_parent_names     0.000000\n",
              "lat-lon                     0.000000\n",
              "lat                         0.000000\n",
              "lon                         0.000000\n",
              "price_aprox_usd             7.697898\n",
              "surface_total_in_m2        12.281977\n",
              "surface_covered_in_m2      10.733453\n",
              "price_usd_per_m2           14.987701\n",
              "floor                      84.794275\n",
              "rooms                      25.050313\n",
              "expenses                   79.326923\n",
              "properati_url               0.000000\n",
              "barrio                      0.000000\n",
              "comuna                      0.000000\n",
              "dtype: float64"
            ]
          },
          "metadata": {
            "tags": []
          },
          "execution_count": 124
        }
      ]
    },
    {
      "cell_type": "code",
      "metadata": {
        "id": "4Nl38XriMPgk",
        "colab_type": "code",
        "colab": {}
      },
      "source": [
        "df_filtered_w_n = df_filtered.copy()"
      ],
      "execution_count": 0,
      "outputs": []
    },
    {
      "cell_type": "code",
      "metadata": {
        "id": "aIIH43E2Ml-Y",
        "colab_type": "code",
        "colab": {
          "base_uri": "https://localhost:8080/",
          "height": 643
        },
        "outputId": "2fdc1d90-3f17-41da-955f-d0f7941eab86"
      },
      "source": [
        "# Quitá las instancias con valores nulos en esta celda\n",
        "df_filtered_w_n = df_filtered_w_n.dropna(subset=['surface_total_in_m2', 'surface_covered_in_m2', 'rooms', 'price_aprox_usd','price_usd_per_m2'])\n",
        "df_filtered_w_n"
      ],
      "execution_count": 126,
      "outputs": [
        {
          "output_type": "execute_result",
          "data": {
            "text/html": [
              "<div>\n",
              "<style scoped>\n",
              "    .dataframe tbody tr th:only-of-type {\n",
              "        vertical-align: middle;\n",
              "    }\n",
              "\n",
              "    .dataframe tbody tr th {\n",
              "        vertical-align: top;\n",
              "    }\n",
              "\n",
              "    .dataframe thead th {\n",
              "        text-align: right;\n",
              "    }\n",
              "</style>\n",
              "<table border=\"1\" class=\"dataframe\">\n",
              "  <thead>\n",
              "    <tr style=\"text-align: right;\">\n",
              "      <th></th>\n",
              "      <th>created_on</th>\n",
              "      <th>operation</th>\n",
              "      <th>property_type</th>\n",
              "      <th>place_with_parent_names</th>\n",
              "      <th>lat-lon</th>\n",
              "      <th>lat</th>\n",
              "      <th>lon</th>\n",
              "      <th>price_aprox_usd</th>\n",
              "      <th>surface_total_in_m2</th>\n",
              "      <th>surface_covered_in_m2</th>\n",
              "      <th>price_usd_per_m2</th>\n",
              "      <th>floor</th>\n",
              "      <th>rooms</th>\n",
              "      <th>expenses</th>\n",
              "      <th>properati_url</th>\n",
              "      <th>barrio</th>\n",
              "      <th>comuna</th>\n",
              "    </tr>\n",
              "  </thead>\n",
              "  <tbody>\n",
              "    <tr>\n",
              "      <th>18</th>\n",
              "      <td>2017-08-29</td>\n",
              "      <td>sell</td>\n",
              "      <td>apartment</td>\n",
              "      <td>|Argentina|Capital Federal|Palermo|</td>\n",
              "      <td>-34.588912403,-58.4134942185</td>\n",
              "      <td>-34.588912</td>\n",
              "      <td>-58.413494</td>\n",
              "      <td>340000.00</td>\n",
              "      <td>130.0</td>\n",
              "      <td>120.0</td>\n",
              "      <td>2615.384615</td>\n",
              "      <td>NaN</td>\n",
              "      <td>4.0</td>\n",
              "      <td>8000.0</td>\n",
              "      <td>https://www.properati.com.ar/1dzv6_venta_departamento_palermo_guemes_3600_balcon_suite_jardin_lavadero_luminoso_lujoso_dependencias_placard_doble-circulacion_subte-linea-d_luisio-propiedades-suc-virrey-del-pino-2378</td>\n",
              "      <td>PALERMO</td>\n",
              "      <td>14.0</td>\n",
              "    </tr>\n",
              "    <tr>\n",
              "      <th>19</th>\n",
              "      <td>2017-08-29</td>\n",
              "      <td>sell</td>\n",
              "      <td>apartment</td>\n",
              "      <td>|Argentina|Capital Federal|Palermo|</td>\n",
              "      <td>-34.5770327,-58.4233675</td>\n",
              "      <td>-34.577033</td>\n",
              "      <td>-58.423368</td>\n",
              "      <td>222000.00</td>\n",
              "      <td>52.0</td>\n",
              "      <td>48.0</td>\n",
              "      <td>4269.230769</td>\n",
              "      <td>NaN</td>\n",
              "      <td>1.0</td>\n",
              "      <td>NaN</td>\n",
              "      <td>https://www.properati.com.ar/1e05k_venta_departamento_palermo_juncal-al-4500_gimnasio_jardin_lavadero_parrilla_piscina_sum_aire-acondicionado_subte-linea-h_subte-linea-c_deptos-temporarios</td>\n",
              "      <td>PALERMO</td>\n",
              "      <td>14.0</td>\n",
              "    </tr>\n",
              "    <tr>\n",
              "      <th>22</th>\n",
              "      <td>2017-08-30</td>\n",
              "      <td>sell</td>\n",
              "      <td>house</td>\n",
              "      <td>|Argentina|Capital Federal|Palermo|Palermo Hollywood|</td>\n",
              "      <td>-34.5793535,-58.4364489</td>\n",
              "      <td>-34.579354</td>\n",
              "      <td>-58.436449</td>\n",
              "      <td>1200000.00</td>\n",
              "      <td>532.0</td>\n",
              "      <td>334.0</td>\n",
              "      <td>2255.639098</td>\n",
              "      <td>NaN</td>\n",
              "      <td>6.0</td>\n",
              "      <td>NaN</td>\n",
              "      <td>https://www.properati.com.ar/1e1ve_venta_casa_palermo-hollywood_jardin_lavadero_piscina_luminoso_vista_garage_nexo-propiedades_h0z</td>\n",
              "      <td>PALERMO</td>\n",
              "      <td>14.0</td>\n",
              "    </tr>\n",
              "    <tr>\n",
              "      <th>24</th>\n",
              "      <td>2017-08-30</td>\n",
              "      <td>sell</td>\n",
              "      <td>apartment</td>\n",
              "      <td>|Argentina|Capital Federal|Palermo|Palermo Hollywood|</td>\n",
              "      <td>-34.5809281,-58.4404321</td>\n",
              "      <td>-34.580928</td>\n",
              "      <td>-58.440432</td>\n",
              "      <td>270000.00</td>\n",
              "      <td>67.0</td>\n",
              "      <td>64.0</td>\n",
              "      <td>4029.850746</td>\n",
              "      <td>NaN</td>\n",
              "      <td>3.0</td>\n",
              "      <td>3900.0</td>\n",
              "      <td>https://www.properati.com.ar/1e1x0_venta_departamento_palermo-hollywood_arevalo_1700_balcon_toilette_luminoso_apto-credito-hipotecario_yankel-group</td>\n",
              "      <td>PALERMO</td>\n",
              "      <td>14.0</td>\n",
              "    </tr>\n",
              "    <tr>\n",
              "      <th>29</th>\n",
              "      <td>2017-08-30</td>\n",
              "      <td>sell</td>\n",
              "      <td>apartment</td>\n",
              "      <td>|Argentina|Capital Federal|Palermo|</td>\n",
              "      <td>-34.594251,-58.4166447</td>\n",
              "      <td>-34.594251</td>\n",
              "      <td>-58.416645</td>\n",
              "      <td>250000.00</td>\n",
              "      <td>67.0</td>\n",
              "      <td>60.0</td>\n",
              "      <td>3731.343284</td>\n",
              "      <td>NaN</td>\n",
              "      <td>2.0</td>\n",
              "      <td>NaN</td>\n",
              "      <td>https://www.properati.com.ar/1e2mz_venta_departamento_palermo_balcon_lavadero_parrilla_piscina_aire-acondicionado_apto-credito-hipotecario_ageo-propiedades_dwr</td>\n",
              "      <td>PALERMO</td>\n",
              "      <td>14.0</td>\n",
              "    </tr>\n",
              "    <tr>\n",
              "      <th>...</th>\n",
              "      <td>...</td>\n",
              "      <td>...</td>\n",
              "      <td>...</td>\n",
              "      <td>...</td>\n",
              "      <td>...</td>\n",
              "      <td>...</td>\n",
              "      <td>...</td>\n",
              "      <td>...</td>\n",
              "      <td>...</td>\n",
              "      <td>...</td>\n",
              "      <td>...</td>\n",
              "      <td>...</td>\n",
              "      <td>...</td>\n",
              "      <td>...</td>\n",
              "      <td>...</td>\n",
              "      <td>...</td>\n",
              "      <td>...</td>\n",
              "    </tr>\n",
              "    <tr>\n",
              "      <th>18973</th>\n",
              "      <td>2017-12-17</td>\n",
              "      <td>sell</td>\n",
              "      <td>apartment</td>\n",
              "      <td>|Argentina|Capital Federal|Villa Soldati|</td>\n",
              "      <td>-34.66897,-58.443897</td>\n",
              "      <td>-34.668970</td>\n",
              "      <td>-58.443897</td>\n",
              "      <td>49000.00</td>\n",
              "      <td>75.0</td>\n",
              "      <td>75.0</td>\n",
              "      <td>653.333333</td>\n",
              "      <td>NaN</td>\n",
              "      <td>4.0</td>\n",
              "      <td>NaN</td>\n",
              "      <td>https://www.properati.com.ar/1j22x_venta_departamento_villa-soldati_re-max-parque</td>\n",
              "      <td>VILLA SOLDATI</td>\n",
              "      <td>8.0</td>\n",
              "    </tr>\n",
              "    <tr>\n",
              "      <th>18974</th>\n",
              "      <td>2018-01-08</td>\n",
              "      <td>sell</td>\n",
              "      <td>apartment</td>\n",
              "      <td>|Argentina|Capital Federal|Villa Soldati|</td>\n",
              "      <td>-34.668741,-58.443146</td>\n",
              "      <td>-34.668741</td>\n",
              "      <td>-58.443146</td>\n",
              "      <td>60000.00</td>\n",
              "      <td>55.0</td>\n",
              "      <td>55.0</td>\n",
              "      <td>1090.909091</td>\n",
              "      <td>NaN</td>\n",
              "      <td>3.0</td>\n",
              "      <td>NaN</td>\n",
              "      <td>https://www.properati.com.ar/1jcpm_venta_departamento_villa-soldati_roca-cnel-av-_3500_subte-premetro_re-max-parque</td>\n",
              "      <td>VILLA SOLDATI</td>\n",
              "      <td>8.0</td>\n",
              "    </tr>\n",
              "    <tr>\n",
              "      <th>18975</th>\n",
              "      <td>2018-01-23</td>\n",
              "      <td>sell</td>\n",
              "      <td>house</td>\n",
              "      <td>|Argentina|Capital Federal|Villa Soldati|</td>\n",
              "      <td>-34.66417,-58.443317</td>\n",
              "      <td>-34.664170</td>\n",
              "      <td>-58.443317</td>\n",
              "      <td>99000.00</td>\n",
              "      <td>115.0</td>\n",
              "      <td>82.0</td>\n",
              "      <td>860.869565</td>\n",
              "      <td>NaN</td>\n",
              "      <td>3.0</td>\n",
              "      <td>NaN</td>\n",
              "      <td>https://www.properati.com.ar/1k1hs_venta_casa_villa-soldati_lavadero_parrilla_terraza_garage_placard_subte-premetro_re-max-acci-oacute-n</td>\n",
              "      <td>VILLA SOLDATI</td>\n",
              "      <td>8.0</td>\n",
              "    </tr>\n",
              "    <tr>\n",
              "      <th>18977</th>\n",
              "      <td>2018-01-27</td>\n",
              "      <td>sell</td>\n",
              "      <td>apartment</td>\n",
              "      <td>|Argentina|Capital Federal|Villa Soldati|</td>\n",
              "      <td>-34.665005,-58.443041</td>\n",
              "      <td>-34.665005</td>\n",
              "      <td>-58.443041</td>\n",
              "      <td>50433.01</td>\n",
              "      <td>45.0</td>\n",
              "      <td>45.0</td>\n",
              "      <td>1120.733556</td>\n",
              "      <td>NaN</td>\n",
              "      <td>3.0</td>\n",
              "      <td>NaN</td>\n",
              "      <td>https://www.properati.com.ar/1k5v0_venta_departamento_villa-soldati_lavadero_subte-premetro_re-max-ayres</td>\n",
              "      <td>VILLA SOLDATI</td>\n",
              "      <td>8.0</td>\n",
              "    </tr>\n",
              "    <tr>\n",
              "      <th>18978</th>\n",
              "      <td>2018-01-27</td>\n",
              "      <td>sell</td>\n",
              "      <td>apartment</td>\n",
              "      <td>|Argentina|Capital Federal|Villa Lugano|</td>\n",
              "      <td>-34.664283,-58.469604</td>\n",
              "      <td>-34.664283</td>\n",
              "      <td>-58.469604</td>\n",
              "      <td>75000.00</td>\n",
              "      <td>60.0</td>\n",
              "      <td>58.0</td>\n",
              "      <td>1250.000000</td>\n",
              "      <td>9.0</td>\n",
              "      <td>3.0</td>\n",
              "      <td>NaN</td>\n",
              "      <td>https://www.properati.com.ar/1k5x2_venta_departamento_villa-lugano_balcon_lavadero_sum_re-max-accion-ii</td>\n",
              "      <td>VILLA SOLDATI</td>\n",
              "      <td>8.0</td>\n",
              "    </tr>\n",
              "  </tbody>\n",
              "</table>\n",
              "<p>11975 rows × 17 columns</p>\n",
              "</div>"
            ],
            "text/plain": [
              "       created_on operation property_type  \\\n",
              "18     2017-08-29      sell     apartment   \n",
              "19     2017-08-29      sell     apartment   \n",
              "22     2017-08-30      sell         house   \n",
              "24     2017-08-30      sell     apartment   \n",
              "29     2017-08-30      sell     apartment   \n",
              "...           ...       ...           ...   \n",
              "18973  2017-12-17      sell     apartment   \n",
              "18974  2018-01-08      sell     apartment   \n",
              "18975  2018-01-23      sell         house   \n",
              "18977  2018-01-27      sell     apartment   \n",
              "18978  2018-01-27      sell     apartment   \n",
              "\n",
              "                                     place_with_parent_names  \\\n",
              "18                       |Argentina|Capital Federal|Palermo|   \n",
              "19                       |Argentina|Capital Federal|Palermo|   \n",
              "22     |Argentina|Capital Federal|Palermo|Palermo Hollywood|   \n",
              "24     |Argentina|Capital Federal|Palermo|Palermo Hollywood|   \n",
              "29                       |Argentina|Capital Federal|Palermo|   \n",
              "...                                                      ...   \n",
              "18973              |Argentina|Capital Federal|Villa Soldati|   \n",
              "18974              |Argentina|Capital Federal|Villa Soldati|   \n",
              "18975              |Argentina|Capital Federal|Villa Soldati|   \n",
              "18977              |Argentina|Capital Federal|Villa Soldati|   \n",
              "18978               |Argentina|Capital Federal|Villa Lugano|   \n",
              "\n",
              "                            lat-lon        lat        lon  price_aprox_usd  \\\n",
              "18     -34.588912403,-58.4134942185 -34.588912 -58.413494        340000.00   \n",
              "19          -34.5770327,-58.4233675 -34.577033 -58.423368        222000.00   \n",
              "22          -34.5793535,-58.4364489 -34.579354 -58.436449       1200000.00   \n",
              "24          -34.5809281,-58.4404321 -34.580928 -58.440432        270000.00   \n",
              "29           -34.594251,-58.4166447 -34.594251 -58.416645        250000.00   \n",
              "...                             ...        ...        ...              ...   \n",
              "18973          -34.66897,-58.443897 -34.668970 -58.443897         49000.00   \n",
              "18974         -34.668741,-58.443146 -34.668741 -58.443146         60000.00   \n",
              "18975          -34.66417,-58.443317 -34.664170 -58.443317         99000.00   \n",
              "18977         -34.665005,-58.443041 -34.665005 -58.443041         50433.01   \n",
              "18978         -34.664283,-58.469604 -34.664283 -58.469604         75000.00   \n",
              "\n",
              "       surface_total_in_m2  surface_covered_in_m2  price_usd_per_m2  floor  \\\n",
              "18                   130.0                  120.0       2615.384615    NaN   \n",
              "19                    52.0                   48.0       4269.230769    NaN   \n",
              "22                   532.0                  334.0       2255.639098    NaN   \n",
              "24                    67.0                   64.0       4029.850746    NaN   \n",
              "29                    67.0                   60.0       3731.343284    NaN   \n",
              "...                    ...                    ...               ...    ...   \n",
              "18973                 75.0                   75.0        653.333333    NaN   \n",
              "18974                 55.0                   55.0       1090.909091    NaN   \n",
              "18975                115.0                   82.0        860.869565    NaN   \n",
              "18977                 45.0                   45.0       1120.733556    NaN   \n",
              "18978                 60.0                   58.0       1250.000000    9.0   \n",
              "\n",
              "       rooms  expenses  \\\n",
              "18       4.0    8000.0   \n",
              "19       1.0       NaN   \n",
              "22       6.0       NaN   \n",
              "24       3.0    3900.0   \n",
              "29       2.0       NaN   \n",
              "...      ...       ...   \n",
              "18973    4.0       NaN   \n",
              "18974    3.0       NaN   \n",
              "18975    3.0       NaN   \n",
              "18977    3.0       NaN   \n",
              "18978    3.0       NaN   \n",
              "\n",
              "                                                                                                                                                                                                                 properati_url  \\\n",
              "18     https://www.properati.com.ar/1dzv6_venta_departamento_palermo_guemes_3600_balcon_suite_jardin_lavadero_luminoso_lujoso_dependencias_placard_doble-circulacion_subte-linea-d_luisio-propiedades-suc-virrey-del-pino-2378   \n",
              "19                                https://www.properati.com.ar/1e05k_venta_departamento_palermo_juncal-al-4500_gimnasio_jardin_lavadero_parrilla_piscina_sum_aire-acondicionado_subte-linea-h_subte-linea-c_deptos-temporarios   \n",
              "22                                                                                          https://www.properati.com.ar/1e1ve_venta_casa_palermo-hollywood_jardin_lavadero_piscina_luminoso_vista_garage_nexo-propiedades_h0z   \n",
              "24                                                                         https://www.properati.com.ar/1e1x0_venta_departamento_palermo-hollywood_arevalo_1700_balcon_toilette_luminoso_apto-credito-hipotecario_yankel-group   \n",
              "29                                                             https://www.properati.com.ar/1e2mz_venta_departamento_palermo_balcon_lavadero_parrilla_piscina_aire-acondicionado_apto-credito-hipotecario_ageo-propiedades_dwr   \n",
              "...                                                                                                                                                                                                                        ...   \n",
              "18973                                                                                                                                        https://www.properati.com.ar/1j22x_venta_departamento_villa-soldati_re-max-parque   \n",
              "18974                                                                                                      https://www.properati.com.ar/1jcpm_venta_departamento_villa-soldati_roca-cnel-av-_3500_subte-premetro_re-max-parque   \n",
              "18975                                                                                 https://www.properati.com.ar/1k1hs_venta_casa_villa-soldati_lavadero_parrilla_terraza_garage_placard_subte-premetro_re-max-acci-oacute-n   \n",
              "18977                                                                                                                 https://www.properati.com.ar/1k5v0_venta_departamento_villa-soldati_lavadero_subte-premetro_re-max-ayres   \n",
              "18978                                                                                                                  https://www.properati.com.ar/1k5x2_venta_departamento_villa-lugano_balcon_lavadero_sum_re-max-accion-ii   \n",
              "\n",
              "              barrio  comuna  \n",
              "18           PALERMO    14.0  \n",
              "19           PALERMO    14.0  \n",
              "22           PALERMO    14.0  \n",
              "24           PALERMO    14.0  \n",
              "29           PALERMO    14.0  \n",
              "...              ...     ...  \n",
              "18973  VILLA SOLDATI     8.0  \n",
              "18974  VILLA SOLDATI     8.0  \n",
              "18975  VILLA SOLDATI     8.0  \n",
              "18977  VILLA SOLDATI     8.0  \n",
              "18978  VILLA SOLDATI     8.0  \n",
              "\n",
              "[11975 rows x 17 columns]"
            ]
          },
          "metadata": {
            "tags": []
          },
          "execution_count": 126
        }
      ]
    },
    {
      "cell_type": "markdown",
      "metadata": {
        "id": "TIKE-bV-IRpN",
        "colab_type": "text"
      },
      "source": [
        "**7)** A continuación **mostrá** cuantas instancias son las que descartaste a partir de quitar las que tenían valores nulos."
      ]
    },
    {
      "cell_type": "code",
      "metadata": {
        "id": "xSW-t3bzIRpR",
        "colab_type": "code",
        "outputId": "c3910a52-1a35-4394-a5f2-fdd5f7b1e832",
        "colab": {
          "base_uri": "https://localhost:8080/",
          "height": 34
        }
      },
      "source": [
        "# Mostrá en esta celda la cantidad de instancias descartadas\n",
        "\n",
        "cantidad_inst  = len(df_filtered) - len(df_filtered_w_n)\n",
        "print(\"La cantidad de instancias descartadas en total son: \",cantidad_inst)"
      ],
      "execution_count": 127,
      "outputs": [
        {
          "output_type": "stream",
          "text": [
            "La cantidad de instancias descartadas en total son:  5913\n"
          ],
          "name": "stdout"
        }
      ]
    },
    {
      "cell_type": "markdown",
      "metadata": {
        "id": "B32tIVHJIRpe",
        "colab_type": "text"
      },
      "source": [
        "Posiblemente existan otros atributos con valores faltantes en el dataset, pero que no son de tanta importancia. \n",
        "\n",
        "**8) Mostrá** qué otros atributos tienen valores faltantes en el `dataframe`."
      ]
    },
    {
      "cell_type": "code",
      "metadata": {
        "id": "z-Dq-zxnIRph",
        "colab_type": "code",
        "outputId": "a4439316-180d-4d43-8954-3aedcddf0719",
        "colab": {
          "base_uri": "https://localhost:8080/",
          "height": 34
        }
      },
      "source": [
        "# Mostrá en esta celda los otros atributos con valores faltantes\n",
        "\n",
        "df_filtered_w_n.columns[df_filtered_w_n.isna().any()].tolist()"
      ],
      "execution_count": 128,
      "outputs": [
        {
          "output_type": "execute_result",
          "data": {
            "text/plain": [
              "['floor', 'expenses']"
            ]
          },
          "metadata": {
            "tags": []
          },
          "execution_count": 128
        }
      ]
    },
    {
      "cell_type": "markdown",
      "metadata": {
        "id": "XPBaXdXbIRp3",
        "colab_type": "text"
      },
      "source": [
        "#### Desafío: planteá alguna estrategia posible para reemplazar los valores faltantes en el atributo `surface_total_in_m2`.\n",
        "\n",
        "Un promedio de área total por zona residencial o barrio, podría funcionar. De ser necesario sería bueno entrar a analizar los datos dentro del dataset para ver que tipo de dato sería más interesante, representativo e idóneo para imputar. Quizás pueda ser una moda por barrio algo más interesante. Pero sin analizar esta información que menciono anteriormente de manera más detenida y detallada; me aventuro a decir que un valor promedio por barrio sería una buena opción."
      ]
    },
    {
      "cell_type": "markdown",
      "metadata": {
        "id": "NrF9TbLPIRp7",
        "colab_type": "text"
      },
      "source": [
        "## Datos erróneos"
      ]
    },
    {
      "cell_type": "markdown",
      "metadata": {
        "id": "6YKySqiyIRqB",
        "colab_type": "text"
      },
      "source": [
        "El siguiente paso es analizar errores que puede llegar a haber en el dataset. \n",
        "\n",
        "Por ejemplo, la **superficie total no puede ser menor que la cubierta**. Si esto sucede, podemos optar por eliminar esas filas o intentar corregir el problema. Veamos en primer lugar si esto sucede.\n",
        "\n",
        "**9) Mostrá** cuantas instancias existen que tengan el problema de este dato erróneo y guardalas en una variable llamada `wrong_surface_rows`"
      ]
    },
    {
      "cell_type": "code",
      "metadata": {
        "id": "H3MkkrKDIRqF",
        "colab_type": "code",
        "outputId": "625779b9-feec-4f78-d3f5-07e2db7a9e07",
        "colab": {
          "base_uri": "https://localhost:8080/",
          "height": 609
        }
      },
      "source": [
        "# Mostrá en esta celda cuántas instancias tienen errores en la superficie\n",
        "\n",
        "wrong_surface_rows = df_filtered_w_n[df_filtered_w_n['surface_total_in_m2'] < df_filtered_w_n['surface_covered_in_m2']]\n",
        "wrong_surface_rows"
      ],
      "execution_count": 129,
      "outputs": [
        {
          "output_type": "execute_result",
          "data": {
            "text/html": [
              "<div>\n",
              "<style scoped>\n",
              "    .dataframe tbody tr th:only-of-type {\n",
              "        vertical-align: middle;\n",
              "    }\n",
              "\n",
              "    .dataframe tbody tr th {\n",
              "        vertical-align: top;\n",
              "    }\n",
              "\n",
              "    .dataframe thead th {\n",
              "        text-align: right;\n",
              "    }\n",
              "</style>\n",
              "<table border=\"1\" class=\"dataframe\">\n",
              "  <thead>\n",
              "    <tr style=\"text-align: right;\">\n",
              "      <th></th>\n",
              "      <th>created_on</th>\n",
              "      <th>operation</th>\n",
              "      <th>property_type</th>\n",
              "      <th>place_with_parent_names</th>\n",
              "      <th>lat-lon</th>\n",
              "      <th>lat</th>\n",
              "      <th>lon</th>\n",
              "      <th>price_aprox_usd</th>\n",
              "      <th>surface_total_in_m2</th>\n",
              "      <th>surface_covered_in_m2</th>\n",
              "      <th>price_usd_per_m2</th>\n",
              "      <th>floor</th>\n",
              "      <th>rooms</th>\n",
              "      <th>expenses</th>\n",
              "      <th>properati_url</th>\n",
              "      <th>barrio</th>\n",
              "      <th>comuna</th>\n",
              "    </tr>\n",
              "  </thead>\n",
              "  <tbody>\n",
              "    <tr>\n",
              "      <th>106</th>\n",
              "      <td>2017-09-07</td>\n",
              "      <td>sell</td>\n",
              "      <td>house</td>\n",
              "      <td>|Argentina|Capital Federal|Belgrano|</td>\n",
              "      <td>-34.566867,-58.444197</td>\n",
              "      <td>-34.566867</td>\n",
              "      <td>-58.444197</td>\n",
              "      <td>1650000.00</td>\n",
              "      <td>455.0</td>\n",
              "      <td>456.0</td>\n",
              "      <td>3626.373626</td>\n",
              "      <td>NaN</td>\n",
              "      <td>5.0</td>\n",
              "      <td>NaN</td>\n",
              "      <td>https://www.properati.com.ar/1ehbq_venta_casa_belgrano_suite_gimnasio_hidromasaje_jardin_lavadero_parrilla_patio_quincho_terraza_toilette_vestidor_luminoso_lujoso_garage_impecable_subte-linea-d_re-max-win</td>\n",
              "      <td>PALERMO</td>\n",
              "      <td>14.0</td>\n",
              "    </tr>\n",
              "    <tr>\n",
              "      <th>153</th>\n",
              "      <td>2017-09-12</td>\n",
              "      <td>sell</td>\n",
              "      <td>apartment</td>\n",
              "      <td>|Argentina|Capital Federal|Palermo|</td>\n",
              "      <td>-34.5830704,-58.4241896</td>\n",
              "      <td>-34.583070</td>\n",
              "      <td>-58.424190</td>\n",
              "      <td>140000.00</td>\n",
              "      <td>39.0</td>\n",
              "      <td>44.0</td>\n",
              "      <td>3589.743590</td>\n",
              "      <td>NaN</td>\n",
              "      <td>1.0</td>\n",
              "      <td>NaN</td>\n",
              "      <td>https://www.properati.com.ar/1en9l_venta_departamento_palermo_luminoso_estrenar_subte-linea-d_mavia-propiedades</td>\n",
              "      <td>PALERMO</td>\n",
              "      <td>14.0</td>\n",
              "    </tr>\n",
              "    <tr>\n",
              "      <th>935</th>\n",
              "      <td>2017-11-06</td>\n",
              "      <td>sell</td>\n",
              "      <td>apartment</td>\n",
              "      <td>|Argentina|Capital Federal|Palermo|</td>\n",
              "      <td>-34.5869532,-58.4189032</td>\n",
              "      <td>-34.586953</td>\n",
              "      <td>-58.418903</td>\n",
              "      <td>275000.00</td>\n",
              "      <td>13.0</td>\n",
              "      <td>79.0</td>\n",
              "      <td>21153.846154</td>\n",
              "      <td>1.0</td>\n",
              "      <td>4.0</td>\n",
              "      <td>NaN</td>\n",
              "      <td>https://www.properati.com.ar/1htrv_venta_departamento_palermo_scalabrini-ortiz-av-r-_2300_baulera_patio_toilette_dependencias_garage_bengochea-propiedades</td>\n",
              "      <td>PALERMO</td>\n",
              "      <td>14.0</td>\n",
              "    </tr>\n",
              "    <tr>\n",
              "      <th>1174</th>\n",
              "      <td>2017-11-22</td>\n",
              "      <td>sell</td>\n",
              "      <td>house</td>\n",
              "      <td>|Argentina|Capital Federal|Palermo|</td>\n",
              "      <td>-34.583652,-58.444111</td>\n",
              "      <td>-34.583652</td>\n",
              "      <td>-58.444111</td>\n",
              "      <td>930000.00</td>\n",
              "      <td>205.0</td>\n",
              "      <td>343.0</td>\n",
              "      <td>4536.585366</td>\n",
              "      <td>NaN</td>\n",
              "      <td>5.0</td>\n",
              "      <td>NaN</td>\n",
              "      <td>https://www.properati.com.ar/1ibt5_venta_casa_palermo_balcon_lavadero_parrilla_patio_terraza_garage_re-max-total-iv</td>\n",
              "      <td>PALERMO</td>\n",
              "      <td>14.0</td>\n",
              "    </tr>\n",
              "    <tr>\n",
              "      <th>1176</th>\n",
              "      <td>2017-11-22</td>\n",
              "      <td>sell</td>\n",
              "      <td>apartment</td>\n",
              "      <td>|Argentina|Capital Federal|Palermo|</td>\n",
              "      <td>-34.5821555519,-58.4230147059</td>\n",
              "      <td>-34.582156</td>\n",
              "      <td>-58.423015</td>\n",
              "      <td>297109.32</td>\n",
              "      <td>117.0</td>\n",
              "      <td>745.0</td>\n",
              "      <td>2539.395897</td>\n",
              "      <td>7.0</td>\n",
              "      <td>2.0</td>\n",
              "      <td>NaN</td>\n",
              "      <td>https://www.properati.com.ar/1ibu1_venta_departamento_palermo_thames_2400_subte-linea-d_narvaez-cia-walter-fabian-narvaez-csi-4169</td>\n",
              "      <td>PALERMO</td>\n",
              "      <td>14.0</td>\n",
              "    </tr>\n",
              "    <tr>\n",
              "      <th>...</th>\n",
              "      <td>...</td>\n",
              "      <td>...</td>\n",
              "      <td>...</td>\n",
              "      <td>...</td>\n",
              "      <td>...</td>\n",
              "      <td>...</td>\n",
              "      <td>...</td>\n",
              "      <td>...</td>\n",
              "      <td>...</td>\n",
              "      <td>...</td>\n",
              "      <td>...</td>\n",
              "      <td>...</td>\n",
              "      <td>...</td>\n",
              "      <td>...</td>\n",
              "      <td>...</td>\n",
              "      <td>...</td>\n",
              "      <td>...</td>\n",
              "    </tr>\n",
              "    <tr>\n",
              "      <th>17731</th>\n",
              "      <td>2018-01-27</td>\n",
              "      <td>sell</td>\n",
              "      <td>house</td>\n",
              "      <td>|Argentina|Capital Federal|Paternal|</td>\n",
              "      <td>-34.589874,-58.468107</td>\n",
              "      <td>-34.589874</td>\n",
              "      <td>-58.468107</td>\n",
              "      <td>290000.00</td>\n",
              "      <td>135.0</td>\n",
              "      <td>156.0</td>\n",
              "      <td>2148.148148</td>\n",
              "      <td>NaN</td>\n",
              "      <td>3.0</td>\n",
              "      <td>NaN</td>\n",
              "      <td>https://www.properati.com.ar/1k622_venta_casa_paternal_terraza_garage_subte-linea-b_re-max-bur-oacute</td>\n",
              "      <td>PATERNAL</td>\n",
              "      <td>15.0</td>\n",
              "    </tr>\n",
              "    <tr>\n",
              "      <th>18003</th>\n",
              "      <td>2017-08-30</td>\n",
              "      <td>sell</td>\n",
              "      <td>house</td>\n",
              "      <td>|Argentina|Capital Federal|Villa Real|</td>\n",
              "      <td>-34.62001,-58.522279</td>\n",
              "      <td>-34.620010</td>\n",
              "      <td>-58.522279</td>\n",
              "      <td>299000.00</td>\n",
              "      <td>100.0</td>\n",
              "      <td>180.0</td>\n",
              "      <td>2990.000000</td>\n",
              "      <td>NaN</td>\n",
              "      <td>6.0</td>\n",
              "      <td>NaN</td>\n",
              "      <td>https://www.properati.com.ar/1e2z7_venta_casa_villa-real_suite_hidromasaje_parrilla_patio_piscina_toilette_vestidor_luminoso_garage_apto-credito-hipotecario_re-max-parque</td>\n",
              "      <td>VILLA REAL</td>\n",
              "      <td>10.0</td>\n",
              "    </tr>\n",
              "    <tr>\n",
              "      <th>18153</th>\n",
              "      <td>2017-12-17</td>\n",
              "      <td>sell</td>\n",
              "      <td>house</td>\n",
              "      <td>|Argentina|Capital Federal|Belgrano|</td>\n",
              "      <td>-34.574536,-58.470279</td>\n",
              "      <td>-34.574536</td>\n",
              "      <td>-58.470279</td>\n",
              "      <td>1340000.00</td>\n",
              "      <td>541.0</td>\n",
              "      <td>650.0</td>\n",
              "      <td>2476.894640</td>\n",
              "      <td>NaN</td>\n",
              "      <td>11.0</td>\n",
              "      <td>NaN</td>\n",
              "      <td>https://www.properati.com.ar/1j210_venta_casa_belgrano_balcon_baulera_suite_jardin_lavadero_piscina_quincho_vestidor_garage_aire-acondicionado_re-max-liberty-ii</td>\n",
              "      <td>VILLA ORTUZAR</td>\n",
              "      <td>15.0</td>\n",
              "    </tr>\n",
              "    <tr>\n",
              "      <th>18694</th>\n",
              "      <td>2017-10-07</td>\n",
              "      <td>sell</td>\n",
              "      <td>apartment</td>\n",
              "      <td>|Argentina|Capital Federal|Coghlan|</td>\n",
              "      <td>-34.5637396,-58.4757468</td>\n",
              "      <td>-34.563740</td>\n",
              "      <td>-58.475747</td>\n",
              "      <td>85000.00</td>\n",
              "      <td>40.0</td>\n",
              "      <td>46.0</td>\n",
              "      <td>2125.000000</td>\n",
              "      <td>NaN</td>\n",
              "      <td>2.0</td>\n",
              "      <td>NaN</td>\n",
              "      <td>https://www.properati.com.ar/1g07v_venta_departamento_coghlan_balcon_lavadero_luminoso_inm-ugarte-propiedades</td>\n",
              "      <td>COGHLAN</td>\n",
              "      <td>12.0</td>\n",
              "    </tr>\n",
              "    <tr>\n",
              "      <th>18765</th>\n",
              "      <td>2018-01-08</td>\n",
              "      <td>sell</td>\n",
              "      <td>apartment</td>\n",
              "      <td>|Argentina|Capital Federal|Belgrano|</td>\n",
              "      <td>-34.561435,-58.467646</td>\n",
              "      <td>-34.561435</td>\n",
              "      <td>-58.467646</td>\n",
              "      <td>95000.00</td>\n",
              "      <td>27.0</td>\n",
              "      <td>28.0</td>\n",
              "      <td>3518.518519</td>\n",
              "      <td>8.0</td>\n",
              "      <td>1.0</td>\n",
              "      <td>NaN</td>\n",
              "      <td>https://www.properati.com.ar/1jc4n_venta_departamento_belgrano_gimnasio_lavadero_piscina_sum_amenities_re-max-ayres</td>\n",
              "      <td>COGHLAN</td>\n",
              "      <td>12.0</td>\n",
              "    </tr>\n",
              "  </tbody>\n",
              "</table>\n",
              "<p>73 rows × 17 columns</p>\n",
              "</div>"
            ],
            "text/plain": [
              "       created_on operation property_type  \\\n",
              "106    2017-09-07      sell         house   \n",
              "153    2017-09-12      sell     apartment   \n",
              "935    2017-11-06      sell     apartment   \n",
              "1174   2017-11-22      sell         house   \n",
              "1176   2017-11-22      sell     apartment   \n",
              "...           ...       ...           ...   \n",
              "17731  2018-01-27      sell         house   \n",
              "18003  2017-08-30      sell         house   \n",
              "18153  2017-12-17      sell         house   \n",
              "18694  2017-10-07      sell     apartment   \n",
              "18765  2018-01-08      sell     apartment   \n",
              "\n",
              "                      place_with_parent_names                        lat-lon  \\\n",
              "106      |Argentina|Capital Federal|Belgrano|          -34.566867,-58.444197   \n",
              "153       |Argentina|Capital Federal|Palermo|        -34.5830704,-58.4241896   \n",
              "935       |Argentina|Capital Federal|Palermo|        -34.5869532,-58.4189032   \n",
              "1174      |Argentina|Capital Federal|Palermo|          -34.583652,-58.444111   \n",
              "1176      |Argentina|Capital Federal|Palermo|  -34.5821555519,-58.4230147059   \n",
              "...                                       ...                            ...   \n",
              "17731    |Argentina|Capital Federal|Paternal|          -34.589874,-58.468107   \n",
              "18003  |Argentina|Capital Federal|Villa Real|           -34.62001,-58.522279   \n",
              "18153    |Argentina|Capital Federal|Belgrano|          -34.574536,-58.470279   \n",
              "18694     |Argentina|Capital Federal|Coghlan|        -34.5637396,-58.4757468   \n",
              "18765    |Argentina|Capital Federal|Belgrano|          -34.561435,-58.467646   \n",
              "\n",
              "             lat        lon  price_aprox_usd  surface_total_in_m2  \\\n",
              "106   -34.566867 -58.444197       1650000.00                455.0   \n",
              "153   -34.583070 -58.424190        140000.00                 39.0   \n",
              "935   -34.586953 -58.418903        275000.00                 13.0   \n",
              "1174  -34.583652 -58.444111        930000.00                205.0   \n",
              "1176  -34.582156 -58.423015        297109.32                117.0   \n",
              "...          ...        ...              ...                  ...   \n",
              "17731 -34.589874 -58.468107        290000.00                135.0   \n",
              "18003 -34.620010 -58.522279        299000.00                100.0   \n",
              "18153 -34.574536 -58.470279       1340000.00                541.0   \n",
              "18694 -34.563740 -58.475747         85000.00                 40.0   \n",
              "18765 -34.561435 -58.467646         95000.00                 27.0   \n",
              "\n",
              "       surface_covered_in_m2  price_usd_per_m2  floor  rooms  expenses  \\\n",
              "106                    456.0       3626.373626    NaN    5.0       NaN   \n",
              "153                     44.0       3589.743590    NaN    1.0       NaN   \n",
              "935                     79.0      21153.846154    1.0    4.0       NaN   \n",
              "1174                   343.0       4536.585366    NaN    5.0       NaN   \n",
              "1176                   745.0       2539.395897    7.0    2.0       NaN   \n",
              "...                      ...               ...    ...    ...       ...   \n",
              "17731                  156.0       2148.148148    NaN    3.0       NaN   \n",
              "18003                  180.0       2990.000000    NaN    6.0       NaN   \n",
              "18153                  650.0       2476.894640    NaN   11.0       NaN   \n",
              "18694                   46.0       2125.000000    NaN    2.0       NaN   \n",
              "18765                   28.0       3518.518519    8.0    1.0       NaN   \n",
              "\n",
              "                                                                                                                                                                                                      properati_url  \\\n",
              "106    https://www.properati.com.ar/1ehbq_venta_casa_belgrano_suite_gimnasio_hidromasaje_jardin_lavadero_parrilla_patio_quincho_terraza_toilette_vestidor_luminoso_lujoso_garage_impecable_subte-linea-d_re-max-win   \n",
              "153                                                                                                 https://www.properati.com.ar/1en9l_venta_departamento_palermo_luminoso_estrenar_subte-linea-d_mavia-propiedades   \n",
              "935                                                      https://www.properati.com.ar/1htrv_venta_departamento_palermo_scalabrini-ortiz-av-r-_2300_baulera_patio_toilette_dependencias_garage_bengochea-propiedades   \n",
              "1174                                                                                            https://www.properati.com.ar/1ibt5_venta_casa_palermo_balcon_lavadero_parrilla_patio_terraza_garage_re-max-total-iv   \n",
              "1176                                                                             https://www.properati.com.ar/1ibu1_venta_departamento_palermo_thames_2400_subte-linea-d_narvaez-cia-walter-fabian-narvaez-csi-4169   \n",
              "...                                                                                                                                                                                                             ...   \n",
              "17731                                                                                                         https://www.properati.com.ar/1k622_venta_casa_paternal_terraza_garage_subte-linea-b_re-max-bur-oacute   \n",
              "18003                                    https://www.properati.com.ar/1e2z7_venta_casa_villa-real_suite_hidromasaje_parrilla_patio_piscina_toilette_vestidor_luminoso_garage_apto-credito-hipotecario_re-max-parque   \n",
              "18153                                              https://www.properati.com.ar/1j210_venta_casa_belgrano_balcon_baulera_suite_jardin_lavadero_piscina_quincho_vestidor_garage_aire-acondicionado_re-max-liberty-ii   \n",
              "18694                                                                                                 https://www.properati.com.ar/1g07v_venta_departamento_coghlan_balcon_lavadero_luminoso_inm-ugarte-propiedades   \n",
              "18765                                                                                           https://www.properati.com.ar/1jc4n_venta_departamento_belgrano_gimnasio_lavadero_piscina_sum_amenities_re-max-ayres   \n",
              "\n",
              "              barrio  comuna  \n",
              "106          PALERMO    14.0  \n",
              "153          PALERMO    14.0  \n",
              "935          PALERMO    14.0  \n",
              "1174         PALERMO    14.0  \n",
              "1176         PALERMO    14.0  \n",
              "...              ...     ...  \n",
              "17731       PATERNAL    15.0  \n",
              "18003     VILLA REAL    10.0  \n",
              "18153  VILLA ORTUZAR    15.0  \n",
              "18694        COGHLAN    12.0  \n",
              "18765        COGHLAN    12.0  \n",
              "\n",
              "[73 rows x 17 columns]"
            ]
          },
          "metadata": {
            "tags": []
          },
          "execution_count": 129
        }
      ]
    },
    {
      "cell_type": "markdown",
      "metadata": {
        "id": "L0LkFciaIRqQ",
        "colab_type": "text"
      },
      "source": [
        "Proponemos no borrar estas instancias erróneas, sino intercambiar los valores de **superficie total** con **superficie cubierta** en caso de que se cumpla la condición mencionada."
      ]
    },
    {
      "cell_type": "code",
      "metadata": {
        "id": "2DTIXPWs6Wpv",
        "colab_type": "code",
        "colab": {}
      },
      "source": [
        "df_filtered = df_filtered_w_n"
      ],
      "execution_count": 0,
      "outputs": []
    },
    {
      "cell_type": "code",
      "metadata": {
        "id": "sE_fKM_8-6MC",
        "colab_type": "code",
        "colab": {}
      },
      "source": [
        "df_filtered.at[wrong_surface_rows.index, 'surface_total_in_m2'] = wrong_surface_rows.surface_covered_in_m2\n",
        "df_filtered.at[wrong_surface_rows.index, 'surface_covered_in_m2'] = wrong_surface_rows.surface_total_in_m2"
      ],
      "execution_count": 0,
      "outputs": []
    },
    {
      "cell_type": "markdown",
      "metadata": {
        "id": "u5hIAAV0IRqg",
        "colab_type": "text"
      },
      "source": [
        "Por otro lado, sucede que las inmobiliarias cuando no cuentan con las coordenadas reales de las propiedades utilizan valores que no son correctos. Por ejemplo, el punto centro de cada barrio o puntos de interés como el Obelisco. Esto puede afectar el análisis relacionado con la ubicación de cada propiedad.\n",
        "\n",
        "Veamos en primer lugar si hay coordenadas que se repiten."
      ]
    },
    {
      "cell_type": "code",
      "metadata": {
        "id": "0WYPVCD-IRql",
        "colab_type": "code",
        "outputId": "dcb331c9-f41b-467b-de71-2ece91ee6e17",
        "colab": {
          "base_uri": "https://localhost:8080/",
          "height": 221
        }
      },
      "source": [
        "conteo_puntos = df_filtered.groupby(['lat', 'lon']).size()\n",
        "conteo_puntos[conteo_puntos > 1].sort_values(ascending=False).head(10)"
      ],
      "execution_count": 132,
      "outputs": [
        {
          "output_type": "execute_result",
          "data": {
            "text/plain": [
              "lat         lon       \n",
              "-34.589546  -58.397364    149\n",
              "-34.571150  -58.423297    118\n",
              "-34.562084  -58.456686     77\n",
              "-34.620928  -58.445874     45\n",
              "-34.609821  -58.392606     36\n",
              "-34.597679  -58.443019     31\n",
              "-34.617719  -58.362056     31\n",
              "-34.621184  -58.373116     31\n",
              "-34.610122  -58.405941     31\n",
              "-34.598647  -58.439018     29\n",
              "dtype: int64"
            ]
          },
          "metadata": {
            "tags": []
          },
          "execution_count": 132
        }
      ]
    },
    {
      "cell_type": "markdown",
      "metadata": {
        "id": "hmYQHRveIRq2",
        "colab_type": "text"
      },
      "source": [
        "Por ejemplo, para el caso del tercer punto, se puede verificar que corresponde a la esquina de Av. Cabildo y Juramento.\n",
        "Nos quedamos entonces con las propiedades con coordenadas que se repitan hasta 5 veces."
      ]
    },
    {
      "cell_type": "code",
      "metadata": {
        "id": "d1NMQc6NIRq9",
        "colab_type": "code",
        "colab": {}
      },
      "source": [
        "conteo_puntos.name = 'conteo'\n",
        "\n",
        "df_filtered = df_filtered.join(conteo_puntos, on=['lat', 'lon'])\n",
        "\n",
        "df_filtered = df_filtered[df_filtered.conteo <= 5]\n"
      ],
      "execution_count": 0,
      "outputs": []
    },
    {
      "cell_type": "code",
      "metadata": {
        "id": "aK9jaGxxuW5L",
        "colab_type": "code",
        "colab": {
          "base_uri": "https://localhost:8080/",
          "height": 643
        },
        "outputId": "2c61cbbf-0ca0-4915-ef29-e393be9273d8"
      },
      "source": [
        "df_filtered"
      ],
      "execution_count": 61,
      "outputs": [
        {
          "output_type": "execute_result",
          "data": {
            "text/html": [
              "<div>\n",
              "<style scoped>\n",
              "    .dataframe tbody tr th:only-of-type {\n",
              "        vertical-align: middle;\n",
              "    }\n",
              "\n",
              "    .dataframe tbody tr th {\n",
              "        vertical-align: top;\n",
              "    }\n",
              "\n",
              "    .dataframe thead th {\n",
              "        text-align: right;\n",
              "    }\n",
              "</style>\n",
              "<table border=\"1\" class=\"dataframe\">\n",
              "  <thead>\n",
              "    <tr style=\"text-align: right;\">\n",
              "      <th></th>\n",
              "      <th>created_on</th>\n",
              "      <th>operation</th>\n",
              "      <th>property_type</th>\n",
              "      <th>place_with_parent_names</th>\n",
              "      <th>lat-lon</th>\n",
              "      <th>lat</th>\n",
              "      <th>lon</th>\n",
              "      <th>price_aprox_usd</th>\n",
              "      <th>surface_total_in_m2</th>\n",
              "      <th>surface_covered_in_m2</th>\n",
              "      <th>price_usd_per_m2</th>\n",
              "      <th>floor</th>\n",
              "      <th>rooms</th>\n",
              "      <th>expenses</th>\n",
              "      <th>properati_url</th>\n",
              "      <th>barrio</th>\n",
              "      <th>comuna</th>\n",
              "      <th>conteo</th>\n",
              "    </tr>\n",
              "  </thead>\n",
              "  <tbody>\n",
              "    <tr>\n",
              "      <th>18</th>\n",
              "      <td>2017-08-29</td>\n",
              "      <td>sell</td>\n",
              "      <td>apartment</td>\n",
              "      <td>|Argentina|Capital Federal|Palermo|</td>\n",
              "      <td>-34.588912403,-58.4134942185</td>\n",
              "      <td>-34.588912</td>\n",
              "      <td>-58.413494</td>\n",
              "      <td>340000.00</td>\n",
              "      <td>130.0</td>\n",
              "      <td>120.0</td>\n",
              "      <td>2615.384615</td>\n",
              "      <td>NaN</td>\n",
              "      <td>4.0</td>\n",
              "      <td>8000.0</td>\n",
              "      <td>https://www.properati.com.ar/1dzv6_venta_departamento_palermo_guemes_3600_balcon_suite_jardin_lavadero_luminoso_lujoso_dependencias_placard_doble-circulacion_subte-linea-d_luisio-propiedades-suc-virrey-del-pino-2378</td>\n",
              "      <td>PALERMO</td>\n",
              "      <td>14.0</td>\n",
              "      <td>1</td>\n",
              "    </tr>\n",
              "    <tr>\n",
              "      <th>19</th>\n",
              "      <td>2017-08-29</td>\n",
              "      <td>sell</td>\n",
              "      <td>apartment</td>\n",
              "      <td>|Argentina|Capital Federal|Palermo|</td>\n",
              "      <td>-34.5770327,-58.4233675</td>\n",
              "      <td>-34.577033</td>\n",
              "      <td>-58.423368</td>\n",
              "      <td>222000.00</td>\n",
              "      <td>52.0</td>\n",
              "      <td>48.0</td>\n",
              "      <td>4269.230769</td>\n",
              "      <td>NaN</td>\n",
              "      <td>1.0</td>\n",
              "      <td>NaN</td>\n",
              "      <td>https://www.properati.com.ar/1e05k_venta_departamento_palermo_juncal-al-4500_gimnasio_jardin_lavadero_parrilla_piscina_sum_aire-acondicionado_subte-linea-h_subte-linea-c_deptos-temporarios</td>\n",
              "      <td>PALERMO</td>\n",
              "      <td>14.0</td>\n",
              "      <td>1</td>\n",
              "    </tr>\n",
              "    <tr>\n",
              "      <th>22</th>\n",
              "      <td>2017-08-30</td>\n",
              "      <td>sell</td>\n",
              "      <td>house</td>\n",
              "      <td>|Argentina|Capital Federal|Palermo|Palermo Hollywood|</td>\n",
              "      <td>-34.5793535,-58.4364489</td>\n",
              "      <td>-34.579354</td>\n",
              "      <td>-58.436449</td>\n",
              "      <td>1200000.00</td>\n",
              "      <td>532.0</td>\n",
              "      <td>334.0</td>\n",
              "      <td>2255.639098</td>\n",
              "      <td>NaN</td>\n",
              "      <td>6.0</td>\n",
              "      <td>NaN</td>\n",
              "      <td>https://www.properati.com.ar/1e1ve_venta_casa_palermo-hollywood_jardin_lavadero_piscina_luminoso_vista_garage_nexo-propiedades_h0z</td>\n",
              "      <td>PALERMO</td>\n",
              "      <td>14.0</td>\n",
              "      <td>1</td>\n",
              "    </tr>\n",
              "    <tr>\n",
              "      <th>24</th>\n",
              "      <td>2017-08-30</td>\n",
              "      <td>sell</td>\n",
              "      <td>apartment</td>\n",
              "      <td>|Argentina|Capital Federal|Palermo|Palermo Hollywood|</td>\n",
              "      <td>-34.5809281,-58.4404321</td>\n",
              "      <td>-34.580928</td>\n",
              "      <td>-58.440432</td>\n",
              "      <td>270000.00</td>\n",
              "      <td>67.0</td>\n",
              "      <td>64.0</td>\n",
              "      <td>4029.850746</td>\n",
              "      <td>NaN</td>\n",
              "      <td>3.0</td>\n",
              "      <td>3900.0</td>\n",
              "      <td>https://www.properati.com.ar/1e1x0_venta_departamento_palermo-hollywood_arevalo_1700_balcon_toilette_luminoso_apto-credito-hipotecario_yankel-group</td>\n",
              "      <td>PALERMO</td>\n",
              "      <td>14.0</td>\n",
              "      <td>1</td>\n",
              "    </tr>\n",
              "    <tr>\n",
              "      <th>29</th>\n",
              "      <td>2017-08-30</td>\n",
              "      <td>sell</td>\n",
              "      <td>apartment</td>\n",
              "      <td>|Argentina|Capital Federal|Palermo|</td>\n",
              "      <td>-34.594251,-58.4166447</td>\n",
              "      <td>-34.594251</td>\n",
              "      <td>-58.416645</td>\n",
              "      <td>250000.00</td>\n",
              "      <td>67.0</td>\n",
              "      <td>60.0</td>\n",
              "      <td>3731.343284</td>\n",
              "      <td>NaN</td>\n",
              "      <td>2.0</td>\n",
              "      <td>NaN</td>\n",
              "      <td>https://www.properati.com.ar/1e2mz_venta_departamento_palermo_balcon_lavadero_parrilla_piscina_aire-acondicionado_apto-credito-hipotecario_ageo-propiedades_dwr</td>\n",
              "      <td>PALERMO</td>\n",
              "      <td>14.0</td>\n",
              "      <td>1</td>\n",
              "    </tr>\n",
              "    <tr>\n",
              "      <th>...</th>\n",
              "      <td>...</td>\n",
              "      <td>...</td>\n",
              "      <td>...</td>\n",
              "      <td>...</td>\n",
              "      <td>...</td>\n",
              "      <td>...</td>\n",
              "      <td>...</td>\n",
              "      <td>...</td>\n",
              "      <td>...</td>\n",
              "      <td>...</td>\n",
              "      <td>...</td>\n",
              "      <td>...</td>\n",
              "      <td>...</td>\n",
              "      <td>...</td>\n",
              "      <td>...</td>\n",
              "      <td>...</td>\n",
              "      <td>...</td>\n",
              "      <td>...</td>\n",
              "    </tr>\n",
              "    <tr>\n",
              "      <th>18973</th>\n",
              "      <td>2017-12-17</td>\n",
              "      <td>sell</td>\n",
              "      <td>apartment</td>\n",
              "      <td>|Argentina|Capital Federal|Villa Soldati|</td>\n",
              "      <td>-34.66897,-58.443897</td>\n",
              "      <td>-34.668970</td>\n",
              "      <td>-58.443897</td>\n",
              "      <td>49000.00</td>\n",
              "      <td>75.0</td>\n",
              "      <td>75.0</td>\n",
              "      <td>653.333333</td>\n",
              "      <td>NaN</td>\n",
              "      <td>4.0</td>\n",
              "      <td>NaN</td>\n",
              "      <td>https://www.properati.com.ar/1j22x_venta_departamento_villa-soldati_re-max-parque</td>\n",
              "      <td>VILLA SOLDATI</td>\n",
              "      <td>8.0</td>\n",
              "      <td>1</td>\n",
              "    </tr>\n",
              "    <tr>\n",
              "      <th>18974</th>\n",
              "      <td>2018-01-08</td>\n",
              "      <td>sell</td>\n",
              "      <td>apartment</td>\n",
              "      <td>|Argentina|Capital Federal|Villa Soldati|</td>\n",
              "      <td>-34.668741,-58.443146</td>\n",
              "      <td>-34.668741</td>\n",
              "      <td>-58.443146</td>\n",
              "      <td>60000.00</td>\n",
              "      <td>55.0</td>\n",
              "      <td>55.0</td>\n",
              "      <td>1090.909091</td>\n",
              "      <td>NaN</td>\n",
              "      <td>3.0</td>\n",
              "      <td>NaN</td>\n",
              "      <td>https://www.properati.com.ar/1jcpm_venta_departamento_villa-soldati_roca-cnel-av-_3500_subte-premetro_re-max-parque</td>\n",
              "      <td>VILLA SOLDATI</td>\n",
              "      <td>8.0</td>\n",
              "      <td>1</td>\n",
              "    </tr>\n",
              "    <tr>\n",
              "      <th>18975</th>\n",
              "      <td>2018-01-23</td>\n",
              "      <td>sell</td>\n",
              "      <td>house</td>\n",
              "      <td>|Argentina|Capital Federal|Villa Soldati|</td>\n",
              "      <td>-34.66417,-58.443317</td>\n",
              "      <td>-34.664170</td>\n",
              "      <td>-58.443317</td>\n",
              "      <td>99000.00</td>\n",
              "      <td>115.0</td>\n",
              "      <td>82.0</td>\n",
              "      <td>860.869565</td>\n",
              "      <td>NaN</td>\n",
              "      <td>3.0</td>\n",
              "      <td>NaN</td>\n",
              "      <td>https://www.properati.com.ar/1k1hs_venta_casa_villa-soldati_lavadero_parrilla_terraza_garage_placard_subte-premetro_re-max-acci-oacute-n</td>\n",
              "      <td>VILLA SOLDATI</td>\n",
              "      <td>8.0</td>\n",
              "      <td>1</td>\n",
              "    </tr>\n",
              "    <tr>\n",
              "      <th>18977</th>\n",
              "      <td>2018-01-27</td>\n",
              "      <td>sell</td>\n",
              "      <td>apartment</td>\n",
              "      <td>|Argentina|Capital Federal|Villa Soldati|</td>\n",
              "      <td>-34.665005,-58.443041</td>\n",
              "      <td>-34.665005</td>\n",
              "      <td>-58.443041</td>\n",
              "      <td>50433.01</td>\n",
              "      <td>45.0</td>\n",
              "      <td>45.0</td>\n",
              "      <td>1120.733556</td>\n",
              "      <td>NaN</td>\n",
              "      <td>3.0</td>\n",
              "      <td>NaN</td>\n",
              "      <td>https://www.properati.com.ar/1k5v0_venta_departamento_villa-soldati_lavadero_subte-premetro_re-max-ayres</td>\n",
              "      <td>VILLA SOLDATI</td>\n",
              "      <td>8.0</td>\n",
              "      <td>1</td>\n",
              "    </tr>\n",
              "    <tr>\n",
              "      <th>18978</th>\n",
              "      <td>2018-01-27</td>\n",
              "      <td>sell</td>\n",
              "      <td>apartment</td>\n",
              "      <td>|Argentina|Capital Federal|Villa Lugano|</td>\n",
              "      <td>-34.664283,-58.469604</td>\n",
              "      <td>-34.664283</td>\n",
              "      <td>-58.469604</td>\n",
              "      <td>75000.00</td>\n",
              "      <td>60.0</td>\n",
              "      <td>58.0</td>\n",
              "      <td>1250.000000</td>\n",
              "      <td>9.0</td>\n",
              "      <td>3.0</td>\n",
              "      <td>NaN</td>\n",
              "      <td>https://www.properati.com.ar/1k5x2_venta_departamento_villa-lugano_balcon_lavadero_sum_re-max-accion-ii</td>\n",
              "      <td>VILLA SOLDATI</td>\n",
              "      <td>8.0</td>\n",
              "      <td>1</td>\n",
              "    </tr>\n",
              "  </tbody>\n",
              "</table>\n",
              "<p>10523 rows × 18 columns</p>\n",
              "</div>"
            ],
            "text/plain": [
              "      created_on operation property_type  \\\n",
              "18    2017-08-29      sell     apartment   \n",
              "19    2017-08-29      sell     apartment   \n",
              "22    2017-08-30      sell         house   \n",
              "24    2017-08-30      sell     apartment   \n",
              "29    2017-08-30      sell     apartment   \n",
              "...          ...       ...           ...   \n",
              "18973 2017-12-17      sell     apartment   \n",
              "18974 2018-01-08      sell     apartment   \n",
              "18975 2018-01-23      sell         house   \n",
              "18977 2018-01-27      sell     apartment   \n",
              "18978 2018-01-27      sell     apartment   \n",
              "\n",
              "                                     place_with_parent_names  \\\n",
              "18                       |Argentina|Capital Federal|Palermo|   \n",
              "19                       |Argentina|Capital Federal|Palermo|   \n",
              "22     |Argentina|Capital Federal|Palermo|Palermo Hollywood|   \n",
              "24     |Argentina|Capital Federal|Palermo|Palermo Hollywood|   \n",
              "29                       |Argentina|Capital Federal|Palermo|   \n",
              "...                                                      ...   \n",
              "18973              |Argentina|Capital Federal|Villa Soldati|   \n",
              "18974              |Argentina|Capital Federal|Villa Soldati|   \n",
              "18975              |Argentina|Capital Federal|Villa Soldati|   \n",
              "18977              |Argentina|Capital Federal|Villa Soldati|   \n",
              "18978               |Argentina|Capital Federal|Villa Lugano|   \n",
              "\n",
              "                            lat-lon        lat        lon  price_aprox_usd  \\\n",
              "18     -34.588912403,-58.4134942185 -34.588912 -58.413494        340000.00   \n",
              "19          -34.5770327,-58.4233675 -34.577033 -58.423368        222000.00   \n",
              "22          -34.5793535,-58.4364489 -34.579354 -58.436449       1200000.00   \n",
              "24          -34.5809281,-58.4404321 -34.580928 -58.440432        270000.00   \n",
              "29           -34.594251,-58.4166447 -34.594251 -58.416645        250000.00   \n",
              "...                             ...        ...        ...              ...   \n",
              "18973          -34.66897,-58.443897 -34.668970 -58.443897         49000.00   \n",
              "18974         -34.668741,-58.443146 -34.668741 -58.443146         60000.00   \n",
              "18975          -34.66417,-58.443317 -34.664170 -58.443317         99000.00   \n",
              "18977         -34.665005,-58.443041 -34.665005 -58.443041         50433.01   \n",
              "18978         -34.664283,-58.469604 -34.664283 -58.469604         75000.00   \n",
              "\n",
              "       surface_total_in_m2  surface_covered_in_m2  price_usd_per_m2  floor  \\\n",
              "18                   130.0                  120.0       2615.384615    NaN   \n",
              "19                    52.0                   48.0       4269.230769    NaN   \n",
              "22                   532.0                  334.0       2255.639098    NaN   \n",
              "24                    67.0                   64.0       4029.850746    NaN   \n",
              "29                    67.0                   60.0       3731.343284    NaN   \n",
              "...                    ...                    ...               ...    ...   \n",
              "18973                 75.0                   75.0        653.333333    NaN   \n",
              "18974                 55.0                   55.0       1090.909091    NaN   \n",
              "18975                115.0                   82.0        860.869565    NaN   \n",
              "18977                 45.0                   45.0       1120.733556    NaN   \n",
              "18978                 60.0                   58.0       1250.000000    9.0   \n",
              "\n",
              "       rooms  expenses  \\\n",
              "18       4.0    8000.0   \n",
              "19       1.0       NaN   \n",
              "22       6.0       NaN   \n",
              "24       3.0    3900.0   \n",
              "29       2.0       NaN   \n",
              "...      ...       ...   \n",
              "18973    4.0       NaN   \n",
              "18974    3.0       NaN   \n",
              "18975    3.0       NaN   \n",
              "18977    3.0       NaN   \n",
              "18978    3.0       NaN   \n",
              "\n",
              "                                                                                                                                                                                                                 properati_url  \\\n",
              "18     https://www.properati.com.ar/1dzv6_venta_departamento_palermo_guemes_3600_balcon_suite_jardin_lavadero_luminoso_lujoso_dependencias_placard_doble-circulacion_subte-linea-d_luisio-propiedades-suc-virrey-del-pino-2378   \n",
              "19                                https://www.properati.com.ar/1e05k_venta_departamento_palermo_juncal-al-4500_gimnasio_jardin_lavadero_parrilla_piscina_sum_aire-acondicionado_subte-linea-h_subte-linea-c_deptos-temporarios   \n",
              "22                                                                                          https://www.properati.com.ar/1e1ve_venta_casa_palermo-hollywood_jardin_lavadero_piscina_luminoso_vista_garage_nexo-propiedades_h0z   \n",
              "24                                                                         https://www.properati.com.ar/1e1x0_venta_departamento_palermo-hollywood_arevalo_1700_balcon_toilette_luminoso_apto-credito-hipotecario_yankel-group   \n",
              "29                                                             https://www.properati.com.ar/1e2mz_venta_departamento_palermo_balcon_lavadero_parrilla_piscina_aire-acondicionado_apto-credito-hipotecario_ageo-propiedades_dwr   \n",
              "...                                                                                                                                                                                                                        ...   \n",
              "18973                                                                                                                                        https://www.properati.com.ar/1j22x_venta_departamento_villa-soldati_re-max-parque   \n",
              "18974                                                                                                      https://www.properati.com.ar/1jcpm_venta_departamento_villa-soldati_roca-cnel-av-_3500_subte-premetro_re-max-parque   \n",
              "18975                                                                                 https://www.properati.com.ar/1k1hs_venta_casa_villa-soldati_lavadero_parrilla_terraza_garage_placard_subte-premetro_re-max-acci-oacute-n   \n",
              "18977                                                                                                                 https://www.properati.com.ar/1k5v0_venta_departamento_villa-soldati_lavadero_subte-premetro_re-max-ayres   \n",
              "18978                                                                                                                  https://www.properati.com.ar/1k5x2_venta_departamento_villa-lugano_balcon_lavadero_sum_re-max-accion-ii   \n",
              "\n",
              "              barrio  comuna  conteo  \n",
              "18           PALERMO    14.0       1  \n",
              "19           PALERMO    14.0       1  \n",
              "22           PALERMO    14.0       1  \n",
              "24           PALERMO    14.0       1  \n",
              "29           PALERMO    14.0       1  \n",
              "...              ...     ...     ...  \n",
              "18973  VILLA SOLDATI     8.0       1  \n",
              "18974  VILLA SOLDATI     8.0       1  \n",
              "18975  VILLA SOLDATI     8.0       1  \n",
              "18977  VILLA SOLDATI     8.0       1  \n",
              "18978  VILLA SOLDATI     8.0       1  \n",
              "\n",
              "[10523 rows x 18 columns]"
            ]
          },
          "metadata": {
            "tags": []
          },
          "execution_count": 61
        }
      ]
    },
    {
      "cell_type": "markdown",
      "metadata": {
        "id": "aF6GIzSLIRrL",
        "colab_type": "text"
      },
      "source": [
        "Eliminamos el atributo `conteo` dado que ya no nos sirve."
      ]
    },
    {
      "cell_type": "code",
      "metadata": {
        "id": "kVLWVYKDIRrO",
        "colab_type": "code",
        "colab": {}
      },
      "source": [
        "df_filtered.drop('conteo', inplace=True, axis=1)"
      ],
      "execution_count": 0,
      "outputs": []
    },
    {
      "cell_type": "code",
      "metadata": {
        "id": "GInsRDTdupjp",
        "colab_type": "code",
        "colab": {
          "base_uri": "https://localhost:8080/",
          "height": 34
        },
        "outputId": "ca5b85d7-b12e-4c34-b03c-4b5f4194fd1c"
      },
      "source": [
        "# verificar que se haya borrado el atributo\n",
        "df_filtered.shape"
      ],
      "execution_count": 135,
      "outputs": [
        {
          "output_type": "execute_result",
          "data": {
            "text/plain": [
              "(10523, 17)"
            ]
          },
          "metadata": {
            "tags": []
          },
          "execution_count": 135
        }
      ]
    },
    {
      "cell_type": "markdown",
      "metadata": {
        "id": "SQc4UyLjIRrb",
        "colab_type": "text"
      },
      "source": [
        "## Estudiando los barrios"
      ]
    },
    {
      "cell_type": "markdown",
      "metadata": {
        "id": "lXde14XtIRrf",
        "colab_type": "text"
      },
      "source": [
        "### Barrios con más edificios y barrios con más casas\n",
        "Al saber qué barrios son los que tienen más cantidad de edificios en venta y cuáles son los que tienen más casas podemos darnos una idea de qué tipo de barrio es. Si es más residencial, con más población, poder adquisitivo, etc. \n",
        "Para eso vamos a empezar calculando los porcentajes de cada tipo de propiedad según el barrio."
      ]
    },
    {
      "cell_type": "code",
      "metadata": {
        "id": "yiEWqTZJIRrj",
        "colab_type": "code",
        "colab": {
          "base_uri": "https://localhost:8080/",
          "height": 102
        },
        "outputId": "c8e13ecd-1ffc-40ac-8975-8bafbecab847"
      },
      "source": [
        "total_propiedades = df_filtered.groupby('barrio')['property_type'].count().values\n",
        "total_propiedades"
      ],
      "execution_count": 137,
      "outputs": [
        {
          "output_type": "execute_result",
          "data": {
            "text/plain": [
              "array([  35,  480,  558,  136,  736,   94,   91,  585,  114,   76,  190,\n",
              "        152,  449,   91,  120,   80,  196,   81,   36,  273, 1599,   66,\n",
              "        113,   60,   66,   66,  210, 1027,  408,  178,  124,  273,  123,\n",
              "         72,   45,  385,  108,  184,   79,   66,   78,  107,   83,   28,\n",
              "          9,   47,   11,  335])"
            ]
          },
          "metadata": {
            "tags": []
          },
          "execution_count": 137
        }
      ]
    },
    {
      "cell_type": "code",
      "metadata": {
        "id": "2Lbol-AwIRru",
        "colab_type": "code",
        "colab": {}
      },
      "source": [
        "porcentaje_casas_ph = df_filtered[df_filtered.property_type.isin(['PH', 'house'])].groupby('barrio').count().property_type/total_propiedades\n",
        "porcentaje_edificios = df_filtered[df_filtered.property_type == 'apartment'].groupby('barrio').count().property_type/total_propiedades"
      ],
      "execution_count": 0,
      "outputs": []
    },
    {
      "cell_type": "code",
      "metadata": {
        "id": "ghyeGZUmIRr7",
        "colab_type": "code",
        "colab": {
          "base_uri": "https://localhost:8080/",
          "height": 289
        },
        "outputId": "87a03d69-e9a1-42b1-de49-cea4aa54c17a"
      },
      "source": [
        "print(\"Barrios con mayor porcentaje de edificios: \\n\", porcentaje_edificios.sort_values()[::-1][:5])\n",
        "print(\"Barrios con mayor porcentaje de casas y phs: \\n \", porcentaje_casas_ph.sort_values()[::-1][:5])"
      ],
      "execution_count": 139,
      "outputs": [
        {
          "output_type": "stream",
          "text": [
            "Barrios con mayor porcentaje de edificios: \n",
            " barrio\n",
            "PUERTO MADERO    0.995238\n",
            "RETIRO           0.992647\n",
            "SAN NICOLAS      0.989011\n",
            "RECOLETA         0.987342\n",
            "BELGRANO         0.952446\n",
            "Name: property_type, dtype: float64\n",
            "Barrios con mayor porcentaje de casas y phs: \n",
            "  barrio\n",
            "VERSALLES            0.622222\n",
            "MATADEROS            0.612500\n",
            "PARQUE AVELLANEDA    0.560606\n",
            "VILLA RIACHUELO      0.555556\n",
            "VILLA REAL           0.500000\n",
            "Name: property_type, dtype: float64\n"
          ],
          "name": "stdout"
        }
      ]
    },
    {
      "cell_type": "markdown",
      "metadata": {
        "id": "fYZzO8TVIRsI",
        "colab_type": "text"
      },
      "source": [
        "Para darnos una idea de las diferencias entre los porcentajes de edificios y casas en estos barrios, vamos a graficarlos\n",
        "en forma de torta."
      ]
    },
    {
      "cell_type": "code",
      "metadata": {
        "id": "a2cyvefNIRsL",
        "colab_type": "code",
        "colab": {
          "base_uri": "https://localhost:8080/",
          "height": 607
        },
        "outputId": "e308c6ca-fcf3-4432-999a-2b191e21fdbd"
      },
      "source": [
        "barrios_casas = porcentaje_casas_ph.sort_values()[::-1][:5].index\n",
        "barrios_edificios = porcentaje_edificios.sort_values()[::-1][:5].index\n",
        "fig, axs = plt.subplots(1,2,figsize=(14,7))\n",
        "df_filtered[df_filtered.barrio.isin(barrios_edificios)].property_type.value_counts().plot(x=None,y=None, kind='pie', startangle=30, ax=axs[0],autopct='%1.2f%%')\n",
        "df_filtered[df_filtered.barrio.isin(barrios_casas)].property_type.value_counts().plot(x=None,y=None, kind='pie', ax=axs[1],autopct='%1.2f%%')"
      ],
      "execution_count": 140,
      "outputs": [
        {
          "output_type": "stream",
          "text": [
            "/usr/local/lib/python3.6/dist-packages/pandas/plotting/_matplotlib/tools.py:307: MatplotlibDeprecationWarning: \n",
            "The rowNum attribute was deprecated in Matplotlib 3.2 and will be removed two minor releases later. Use ax.get_subplotspec().rowspan.start instead.\n",
            "  layout[ax.rowNum, ax.colNum] = ax.get_visible()\n",
            "/usr/local/lib/python3.6/dist-packages/pandas/plotting/_matplotlib/tools.py:307: MatplotlibDeprecationWarning: \n",
            "The colNum attribute was deprecated in Matplotlib 3.2 and will be removed two minor releases later. Use ax.get_subplotspec().colspan.start instead.\n",
            "  layout[ax.rowNum, ax.colNum] = ax.get_visible()\n",
            "/usr/local/lib/python3.6/dist-packages/pandas/plotting/_matplotlib/tools.py:313: MatplotlibDeprecationWarning: \n",
            "The rowNum attribute was deprecated in Matplotlib 3.2 and will be removed two minor releases later. Use ax.get_subplotspec().rowspan.start instead.\n",
            "  if not layout[ax.rowNum + 1, ax.colNum]:\n",
            "/usr/local/lib/python3.6/dist-packages/pandas/plotting/_matplotlib/tools.py:313: MatplotlibDeprecationWarning: \n",
            "The colNum attribute was deprecated in Matplotlib 3.2 and will be removed two minor releases later. Use ax.get_subplotspec().colspan.start instead.\n",
            "  if not layout[ax.rowNum + 1, ax.colNum]:\n"
          ],
          "name": "stderr"
        },
        {
          "output_type": "execute_result",
          "data": {
            "text/plain": [
              "<matplotlib.axes._subplots.AxesSubplot at 0x7f067369bf28>"
            ]
          },
          "metadata": {
            "tags": []
          },
          "execution_count": 140
        },
        {
          "output_type": "display_data",
          "data": {
            "image/png": "[encoded data removed]",
            "text/plain": [
              "<Figure size 1008x504 with 2 Axes>"
            ]
          },
          "metadata": {
            "tags": []
          }
        }
      ]
    },
    {
      "cell_type": "markdown",
      "metadata": {
        "id": "Wb2XPmBgIRsc",
        "colab_type": "text"
      },
      "source": [
        "### Barrios más caros y más baratos"
      ]
    },
    {
      "cell_type": "markdown",
      "metadata": {
        "id": "h4mrcOohIRsf",
        "colab_type": "text"
      },
      "source": [
        "Veamos primero la distribución del precio por metro cuadrado para todo el dataset. De esta manera, vamos a remover valores que consideremos extremos.\n",
        "\n",
        "En el siguiente proyecto vamos a volver sobre este tema con más profundidad.\n",
        "\n",
        "**10)** Tomando el atributo `price_usd_per_m2` **calculá** su **mínimo**, **máximo**, **promedio (mean)**, **mediana (median)** y **desvío estándar (std)**"
      ]
    },
    {
      "cell_type": "code",
      "metadata": {
        "id": "uuZPGUjdIRsj",
        "colab_type": "code",
        "colab": {
          "base_uri": "https://localhost:8080/",
          "height": 170
        },
        "outputId": "4b79b87d-a1b7-4fb3-f7c9-ab479bbed536"
      },
      "source": [
        "# Mostrá en esta celda los cálculos (Forma rápida con el método describe)\n",
        "\n",
        "df_filtered.price_usd_per_m2.describe()"
      ],
      "execution_count": 141,
      "outputs": [
        {
          "output_type": "execute_result",
          "data": {
            "text/plain": [
              "count     10523.000000\n",
              "mean       2785.655144\n",
              "std        1997.772174\n",
              "min           0.958333\n",
              "25%        2039.289915\n",
              "50%        2588.235294\n",
              "75%        3203.982564\n",
              "max      142450.141026\n",
              "Name: price_usd_per_m2, dtype: float64"
            ]
          },
          "metadata": {
            "tags": []
          },
          "execution_count": 141
        }
      ]
    },
    {
      "cell_type": "code",
      "metadata": {
        "id": "NZXv6rUiyHOI",
        "colab_type": "code",
        "colab": {
          "base_uri": "https://localhost:8080/",
          "height": 102
        },
        "outputId": "b6545b85-2faa-465b-a578-2012898593de"
      },
      "source": [
        "# Mostrá en esta celda los cálculos (Forma manual)\n",
        "\n",
        "minimo = df_filtered.price_usd_per_m2.min()\n",
        "maximo = df_filtered.price_usd_per_m2.max()\n",
        "media = df_filtered.price_usd_per_m2.mean()\n",
        "mediana = df_filtered.price_usd_per_m2.median()\n",
        "desvest = df_filtered.price_usd_per_m2.std()\n",
        "\n",
        "print('Máximo: {a}\\nMínimo: {b}\\nMedia: {c}\\nMediana: {d}\\nDesviación Estándar: {e}'.format(a=maximo, b=minimo, c=media, d=mediana, e=desvest))"
      ],
      "execution_count": 142,
      "outputs": [
        {
          "output_type": "stream",
          "text": [
            "Máximo: 142450.14102564106\n",
            "Mínimo: 0.9583333333333334\n",
            "Media: 2785.6551438537067\n",
            "Mediana: 2588.2352941176473\n",
            "Desviación Estándar: 1997.7721743224924\n"
          ],
          "name": "stdout"
        }
      ]
    },
    {
      "cell_type": "markdown",
      "metadata": {
        "id": "5Kmo5eXLIRsv",
        "colab_type": "text"
      },
      "source": [
        "También podemos calcular otros estadísticos como los cuartiles. \n",
        "\n",
        "**11) Mostrá** el **primer y tercer cuartil** y luego también el **rango intercuartilíco**"
      ]
    },
    {
      "cell_type": "code",
      "metadata": {
        "id": "qclrYIC6IRsz",
        "colab_type": "code",
        "colab": {
          "base_uri": "https://localhost:8080/",
          "height": 68
        },
        "outputId": "c572da58-a61a-464b-a50c-e312091ad0ee"
      },
      "source": [
        "# Mostrá los cuartiles en esta celda\n",
        "\n",
        "df_filtered.price_usd_per_m2.quantile([0.25, 0.75])"
      ],
      "execution_count": 143,
      "outputs": [
        {
          "output_type": "execute_result",
          "data": {
            "text/plain": [
              "0.25    2039.289915\n",
              "0.75    3203.982564\n",
              "Name: price_usd_per_m2, dtype: float64"
            ]
          },
          "metadata": {
            "tags": []
          },
          "execution_count": 143
        }
      ]
    },
    {
      "cell_type": "code",
      "metadata": {
        "id": "j3ZANA8-65tZ",
        "colab_type": "code",
        "colab": {
          "base_uri": "https://localhost:8080/",
          "height": 34
        },
        "outputId": "d9b4645c-83e8-4afe-cdf4-4d9a0d5ace91"
      },
      "source": [
        "# Rango intercuartílico\n",
        "\n",
        "Q1 = df_filtered.price_usd_per_m2.quantile(0.25)\n",
        "Q3 = df_filtered.price_usd_per_m2.quantile(0.75)\n",
        "Rango = Q3 - Q1\n",
        "Rango"
      ],
      "execution_count": 144,
      "outputs": [
        {
          "output_type": "execute_result",
          "data": {
            "text/plain": [
              "1164.6926491683844"
            ]
          },
          "metadata": {
            "tags": []
          },
          "execution_count": 144
        }
      ]
    },
    {
      "cell_type": "markdown",
      "metadata": {
        "id": "CP7Vh8CrIRs-",
        "colab_type": "text"
      },
      "source": [
        "### Quitando valores extremos\n",
        "Eliminemos aquellas observaciones cuyo precio por metro cuadrado este fuera de los percentiles 10 y 90. De este modo intentaremos remover valores extremos de una manera sencilla para tener un análisis más robusto."
      ]
    },
    {
      "cell_type": "code",
      "metadata": {
        "id": "RDfCd42zIRtE",
        "colab_type": "code",
        "colab": {}
      },
      "source": [
        "p10 = np.percentile(df_filtered.price_usd_per_m2, 10)\n",
        "p90 = np.percentile(df_filtered.price_usd_per_m2, 90)\n",
        "df_filtered = df_filtered[(df_filtered.price_usd_per_m2 >= p10) & (df_filtered.price_usd_per_m2 <= p90)]"
      ],
      "execution_count": 0,
      "outputs": []
    },
    {
      "cell_type": "markdown",
      "metadata": {
        "id": "8ydaQeBMIRtR",
        "colab_type": "text"
      },
      "source": [
        "A partir de quitar estos valores van a cambiar los estadísticos que calculamos.\n",
        "\n",
        "**12) Volvé a calcular** los mismos estadísticos (min, max, promedio, etc) para ver los cambios.\n",
        "¿Por qué será que la **mediana** no cambia?\n",
        "\n",
        "R/ La mediana no debería cambiar ya que los valores que se removieron a través del filtro fueron valores porcentuales con respecto a la mediana por esa razón; no cambiará"
      ]
    },
    {
      "cell_type": "code",
      "metadata": {
        "id": "zJK44ZK_IRtY",
        "colab_type": "code",
        "colab": {
          "base_uri": "https://localhost:8080/",
          "height": 102
        },
        "outputId": "500adbaa-654b-44b6-b27a-e089f3ce6aff"
      },
      "source": [
        "# Realizá los calculos en esta celda\n",
        "\n",
        "minimo = df_filtered.price_usd_per_m2.min()\n",
        "maximo = df_filtered.price_usd_per_m2.max()\n",
        "media = df_filtered.price_usd_per_m2.mean()\n",
        "mediana = df_filtered.price_usd_per_m2.median()\n",
        "desvest = df_filtered.price_usd_per_m2.std()\n",
        "\n",
        "print('Máximo: {a}\\nMínimo: {b}\\nMedia: {c}\\nMediana: {d}\\nDesviación Estándar: {e}'.format(a=maximo, b=minimo, c=media, d=mediana, e=desvest))"
      ],
      "execution_count": 146,
      "outputs": [
        {
          "output_type": "stream",
          "text": [
            "Máximo: 4095.890410958904\n",
            "Mínimo: 1552.9411764705883\n",
            "Media: 2632.2125686918466\n",
            "Mediana: 2588.2352941176473\n",
            "Desviación Estándar: 607.7151385906491\n"
          ],
          "name": "stdout"
        }
      ]
    },
    {
      "cell_type": "markdown",
      "metadata": {
        "id": "WDFdT2sMIRtj",
        "colab_type": "text"
      },
      "source": [
        "Vamos a graficar ahora los barrios según el precio por metro cuadrado."
      ]
    },
    {
      "cell_type": "code",
      "metadata": {
        "id": "cJB7mapSIRtn",
        "colab_type": "code",
        "colab": {
          "base_uri": "https://localhost:8080/",
          "height": 613
        },
        "outputId": "18960710-acc9-43fc-fa91-aaa1514ba803"
      },
      "source": [
        "plt.xticks(rotation = 90)\n",
        "barrios = df_filtered.groupby('barrio').mean().sort_values('price_usd_per_m2', ascending=False).index\n",
        "sns.barplot(x=\"barrio\", y=\"price_usd_per_m2\", order=barrios, data=df_filtered);"
      ],
      "execution_count": 147,
      "outputs": [
        {
          "output_type": "display_data",
          "data": {
            "image/png": "[encoded data removed]",
            "text/plain": [
              "<Figure size 864x576 with 1 Axes>"
            ]
          },
          "metadata": {
            "tags": []
          }
        }
      ]
    },
    {
      "cell_type": "markdown",
      "metadata": {
        "id": "GDppvSarIRtz",
        "colab_type": "text"
      },
      "source": [
        "#### Más caros"
      ]
    },
    {
      "cell_type": "code",
      "metadata": {
        "id": "UNZcUy9JIRt7",
        "colab_type": "code",
        "colab": {
          "base_uri": "https://localhost:8080/",
          "height": 235
        },
        "outputId": "3c7742f4-0954-4820-e9dd-9648a7a2da04"
      },
      "source": [
        "table = pd.pivot_table(df, values='price_usd_per_m2', index=['barrio'], aggfunc=np.mean)\n",
        "mas_caros = table.sort_values('price_usd_per_m2', ascending=False).iloc[:5]\n",
        "mas_caros"
      ],
      "execution_count": 148,
      "outputs": [
        {
          "output_type": "execute_result",
          "data": {
            "text/html": [
              "<div>\n",
              "<style scoped>\n",
              "    .dataframe tbody tr th:only-of-type {\n",
              "        vertical-align: middle;\n",
              "    }\n",
              "\n",
              "    .dataframe tbody tr th {\n",
              "        vertical-align: top;\n",
              "    }\n",
              "\n",
              "    .dataframe thead th {\n",
              "        text-align: right;\n",
              "    }\n",
              "</style>\n",
              "<table border=\"1\" class=\"dataframe\">\n",
              "  <thead>\n",
              "    <tr style=\"text-align: right;\">\n",
              "      <th></th>\n",
              "      <th>price_usd_per_m2</th>\n",
              "    </tr>\n",
              "    <tr>\n",
              "      <th>barrio</th>\n",
              "      <th></th>\n",
              "    </tr>\n",
              "  </thead>\n",
              "  <tbody>\n",
              "    <tr>\n",
              "      <th>PUERTO MADERO</th>\n",
              "      <td>6156.633183</td>\n",
              "    </tr>\n",
              "    <tr>\n",
              "      <th>PALERMO</th>\n",
              "      <td>3632.057960</td>\n",
              "    </tr>\n",
              "    <tr>\n",
              "      <th>RETIRO</th>\n",
              "      <td>3417.635657</td>\n",
              "    </tr>\n",
              "    <tr>\n",
              "      <th>RECOLETA</th>\n",
              "      <td>3346.748987</td>\n",
              "    </tr>\n",
              "    <tr>\n",
              "      <th>BELGRANO</th>\n",
              "      <td>3338.725206</td>\n",
              "    </tr>\n",
              "  </tbody>\n",
              "</table>\n",
              "</div>"
            ],
            "text/plain": [
              "               price_usd_per_m2\n",
              "barrio                         \n",
              "PUERTO MADERO       6156.633183\n",
              "PALERMO             3632.057960\n",
              "RETIRO              3417.635657\n",
              "RECOLETA            3346.748987\n",
              "BELGRANO            3338.725206"
            ]
          },
          "metadata": {
            "tags": []
          },
          "execution_count": 148
        }
      ]
    },
    {
      "cell_type": "markdown",
      "metadata": {
        "id": "bm1ffTjrIRuG",
        "colab_type": "text"
      },
      "source": [
        "#### Más baratos"
      ]
    },
    {
      "cell_type": "code",
      "metadata": {
        "id": "zXj52VrvIRuL",
        "colab_type": "code",
        "colab": {
          "base_uri": "https://localhost:8080/",
          "height": 235
        },
        "outputId": "ab38b69c-5e5d-4d52-eefd-b2b6dc3fb72f"
      },
      "source": [
        "table = pd.pivot_table(df, values='price_usd_per_m2', index=['barrio'], aggfunc=np.mean)\n",
        "mas_baratos = table.sort_values('price_usd_per_m2', ascending=True).iloc[:5]\n",
        "mas_baratos"
      ],
      "execution_count": 149,
      "outputs": [
        {
          "output_type": "execute_result",
          "data": {
            "text/html": [
              "<div>\n",
              "<style scoped>\n",
              "    .dataframe tbody tr th:only-of-type {\n",
              "        vertical-align: middle;\n",
              "    }\n",
              "\n",
              "    .dataframe tbody tr th {\n",
              "        vertical-align: top;\n",
              "    }\n",
              "\n",
              "    .dataframe thead th {\n",
              "        text-align: right;\n",
              "    }\n",
              "</style>\n",
              "<table border=\"1\" class=\"dataframe\">\n",
              "  <thead>\n",
              "    <tr style=\"text-align: right;\">\n",
              "      <th></th>\n",
              "      <th>price_usd_per_m2</th>\n",
              "    </tr>\n",
              "    <tr>\n",
              "      <th>barrio</th>\n",
              "      <th></th>\n",
              "    </tr>\n",
              "  </thead>\n",
              "  <tbody>\n",
              "    <tr>\n",
              "      <th>VILLA SOLDATI</th>\n",
              "      <td>920.825753</td>\n",
              "    </tr>\n",
              "    <tr>\n",
              "      <th>VILLA LUGANO</th>\n",
              "      <td>1179.846071</td>\n",
              "    </tr>\n",
              "    <tr>\n",
              "      <th>VILLA RIACHUELO</th>\n",
              "      <td>1274.809950</td>\n",
              "    </tr>\n",
              "    <tr>\n",
              "      <th>PARQUE AVELLANEDA</th>\n",
              "      <td>1386.260577</td>\n",
              "    </tr>\n",
              "    <tr>\n",
              "      <th>NUEVA POMPEYA</th>\n",
              "      <td>1539.235869</td>\n",
              "    </tr>\n",
              "  </tbody>\n",
              "</table>\n",
              "</div>"
            ],
            "text/plain": [
              "                   price_usd_per_m2\n",
              "barrio                             \n",
              "VILLA SOLDATI            920.825753\n",
              "VILLA LUGANO            1179.846071\n",
              "VILLA RIACHUELO         1274.809950\n",
              "PARQUE AVELLANEDA       1386.260577\n",
              "NUEVA POMPEYA           1539.235869"
            ]
          },
          "metadata": {
            "tags": []
          },
          "execution_count": 149
        }
      ]
    },
    {
      "cell_type": "markdown",
      "metadata": {
        "id": "MW3fttwVIRuY",
        "colab_type": "text"
      },
      "source": [
        "## Graficando propiedades de los barrios\n",
        "\n",
        "Ahora que ya sabemos cuales son los barrios más caros y cuales son los más baratos vamos a ver algunas comparaciones gráficas para entender mejor sus diferencias en diferentes atributos del dataset. Vamos a ver las distribuciones según:\n",
        "- Superficie total en m2\n",
        "- Cuartos totales \n",
        "- Precio en dolares por m2"
      ]
    },
    {
      "cell_type": "code",
      "metadata": {
        "id": "st1qy_BgIRub",
        "colab_type": "code",
        "colab": {}
      },
      "source": [
        "barrios_caros = mas_caros.index \n",
        "barrios_baratos = mas_baratos.index"
      ],
      "execution_count": 0,
      "outputs": []
    },
    {
      "cell_type": "code",
      "metadata": {
        "id": "Ch-225-CIRur",
        "colab_type": "code",
        "colab": {
          "base_uri": "https://localhost:8080/",
          "height": 519
        },
        "outputId": "682beaac-0a9a-4e8e-c4c6-618126af4f67"
      },
      "source": [
        "g = sns.distplot(df_filtered[df_filtered.barrio.isin(barrios_baratos)].surface_total_in_m2, label=\"Barrios baratos\")\n",
        "sns.distplot(df_filtered[df_filtered.barrio.isin(barrios_caros)].surface_total_in_m2, label=\"Barrios caros\")\n",
        "g.set_xlim(0, 400)\n",
        "plt.legend()"
      ],
      "execution_count": 151,
      "outputs": [
        {
          "output_type": "execute_result",
          "data": {
            "text/plain": [
              "<matplotlib.legend.Legend at 0x7f06738782b0>"
            ]
          },
          "metadata": {
            "tags": []
          },
          "execution_count": 151
        },
        {
          "output_type": "display_data",
          "data": {
            "image/png": "[encoded data removed]",
            "text/plain": [
              "<Figure size 864x576 with 1 Axes>"
            ]
          },
          "metadata": {
            "tags": []
          }
        }
      ]
    },
    {
      "cell_type": "code",
      "metadata": {
        "id": "g_vDtDA4IRu3",
        "colab_type": "code",
        "colab": {
          "base_uri": "https://localhost:8080/",
          "height": 519
        },
        "outputId": "2eff439d-cf58-4134-97a3-8f1d3dabec45"
      },
      "source": [
        "g = sns.distplot(df_filtered[df_filtered.barrio.isin(barrios_baratos)].rooms, label=\"Barrios baratos\")\n",
        "sns.distplot(df_filtered[df_filtered.barrio.isin(barrios_caros)].rooms, label=\"Barrios caros\")\n",
        "g.set_xlim(0, 10)\n",
        "plt.legend()"
      ],
      "execution_count": 152,
      "outputs": [
        {
          "output_type": "execute_result",
          "data": {
            "text/plain": [
              "<matplotlib.legend.Legend at 0x7f0673750278>"
            ]
          },
          "metadata": {
            "tags": []
          },
          "execution_count": 152
        },
        {
          "output_type": "display_data",
          "data": {
            "image/png": "[encoded data removed]",
            "text/plain": [
              "<Figure size 864x576 with 1 Axes>"
            ]
          },
          "metadata": {
            "tags": []
          }
        }
      ]
    },
    {
      "cell_type": "code",
      "metadata": {
        "id": "sZgb3KMAIRvC",
        "colab_type": "code",
        "colab": {
          "base_uri": "https://localhost:8080/",
          "height": 519
        },
        "outputId": "ceb9fc95-f1a2-4847-c99b-cfb35a46cade"
      },
      "source": [
        "g = sns.distplot(df_filtered[df_filtered.barrio.isin(barrios_baratos)].price_usd_per_m2, label=\"Barrios baratos\")\n",
        "sns.distplot(df_filtered[df_filtered.barrio.isin(barrios_caros)].price_usd_per_m2, label=\"Barrios caros\")\n",
        "plt.legend()"
      ],
      "execution_count": 153,
      "outputs": [
        {
          "output_type": "execute_result",
          "data": {
            "text/plain": [
              "<matplotlib.legend.Legend at 0x7f0673750518>"
            ]
          },
          "metadata": {
            "tags": []
          },
          "execution_count": 153
        },
        {
          "output_type": "display_data",
          "data": {
            "image/png": "[encoded data removed]",
            "text/plain": [
              "<Figure size 864x576 with 1 Axes>"
            ]
          },
          "metadata": {
            "tags": []
          }
        }
      ]
    },
    {
      "cell_type": "markdown",
      "metadata": {
        "id": "7X69XgEjIRvQ",
        "colab_type": "text"
      },
      "source": [
        "### Barrios que quieren ser otros"
      ]
    },
    {
      "cell_type": "markdown",
      "metadata": {
        "id": "dV4VdTowIRvW",
        "colab_type": "text"
      },
      "source": [
        "Basado en información de mercado, desde el portal Properati han señalado que las inmobiliarias suelen publicar las propiedades ubicadas en barrios que no necesariamente se corresponden con la ubicación geográfica real. Según mencionan en la nota ([blog)](http://blog.properati.com.ar/barrios-que-quieren-ser-otros/), esto corresponde a una lógica comercial en el corredor norte y a usos y costumbres en zona oeste.\n",
        "\n",
        "Analicemos qué sucede para nuestro dataset."
      ]
    },
    {
      "cell_type": "markdown",
      "metadata": {
        "id": "Z6xYT5KRIRva",
        "colab_type": "text"
      },
      "source": [
        "Dada la estructura del atributo `place_with_parent_names`, en primer lugar vamos a extraer el campo asociado al barrio publicado para poder comparar con el que surge de la cartografía oficial. Esto lo vamos a agregar en una nueva columna llamada `barrio_publicado`. \n",
        "\n",
        "De este modo, lo que vamos a analizar es como se relacionan las columnas `barrio` y `barrio publicado`. Si efectivamente hay barrios que quieren ser otros, esperaríamos ver propiedades ubicadas en geográficamente en un barrio distinto al que dice la publicación. Por ejemplo, si una propiedad está ubicada (dadas sus coordenadas) en Villa Crespo pero en la publicación dice Palermo, entonces decimos que hay indicios que Villa Crespo quiere ser Palermo.\n",
        "\n",
        "Viendo la estructura de este atributo, podemos notar que se compone por una sequencia de lugares separados por `|`. Por ejemplo, en `|Argentina|Capital Federal|Palermo|` vemos que primero está el país, luego la ciudad, luego el barrio y en algunos casos hay una jerarquía más, relacionado con zonas dentro del barrio (como Palermo Soho dentro de Palermo). \n",
        "\n",
        "De este modo, una estrategia posible para resolver esto es separar las jerarquías por `|` y extraer el elemento asociado al barrio. Por ejemplo, para `|Argentina|Capital Federal|Palermo|` queda `['', 'Argentina', 'Capital Federal', 'Palermo', '']`. Extrayendo el tercer elemento obtendremos el barrio independientemente de si hay lugares luego en la jerarquía. Aquellos que no tengan barrio no serán considerados puesto que estarían ubicados en Capital Federal y no sería informativo.\n",
        "\n",
        "Lo pasamos a mayúsculas y quitamos las tildes para poder comparar con el barrio oficial."
      ]
    },
    {
      "cell_type": "code",
      "metadata": {
        "id": "LG8YXXhxIRvj",
        "colab_type": "code",
        "colab": {
          "base_uri": "https://localhost:8080/",
          "height": 34
        },
        "outputId": "1ed5c247-4aa4-41ae-bd51-93f6002a8c06"
      },
      "source": [
        "df_filtered['place_with_parent_names'].apply(lambda x: len(x.split(\"|\"))).unique()"
      ],
      "execution_count": 154,
      "outputs": [
        {
          "output_type": "execute_result",
          "data": {
            "text/plain": [
              "array([5, 6, 4])"
            ]
          },
          "metadata": {
            "tags": []
          },
          "execution_count": 154
        }
      ]
    },
    {
      "cell_type": "markdown",
      "metadata": {
        "id": "79CGmRjHIRv0",
        "colab_type": "text"
      },
      "source": [
        "Como algunos tienen 4 elementos, debemos quitarlos."
      ]
    },
    {
      "cell_type": "code",
      "metadata": {
        "id": "0_uunmXlIRv4",
        "colab_type": "code",
        "colab": {}
      },
      "source": [
        "split_place_filter = df_filtered['place_with_parent_names'].apply(lambda x: len(x.split(\"|\"))!=4)\n",
        "df_filtered = df_filtered.loc[split_place_filter]"
      ],
      "execution_count": 0,
      "outputs": []
    },
    {
      "cell_type": "code",
      "metadata": {
        "id": "c57dmaq8IRwI",
        "colab_type": "code",
        "colab": {}
      },
      "source": [
        "df_filtered['barrio_publicado'] = df_filtered['place_with_parent_names'].apply( lambda x: x.split(\"|\")[3].upper())\n",
        "df_filtered['barrio_publicado'] = df_filtered['barrio_publicado'].str.normalize('NFKD').str.encode('ascii', errors='ignore').str.decode('utf-8')"
      ],
      "execution_count": 0,
      "outputs": []
    },
    {
      "cell_type": "markdown",
      "metadata": {
        "id": "G8re-nkGIRwW",
        "colab_type": "text"
      },
      "source": [
        "Comparemos entonces el barrio publicado con el real. Nos vamos a quedar con aquellas propiedades donde nos coincidan para luego hacer el conteo por barrio."
      ]
    },
    {
      "cell_type": "code",
      "metadata": {
        "id": "EOBlA6aTIRwZ",
        "colab_type": "code",
        "colab": {}
      },
      "source": [
        "barrios_match = (df_filtered['barrio_publicado'] != df_filtered['barrio'])\n",
        "df_filtered_barrio_not_match = df_filtered.loc[barrios_match]"
      ],
      "execution_count": 0,
      "outputs": []
    },
    {
      "cell_type": "markdown",
      "metadata": {
        "id": "ykQnwM7KIRwk",
        "colab_type": "text"
      },
      "source": [
        "Con una tabla de doble entrada podemos identificar para cada barrio cuál es al que más quiere parecerse."
      ]
    },
    {
      "cell_type": "code",
      "metadata": {
        "id": "fCPlQWnFIRwo",
        "colab_type": "code",
        "colab": {
          "base_uri": "https://localhost:8080/",
          "height": 816
        },
        "outputId": "87bf6fbc-ef7b-4fa2-9310-6d6a0e291153"
      },
      "source": [
        "table = pd.crosstab(df_filtered_barrio_not_match.barrio, df_filtered_barrio_not_match.barrio_publicado)\n",
        "table.idxmax(axis=1)"
      ],
      "execution_count": 158,
      "outputs": [
        {
          "output_type": "execute_result",
          "data": {
            "text/plain": [
              "barrio\n",
              "AGRONOMIA                VILLA PUEYRREDON\n",
              "ALMAGRO                         CABALLITO\n",
              "BALVANERA                            ONCE\n",
              "BARRACAS                        SAN TELMO\n",
              "BELGRANO                            NUNEZ\n",
              "BOCA                             BARRACAS\n",
              "BOEDO                             ALMAGRO\n",
              "CABALLITO               PARQUE CENTENARIO\n",
              "CHACARITA                      COLEGIALES\n",
              "COGHLAN                          BELGRANO\n",
              "COLEGIALES                       BELGRANO\n",
              "CONSTITUCION                    SAN TELMO\n",
              "FLORES                          CABALLITO\n",
              "FLORESTA                           FLORES\n",
              "LINIERS                         VERSALLES\n",
              "MATADEROS                      VILLA LURO\n",
              "MONSERRAT                       SAN TELMO\n",
              "MONTE CASTRO                 VILLA DEVOTO\n",
              "NUEVA POMPEYA            PARQUE PATRICIOS\n",
              "NUEZ                                NUNEZ\n",
              "PALERMO                          BELGRANO\n",
              "PARQUE AVELLANEDA                FLORESTA\n",
              "PARQUE CHACABUCO                CABALLITO\n",
              "PARQUE CHAS                 VILLA URQUIZA\n",
              "PARQUE PATRICIOS                    BOEDO\n",
              "PATERNAL                        AGRONOMIA\n",
              "RECOLETA                     BARRIO NORTE\n",
              "RETIRO                           RECOLETA\n",
              "SAAVEDRA                            NUNEZ\n",
              "SAN CRISTOBAL                       BOEDO\n",
              "SAN NICOLAS          CENTRO / MICROCENTRO\n",
              "SAN TELMO                        BARRACAS\n",
              "VELEZ SARSFIELD                  FLORESTA\n",
              "VILLA CRESPO                      PALERMO\n",
              "VILLA DEL PARQUE             VILLA DEVOTO\n",
              "VILLA DEVOTO             VILLA PUEYRREDON\n",
              "VILLA GRAL. MITRE     VILLA GENERAL MITRE\n",
              "VILLA LURO                      VERSALLES\n",
              "VILLA ORTUZAR               VILLA URQUIZA\n",
              "VILLA PUEYRREDON             VILLA DEVOTO\n",
              "VILLA REAL                      VERSALLES\n",
              "VILLA RIACHUELO              VILLA LUGANO\n",
              "VILLA SANTA RITA         VILLA DEL PARQUE\n",
              "VILLA SOLDATI                VILLA LUGANO\n",
              "VILLA URQUIZA                    BELGRANO\n",
              "dtype: object"
            ]
          },
          "metadata": {
            "tags": []
          },
          "execution_count": 158
        }
      ]
    },
    {
      "cell_type": "markdown",
      "metadata": {
        "id": "aVIp1_jMIRwz",
        "colab_type": "text"
      },
      "source": [
        "Podemos ver entonces que los barrios tienden a querer parecerse a barrios con precio con metro cuadrado más caro. Por ejemplo Villa Crespo con Palermo, Constitución con San Telmo y Villa Urquiza con Belgrano. \n",
        "\n",
        "Por otro lado, vemos también que los barrios suelen querer parecerse a sus barrios vecinos."
      ]
    }
  ]
}