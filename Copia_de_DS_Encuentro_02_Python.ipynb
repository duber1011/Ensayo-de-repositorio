{
  "nbformat": 4,
  "nbformat_minor": 0,
  "metadata": {
    "kernelspec": {
      "display_name": "Python 3",
      "language": "python",
      "name": "python3"
    },
    "language_info": {
      "codemirror_mode": {
        "name": "ipython",
        "version": 3
      },
      "file_extension": ".py",
      "mimetype": "text/x-python",
      "name": "python",
      "nbconvert_exporter": "python",
      "pygments_lexer": "ipython3",
      "version": "3.7.3"
    },
    "colab": {
      "name": "Copia de DS_Encuentro_02_Python.ipynb",
      "provenance": [],
      "collapsed_sections": [],
      "include_colab_link": true
    }
  },
  "cells": [
    {
      "cell_type": "markdown",
      "metadata": {
        "id": "view-in-github",
        "colab_type": "text"
      },
      "source": [
        "<a href=\"https://colab.research.google.com/github/duber1011/Ensayo-de-repositorio/blob/master/Copia_de_DS_Encuentro_02_Python.ipynb\" target=\"_parent\"><img src=\"https://colab.research.google.com/assets/colab-badge.svg\" alt=\"Open In Colab\"/></a>"
      ]
    },
    {
      "cell_type": "markdown",
      "metadata": {
        "colab_type": "text",
        "id": "aDaMLDnAPBMf"
      },
      "source": [
        "# Introducción a Python\n",
        "\n",
        "En este notebook vamos a recorrer algunos de los conceptos básicos de programación en general y Python en particular. Recomendamos ir haciéndolo con las diapositivas de la clase a mano como guía y con el buscador de Google como su mejor amigo. Existen muchísimos recursos de libre acceso disponibles para ayudarnos, recomendamos https://learnxinyminutes.com/docs/python3/ .\n",
        "\n",
        "\n",
        "## Recomendación:\n",
        "Además de realizar los ejercicios, les sugerimos fuertemente que vayan probando y modificando el código presente en este notebook. La mejor manera de aprender es meter mano, 'romper' el código e intentar entender porque dejó de funcionar. ¡No hay nada irreversible, no tengan miedo!\n",
        "\n",
        "## 1. Variables, Tipos de Datos y Operaciones\n",
        "\n",
        "### 1.1 Variables\n",
        "Son los datos u obejetos que que definimos para trabajar en nuestro programa. Cada variable debe llevar un nombre a través del cual nos referimos a ella, los nombres deben ser únicos y, en lo posible, ser lo mas explícitos posibles para evitar confusiones.\n",
        "\n",
        "Usando el `=` se asigna un valor a una variable. No es un igual matemático/lógico, pueden pensarlo como una flecha (<--) que asigna lo que hay del lado derecho a lo que hay del lado izquierdo."
      ]
    },
    {
      "cell_type": "code",
      "metadata": {
        "colab_type": "code",
        "id": "Ejj7jqb9PBMk",
        "outputId": "27d633f6-65d8-415e-ca34-573251704896",
        "colab": {
          "base_uri": "https://localhost:8080/",
          "height": 34
        }
      },
      "source": [
        "# Asignamos el valor 3 a una variable que creamos, de nombre x\n",
        "x = 3\n",
        "\n",
        "# Evaluamos e imprimimos en pantalla el resultado\n",
        "print(x)"
      ],
      "execution_count": 0,
      "outputs": [
        {
          "output_type": "stream",
          "text": [
            "3\n"
          ],
          "name": "stdout"
        }
      ]
    },
    {
      "cell_type": "code",
      "metadata": {
        "colab_type": "code",
        "id": "G0_JnDgrPBMu",
        "outputId": "aafc5db8-bb0a-4b9e-fa4a-86b92d3ce5d8",
        "colab": {
          "base_uri": "https://localhost:8080/",
          "height": 34
        }
      },
      "source": [
        "# Asignamos el valor 15.7 a una nueva variable, de nombre y\n",
        "y = 15.7\n",
        "\n",
        "print(y)"
      ],
      "execution_count": 0,
      "outputs": [
        {
          "output_type": "stream",
          "text": [
            "15.7\n"
          ],
          "name": "stdout"
        }
      ]
    },
    {
      "cell_type": "code",
      "metadata": {
        "colab_type": "code",
        "id": "1sVjKnS8PBM0",
        "outputId": "c5666a07-f93c-41a5-aad3-50e3c69c6184",
        "colab": {
          "base_uri": "https://localhost:8080/",
          "height": 34
        }
      },
      "source": [
        "# Podemos definir una nueva variable como la suma de dos anteriores\n",
        "z = x + y\n",
        "\n",
        "print(z)"
      ],
      "execution_count": 0,
      "outputs": [
        {
          "output_type": "stream",
          "text": [
            "18.7\n"
          ],
          "name": "stdout"
        }
      ]
    },
    {
      "cell_type": "code",
      "metadata": {
        "colab_type": "code",
        "id": "n-OyQw00PBM6",
        "outputId": "1810d2aa-b3a4-4af8-ce58-87f56e9bcfb4",
        "colab": {
          "base_uri": "https://localhost:8080/",
          "height": 34
        }
      },
      "source": [
        "# Se peude tambier asignar un valor de texto otra variable\n",
        "un_texto = 'HOLA!'\n",
        "\n",
        "print(un_texto)"
      ],
      "execution_count": 0,
      "outputs": [
        {
          "output_type": "stream",
          "text": [
            "HOLA!\n"
          ],
          "name": "stdout"
        }
      ]
    },
    {
      "cell_type": "code",
      "metadata": {
        "colab_type": "code",
        "id": "Dj_DJGDOPBNB",
        "outputId": "dc095712-884b-4d57-e561-e84625046eae",
        "colab": {
          "base_uri": "https://localhost:8080/",
          "height": 34
        }
      },
      "source": [
        "# Si queremos, podemos borrar alguna variable que ya no la utilizaremos mas\n",
        "un_texto = 'HOLA!'\n",
        "print (un_texto)\n",
        "del(un_texto)\n",
        "#print(un_texto)"
      ],
      "execution_count": 0,
      "outputs": [
        {
          "output_type": "stream",
          "text": [
            "HOLA!\n"
          ],
          "name": "stdout"
        }
      ]
    },
    {
      "cell_type": "markdown",
      "metadata": {
        "colab_type": "text",
        "id": "x3UOib9UPBNG"
      },
      "source": [
        "### Nota importante:\n",
        "Al correr esta íltima linea, deben ver un mensaje de error. Los mensajes de error son MUY IMPORTANTES. Nos brindan información muy valiosa cuando nuestro código no funciona. En este caso, nos está avisando que no puede imprimir la variable `un_texto`, ya que la eliminamos y no está definida."
      ]
    },
    {
      "cell_type": "markdown",
      "metadata": {
        "colab_type": "text",
        "id": "520n2L18PBNH"
      },
      "source": [
        "### 1.2 Tipos de Datos\n",
        "Cuando definimos una variable, dependiendo el contenido que le asignamos, la misma será de un determinado tipo. Los tipos de datos más comunes de variables son: `int`,`float`,`string` y `boolean`. Veamos algunos ejemplos de cada tipo."
      ]
    },
    {
      "cell_type": "code",
      "metadata": {
        "colab_type": "code",
        "id": "5MQYEBApPBNK",
        "outputId": "fd7bea76-9b73-49bf-ea46-10680b079274",
        "colab": {
          "base_uri": "https://localhost:8080/",
          "height": 34
        }
      },
      "source": [
        "a = 42\n",
        "print(type(a))"
      ],
      "execution_count": 0,
      "outputs": [
        {
          "output_type": "stream",
          "text": [
            "<class 'int'>\n"
          ],
          "name": "stdout"
        }
      ]
    },
    {
      "cell_type": "code",
      "metadata": {
        "colab_type": "code",
        "id": "E0g87gVfPBNP",
        "outputId": "bf75747c-f0d0-4deb-aa64-f7707b064e2f",
        "colab": {
          "base_uri": "https://localhost:8080/",
          "height": 34
        }
      },
      "source": [
        "b = 7.8\n",
        "print(type(b))"
      ],
      "execution_count": 0,
      "outputs": [
        {
          "output_type": "stream",
          "text": [
            "<class 'float'>\n"
          ],
          "name": "stdout"
        }
      ]
    },
    {
      "cell_type": "code",
      "metadata": {
        "colab_type": "code",
        "id": "6SFdLEFIPBNW",
        "outputId": "55b5ae06-8a4c-4b0e-bed5-cd616d1daf6a",
        "colab": {
          "base_uri": "https://localhost:8080/",
          "height": 34
        }
      },
      "source": [
        "c = True\n",
        "print(type(c))"
      ],
      "execution_count": 0,
      "outputs": [
        {
          "output_type": "stream",
          "text": [
            "<class 'bool'>\n"
          ],
          "name": "stdout"
        }
      ]
    },
    {
      "cell_type": "code",
      "metadata": {
        "colab_type": "code",
        "id": "i_cCG-iYPBNb",
        "outputId": "201ef7d9-a13f-4581-f934-d77528ceaf52",
        "colab": {
          "base_uri": "https://localhost:8080/",
          "height": 51
        }
      },
      "source": [
        "t1 = 'hola'\n",
        "print(type(\"hola\"))\n",
        "\n",
        "t2 = '523'\n",
        "print(type('t2'))"
      ],
      "execution_count": 0,
      "outputs": [
        {
          "output_type": "stream",
          "text": [
            "<class 'str'>\n",
            "<class 'str'>\n"
          ],
          "name": "stdout"
        }
      ]
    },
    {
      "cell_type": "markdown",
      "metadata": {
        "colab_type": "text",
        "id": "fAiC3ranPBNh"
      },
      "source": [
        "**Nota**: a pesar de ser un número, la variable `t2` es de tipo `string`. Esto se debe a que lo pusimos entre comillas."
      ]
    },
    {
      "cell_type": "code",
      "metadata": {
        "colab_type": "code",
        "id": "erSdYVqhPBNj",
        "outputId": "71a6db63-e5b8-4b4f-aee6-72cf40bc8e1d",
        "colab": {
          "base_uri": "https://localhost:8080/",
          "height": 34
        }
      },
      "source": [
        "# Este es un tipo especial de variable, que se utiliza para simbolizar algo 'vacio'\n",
        "d = None\n",
        "print(type(d))"
      ],
      "execution_count": 0,
      "outputs": [
        {
          "output_type": "stream",
          "text": [
            "<class 'NoneType'>\n"
          ],
          "name": "stdout"
        }
      ]
    },
    {
      "cell_type": "markdown",
      "metadata": {
        "colab_type": "text",
        "id": "WhJ_nLaCPBNo"
      },
      "source": [
        "Si por algun motivo (ya veremos que esto es algo que suele suceder), uno desea explicitar el tipo de variable y no dejar que python lo asuma por si solo, esto también es posible."
      ]
    },
    {
      "cell_type": "code",
      "metadata": {
        "colab_type": "code",
        "id": "AvUDAvtpPBNp",
        "outputId": "650a36f5-ec73-4aee-d2f2-2d087853968f",
        "colab": {
          "base_uri": "https://localhost:8080/",
          "height": 68
        }
      },
      "source": [
        "numero = 45\n",
        "print(type(numero))\n",
        "\n",
        "# Quiero que sea un 'float' y no un int\n",
        "numero = float(45)\n",
        "print(type(numero))\n",
        "\n",
        "# Quiero que sea un 'string' y no un int\n",
        "numero = str(45)\n",
        "print(type(numero))"
      ],
      "execution_count": 0,
      "outputs": [
        {
          "output_type": "stream",
          "text": [
            "<class 'int'>\n",
            "<class 'float'>\n",
            "<class 'str'>\n"
          ],
          "name": "stdout"
        }
      ]
    },
    {
      "cell_type": "code",
      "metadata": {
        "colab_type": "code",
        "id": "r6B6f_oOPBNv",
        "outputId": "7db73088-6419-4543-bf40-68fa5549834f",
        "colab": {
          "base_uri": "https://localhost:8080/",
          "height": 51
        }
      },
      "source": [
        "otro_numero = 45.0\n",
        "print(type(otro_numero))\n",
        "\n",
        "# Quiero que sea un 'int' y no un 'float'\n",
        "otro_numero = int(45.0)\n",
        "print(type(otro_numero))"
      ],
      "execution_count": 0,
      "outputs": [
        {
          "output_type": "stream",
          "text": [
            "<class 'float'>\n",
            "<class 'int'>\n"
          ],
          "name": "stdout"
        }
      ]
    },
    {
      "cell_type": "markdown",
      "metadata": {
        "colab_type": "text",
        "id": "4EMswXwbPjLD"
      },
      "source": [
        "**Ejercicio**: Cambiar el tipo de la variable 'numero' a float."
      ]
    },
    {
      "cell_type": "code",
      "metadata": {
        "colab_type": "code",
        "id": "g6o0UHSbPuZu",
        "outputId": "fca98950-7285-4ee9-fd5d-5cdac11855c9",
        "colab": {
          "base_uri": "https://localhost:8080/",
          "height": 34
        }
      },
      "source": [
        "numero = '5'\n",
        "\n",
        "numero = float('5')\n",
        "\n",
        "if type(numero) is float:\n",
        "    print('Correcto!')\n",
        "else:\n",
        "    print('Convierta la valable a tipo float')"
      ],
      "execution_count": 0,
      "outputs": [
        {
          "output_type": "stream",
          "text": [
            "Correcto!\n"
          ],
          "name": "stdout"
        }
      ]
    },
    {
      "cell_type": "markdown",
      "metadata": {
        "colab_type": "text",
        "id": "Zip2yREWPBN0"
      },
      "source": [
        "### 1.3 Operaciones\n",
        "Con las variables que definimos, podemos realizar distintas operaciones. Dependiendo el tipo de variable, hay diferentes operaciones diponibles.\n",
        "\n",
        "#### 1.3.1 Operaciones con números"
      ]
    },
    {
      "cell_type": "code",
      "metadata": {
        "colab_type": "code",
        "id": "QbeN4rjGPBN2",
        "outputId": "19515af9-bfbc-40c6-b50c-fcfd920c232f",
        "colab": {
          "base_uri": "https://localhost:8080/",
          "height": 51
        }
      },
      "source": [
        "# Se pueden realizar las operaciones basicas entre numeros\n",
        "a = 20\n",
        "b = 4\n",
        "print(a+b)\n",
        "print(a-b)"
      ],
      "execution_count": 0,
      "outputs": [
        {
          "output_type": "stream",
          "text": [
            "24\n",
            "16\n"
          ],
          "name": "stdout"
        }
      ]
    },
    {
      "cell_type": "code",
      "metadata": {
        "colab_type": "code",
        "id": "x7NDD_tJPBN6",
        "outputId": "b016ec57-8f6b-4f0f-ae53-35d2f85e948a",
        "colab": {
          "base_uri": "https://localhost:8080/",
          "height": 51
        }
      },
      "source": [
        "# Se pueden realizar las operaciones incluso entre distintos tipos de variables\n",
        "a = 20\n",
        "b = 4.5\n",
        "\n",
        "c = a+b\n",
        "d = a-b\n",
        "\n",
        "print(c)\n",
        "print(d)"
      ],
      "execution_count": 0,
      "outputs": [
        {
          "output_type": "stream",
          "text": [
            "24.5\n",
            "15.5\n"
          ],
          "name": "stdout"
        }
      ]
    },
    {
      "cell_type": "code",
      "metadata": {
        "colab_type": "code",
        "id": "yZLqW2ZYPBN_",
        "outputId": "73857d00-c416-4f8e-f465-442f2c6b9d8c",
        "colab": {
          "base_uri": "https://localhost:8080/",
          "height": 51
        }
      },
      "source": [
        "# Notemos que estos resultados son de tipo float\n",
        "print(type(c))\n",
        "print(type(d))"
      ],
      "execution_count": 0,
      "outputs": [
        {
          "output_type": "stream",
          "text": [
            "<class 'float'>\n",
            "<class 'float'>\n"
          ],
          "name": "stdout"
        }
      ]
    },
    {
      "cell_type": "code",
      "metadata": {
        "colab_type": "code",
        "id": "z9kq2lEVPBOF",
        "outputId": "dbd479e6-6b5a-49b3-8a89-8c0d7831d2a0",
        "colab": {
          "base_uri": "https://localhost:8080/",
          "height": 34
        }
      },
      "source": [
        "# Podemos dividir dos numeros\n",
        "x = 10\n",
        "y = 3\n",
        "z = x/y\n",
        "print(z)"
      ],
      "execution_count": 0,
      "outputs": [
        {
          "output_type": "stream",
          "text": [
            "3.3333333333333335\n"
          ],
          "name": "stdout"
        }
      ]
    },
    {
      "cell_type": "code",
      "metadata": {
        "colab_type": "code",
        "id": "IgJQDZ7MPBOI",
        "outputId": "9be800ff-7841-47bc-c8eb-7986a830d7e0",
        "colab": {
          "base_uri": "https://localhost:8080/",
          "height": 34
        }
      },
      "source": [
        "# Notemos que, a pesar de venir de una operación entre dos enteros,\n",
        "# z es de tipo float\n",
        "print(type(z))"
      ],
      "execution_count": 0,
      "outputs": [
        {
          "output_type": "stream",
          "text": [
            "<class 'float'>\n"
          ],
          "name": "stdout"
        }
      ]
    },
    {
      "cell_type": "code",
      "metadata": {
        "colab_type": "code",
        "id": "tZWn26P9PBON",
        "outputId": "f5d6cafe-2cc9-490f-9c5b-2df7c2d04409",
        "colab": {
          "base_uri": "https://localhost:8080/",
          "height": 51
        }
      },
      "source": [
        "# Esta operación es muy usada en computación, nos devuelve el resto de la división\n",
        "x = 10\n",
        "y = 3\n",
        "print(x%y)\n",
        "print(type(x%y))"
      ],
      "execution_count": 0,
      "outputs": [
        {
          "output_type": "stream",
          "text": [
            "1\n",
            "<class 'int'>\n"
          ],
          "name": "stdout"
        }
      ]
    },
    {
      "cell_type": "markdown",
      "metadata": {
        "colab_type": "text",
        "id": "-5X5DceISQ-O"
      },
      "source": [
        "**Ejercicio**: Calcular el porcentaje que representa el valor 17 sobre un total de 54 y guardarlo en una variable llamada 'porcentaje'."
      ]
    },
    {
      "cell_type": "markdown",
      "metadata": {
        "colab_type": "text",
        "id": "qUnNrBQMTIMb"
      },
      "source": [
        "porcentaje = (17*100)/54\n",
        "print(porcentaje)"
      ]
    },
    {
      "cell_type": "code",
      "metadata": {
        "id": "x2dYvtbtKR1O",
        "colab_type": "code",
        "outputId": "bac7a5b5-1866-4224-a5c9-2c657759b68a",
        "colab": {
          "base_uri": "https://localhost:8080/",
          "height": 34
        }
      },
      "source": [
        "porcentaje = (17*100)/54\n",
        "print(porcentaje)"
      ],
      "execution_count": 0,
      "outputs": [
        {
          "output_type": "stream",
          "text": [
            "31.48148148148148\n"
          ],
          "name": "stdout"
        }
      ]
    },
    {
      "cell_type": "code",
      "metadata": {
        "id": "58_5dJtgKEue",
        "colab_type": "code",
        "colab": {}
      },
      "source": [
        ""
      ],
      "execution_count": 0,
      "outputs": []
    },
    {
      "cell_type": "markdown",
      "metadata": {
        "colab_type": "text",
        "id": "a6YAqMliMPsg"
      },
      "source": [
        "porcentaje = (17*100)/54\n",
        "print(porcentaje)"
      ]
    },
    {
      "cell_type": "markdown",
      "metadata": {
        "colab_type": "text",
        "id": "Eq2Zw2imPBOQ"
      },
      "source": [
        "#### Operaciones con Texto"
      ]
    },
    {
      "cell_type": "code",
      "metadata": {
        "colab_type": "code",
        "id": "MvMmHUutPBOR",
        "outputId": "112e6d79-19fc-4e0b-a5a0-520f6d2e92c4",
        "colab": {
          "base_uri": "https://localhost:8080/",
          "height": 34
        }
      },
      "source": [
        "txt_1 = 'Los textos'\n",
        "txt_2 = ' se concatenan.'\n",
        "print(txt_1 + txt_2)"
      ],
      "execution_count": 0,
      "outputs": [
        {
          "output_type": "stream",
          "text": [
            "Los textos se concatenan.\n"
          ],
          "name": "stdout"
        }
      ]
    },
    {
      "cell_type": "code",
      "metadata": {
        "colab_type": "code",
        "id": "tFVge951PBOW",
        "outputId": "326ca40b-97f0-4cde-f7b6-5111e116bf3e",
        "colab": {
          "base_uri": "https://localhost:8080/",
          "height": 34
        }
      },
      "source": [
        "txt_3 = 'Los textos se multiplican. '\n",
        "print(txt_3 * 2)"
      ],
      "execution_count": 0,
      "outputs": [
        {
          "output_type": "stream",
          "text": [
            "Los textos se multiplican. Los textos se multiplican. \n"
          ],
          "name": "stdout"
        }
      ]
    },
    {
      "cell_type": "code",
      "metadata": {
        "colab_type": "code",
        "id": "eowEHnQxPBOh",
        "outputId": "b30457bc-e264-4ad0-cac3-36d333ebff6c",
        "colab": {
          "base_uri": "https://localhost:8080/",
          "height": 197
        }
      },
      "source": [
        "b = 'Los textos'\n",
        "c = ' no se restan.'\n",
        "print(b - c)"
      ],
      "execution_count": 0,
      "outputs": [
        {
          "output_type": "error",
          "ename": "TypeError",
          "evalue": "ignored",
          "traceback": [
            "\u001b[0;31m---------------------------------------------------------------------------\u001b[0m",
            "\u001b[0;31mTypeError\u001b[0m                                 Traceback (most recent call last)",
            "\u001b[0;32m<ipython-input-30-def6c3f4c5e8>\u001b[0m in \u001b[0;36m<module>\u001b[0;34m()\u001b[0m\n\u001b[1;32m      1\u001b[0m \u001b[0mb\u001b[0m \u001b[0;34m=\u001b[0m \u001b[0;34m'Los textos'\u001b[0m\u001b[0;34m\u001b[0m\u001b[0;34m\u001b[0m\u001b[0m\n\u001b[1;32m      2\u001b[0m \u001b[0mc\u001b[0m \u001b[0;34m=\u001b[0m \u001b[0;34m' no se restan.'\u001b[0m\u001b[0;34m\u001b[0m\u001b[0;34m\u001b[0m\u001b[0m\n\u001b[0;32m----> 3\u001b[0;31m \u001b[0mprint\u001b[0m\u001b[0;34m(\u001b[0m\u001b[0mb\u001b[0m \u001b[0;34m-\u001b[0m \u001b[0mc\u001b[0m\u001b[0;34m)\u001b[0m\u001b[0;34m\u001b[0m\u001b[0;34m\u001b[0m\u001b[0m\n\u001b[0m",
            "\u001b[0;31mTypeError\u001b[0m: unsupported operand type(s) for -: 'str' and 'str'"
          ]
        }
      ]
    },
    {
      "cell_type": "markdown",
      "metadata": {
        "colab_type": "text",
        "id": "IADvs1-uPBOm"
      },
      "source": [
        "**Nota**: No nos cansaremos de decirles que presten atención a los mensajes de error."
      ]
    },
    {
      "cell_type": "code",
      "metadata": {
        "colab_type": "code",
        "id": "14fD4pOGPBOn",
        "outputId": "9c0bff67-25f1-4b70-dc41-607437cd473c",
        "colab": {
          "base_uri": "https://localhost:8080/",
          "height": 34
        }
      },
      "source": [
        "# Que pasa si queremos sumar un número al texto?\n",
        "b = 'Mi edad es '\n",
        "c = '28'\n",
        "print(b + c)"
      ],
      "execution_count": 0,
      "outputs": [
        {
          "output_type": "stream",
          "text": [
            "Mi edad es 28\n"
          ],
          "name": "stdout"
        }
      ]
    },
    {
      "cell_type": "markdown",
      "metadata": {
        "colab_type": "text",
        "id": "AdySRkr3PBOp"
      },
      "source": [
        "El error nos dice que a los 'string' solo se le pueden concatenar otros 'strings' (no enteros). La manera correcta sería entonces:"
      ]
    },
    {
      "cell_type": "code",
      "metadata": {
        "colab_type": "code",
        "id": "zWPtmEdFPBOr",
        "outputId": "e0146599-bdb8-40ee-e5bd-3557ee7ff2b9",
        "colab": {
          "base_uri": "https://localhost:8080/",
          "height": 34
        }
      },
      "source": [
        "# Que pasa si queremos sumar un número al texto?\n",
        "b = 'Mi edad es '\n",
        "c = 28\n",
        "print(b + str(c))"
      ],
      "execution_count": 0,
      "outputs": [
        {
          "output_type": "stream",
          "text": [
            "Mi edad es 28\n"
          ],
          "name": "stdout"
        }
      ]
    },
    {
      "cell_type": "markdown",
      "metadata": {
        "colab_type": "text",
        "id": "Cpb9WziZTUcO"
      },
      "source": [
        "**Ejercicio**: Armar la frase 'El gran gran gran gran gran castillo mide 50 metros.' a partir de operar con las siguientes variables (viene con trampita):"
      ]
    },
    {
      "cell_type": "code",
      "metadata": {
        "colab_type": "code",
        "id": "4K9QTbTMT8gE",
        "outputId": "5ec89c20-4dba-4852-d0bb-e2a8d15fc538",
        "colab": {
          "base_uri": "https://localhost:8080/",
          "height": 34
        }
      },
      "source": [
        "txt1 = 'gran '\n",
        "txt2 = 'El '\n",
        "tet3 = 'mide '\n",
        "txt4 = ' metros.'\n",
        "numero = 50\n",
        "\n",
        "frase = txt2 + (txt1*5) + \"castillo \" + tet3 + str(numero) + txt4\n",
        "print(frase)"
      ],
      "execution_count": 0,
      "outputs": [
        {
          "output_type": "stream",
          "text": [
            "El gran gran gran gran gran castillo mide 50 metros.\n"
          ],
          "name": "stdout"
        }
      ]
    },
    {
      "cell_type": "markdown",
      "metadata": {
        "colab_type": "text",
        "id": "tY9du3p-PBOt"
      },
      "source": [
        "#### 1.3.3 Operaciones Lógicas"
      ]
    },
    {
      "cell_type": "code",
      "metadata": {
        "colab_type": "code",
        "id": "mHPhaiiJPBOv",
        "outputId": "e51a4ed2-012b-4726-bf8b-467d7505b0cf",
        "colab": {
          "base_uri": "https://localhost:8080/",
          "height": 34
        }
      },
      "source": [
        "variable_1 = True\n",
        "variable_2 = False\n",
        "print(variable_1 or variable_2)"
      ],
      "execution_count": 0,
      "outputs": [
        {
          "output_type": "stream",
          "text": [
            "True\n"
          ],
          "name": "stdout"
        }
      ]
    },
    {
      "cell_type": "code",
      "metadata": {
        "colab_type": "code",
        "id": "kv2eNRpePBOy",
        "outputId": "736074dc-6ce3-4761-d7a3-9c6a1c230450",
        "colab": {
          "base_uri": "https://localhost:8080/",
          "height": 34
        }
      },
      "source": [
        "print(not(variable_1))"
      ],
      "execution_count": 0,
      "outputs": [
        {
          "output_type": "stream",
          "text": [
            "False\n"
          ],
          "name": "stdout"
        }
      ]
    },
    {
      "cell_type": "code",
      "metadata": {
        "colab_type": "code",
        "id": "i9QxO0SgPBO3",
        "outputId": "8f2fd650-2eef-4182-8929-271c8cefbe77",
        "colab": {
          "base_uri": "https://localhost:8080/",
          "height": 34
        }
      },
      "source": [
        "variable_3 = variable_1 and variable_2\n",
        "print(variable_3)"
      ],
      "execution_count": 0,
      "outputs": [
        {
          "output_type": "stream",
          "text": [
            "False\n"
          ],
          "name": "stdout"
        }
      ]
    },
    {
      "cell_type": "markdown",
      "metadata": {
        "colab_type": "text",
        "id": "Rdo5rRsdPBO7"
      },
      "source": [
        "## 2. Listas, Loops y Condicionales\n",
        "\n",
        "### 2.1 Listas\n",
        "\n",
        "Son un objeto central en el lenguaje Python. Están compuestas por una sucesión de objetos en un orden determinado. Se definen mediante corchetes '[ ]', y los objetos dentro de ellas se separan por comas ','."
      ]
    },
    {
      "cell_type": "code",
      "metadata": {
        "colab_type": "code",
        "id": "vA9XBz5mPBO8",
        "outputId": "dfdd789c-892d-4dde-a059-9981704d86e4",
        "colab": {
          "base_uri": "https://localhost:8080/",
          "height": 34
        }
      },
      "source": [
        "lista_1 = [42, 4.7, True, 'Texto']\n",
        "print(lista_1)"
      ],
      "execution_count": 0,
      "outputs": [
        {
          "output_type": "stream",
          "text": [
            "[42, 4.7, True, 'Texto']\n"
          ],
          "name": "stdout"
        }
      ]
    },
    {
      "cell_type": "code",
      "metadata": {
        "colab_type": "code",
        "id": "D4nWSXKSPBO_",
        "outputId": "4731bef4-2e4e-460d-b2e5-af89f33096c8",
        "colab": {
          "base_uri": "https://localhost:8080/",
          "height": 34
        }
      },
      "source": [
        "# Podemos inspeccionar el largo de una lista, o sea, su cantidad de elementos\n",
        "len(lista_1)"
      ],
      "execution_count": 0,
      "outputs": [
        {
          "output_type": "execute_result",
          "data": {
            "text/plain": [
              "4"
            ]
          },
          "metadata": {
            "tags": []
          },
          "execution_count": 45
        }
      ]
    },
    {
      "cell_type": "markdown",
      "metadata": {
        "colab_type": "text",
        "id": "b0wCmLL2PBPC"
      },
      "source": [
        "Podemos inspeccionar elementos de una lista accediendo a una determinada posición de la misma. Los índices de las posiciones empiezan en 0, y se especifican poniendo corchetes con el índice dentro luego del nombre de la lista:"
      ]
    },
    {
      "cell_type": "code",
      "metadata": {
        "colab_type": "code",
        "id": "Jepw64oFPBPC",
        "outputId": "f4609e8f-5ffb-4179-c9cc-bce35a4289ba",
        "colab": {
          "base_uri": "https://localhost:8080/",
          "height": 51
        }
      },
      "source": [
        "print(lista_1[0])\n",
        "print(type(lista_1[0]))"
      ],
      "execution_count": 0,
      "outputs": [
        {
          "output_type": "stream",
          "text": [
            "42\n",
            "<class 'int'>\n"
          ],
          "name": "stdout"
        }
      ]
    },
    {
      "cell_type": "code",
      "metadata": {
        "colab_type": "code",
        "id": "84_TXl15PBPE",
        "outputId": "8d234504-fa51-437f-c71f-60d2148c0300",
        "colab": {
          "base_uri": "https://localhost:8080/",
          "height": 51
        }
      },
      "source": [
        "print(lista_1[3])\n",
        "print(type(lista_1[3]))"
      ],
      "execution_count": 0,
      "outputs": [
        {
          "output_type": "stream",
          "text": [
            "Texto\n",
            "<class 'str'>\n"
          ],
          "name": "stdout"
        }
      ]
    },
    {
      "cell_type": "code",
      "metadata": {
        "colab_type": "code",
        "id": "E95aE3TaPBPH",
        "outputId": "71919412-d7e5-401e-f6aa-5a585c01a5e4",
        "colab": {
          "base_uri": "https://localhost:8080/",
          "height": 51
        }
      },
      "source": [
        "print(lista_1[2])\n",
        "print(type(lista_1[2]))"
      ],
      "execution_count": 0,
      "outputs": [
        {
          "output_type": "stream",
          "text": [
            "True\n",
            "<class 'bool'>\n"
          ],
          "name": "stdout"
        }
      ]
    },
    {
      "cell_type": "code",
      "metadata": {
        "colab_type": "code",
        "id": "mVfn1mYHPBPK",
        "outputId": "e3b170e1-2f58-44c6-9b07-51f6b74b99e2",
        "colab": {
          "base_uri": "https://localhost:8080/",
          "height": 34
        }
      },
      "source": [
        "# Tambien podemos selecciona una porción de lista\n",
        "#(ya veremos esto en detalle mas adelante)\n",
        "print(lista_1[0:3])"
      ],
      "execution_count": 0,
      "outputs": [
        {
          "output_type": "stream",
          "text": [
            "[42, 4.7, True]\n"
          ],
          "name": "stdout"
        }
      ]
    },
    {
      "cell_type": "code",
      "metadata": {
        "colab_type": "code",
        "id": "-nQ_FGfNPBPM",
        "outputId": "f246e59d-3b5e-4ab5-fd3b-2b0015316cad",
        "colab": {
          "base_uri": "https://localhost:8080/",
          "height": 51
        }
      },
      "source": [
        "# Definimos una segunda lista\n",
        "lista_2 = [0, lista_1, 'Mas texto']\n",
        "print(lista_2)\n",
        "print(len(lista_2))"
      ],
      "execution_count": 0,
      "outputs": [
        {
          "output_type": "stream",
          "text": [
            "[0, [42, 4.7, True, 'Texto'], 'Mas texto']\n",
            "3\n"
          ],
          "name": "stdout"
        }
      ]
    },
    {
      "cell_type": "markdown",
      "metadata": {
        "colab_type": "text",
        "id": "5YSBWt8tPBPP"
      },
      "source": [
        "Notemos que en esta segunda lista, agregamos dentro la primera. Toda la primer lista cuenta como un único elemento."
      ]
    },
    {
      "cell_type": "code",
      "metadata": {
        "colab_type": "code",
        "id": "3WYr5rJQPBPQ",
        "outputId": "57faaadc-9d3f-4697-f0c8-a7ec808436ee",
        "colab": {
          "base_uri": "https://localhost:8080/",
          "height": 34
        }
      },
      "source": [
        "# Un elemento de la lista_2 es la lista_1\n",
        "print(lista_2[1])"
      ],
      "execution_count": 0,
      "outputs": [
        {
          "output_type": "stream",
          "text": [
            "[42, 4.7, True, 'Texto']\n"
          ],
          "name": "stdout"
        }
      ]
    },
    {
      "cell_type": "markdown",
      "metadata": {
        "colab_type": "text",
        "id": "ZbA1JYFxPBPR"
      },
      "source": [
        "Podemos crear listas vacias, e ir agregándole elementos con el método 'append()'"
      ]
    },
    {
      "cell_type": "code",
      "metadata": {
        "colab_type": "code",
        "id": "7VWvo-GwPBPT",
        "outputId": "ca124ff8-ab72-442f-bf3d-37cc63296a5d",
        "colab": {
          "base_uri": "https://localhost:8080/",
          "height": 34
        }
      },
      "source": [
        "lista_vacia = []\n",
        "len(lista_vacia)"
      ],
      "execution_count": 0,
      "outputs": [
        {
          "output_type": "execute_result",
          "data": {
            "text/plain": [
              "0"
            ]
          },
          "metadata": {
            "tags": []
          },
          "execution_count": 52
        }
      ]
    },
    {
      "cell_type": "code",
      "metadata": {
        "colab_type": "code",
        "id": "pmlQp8PEPBPV",
        "outputId": "a9349d0e-9602-4c46-a80a-12310eb0b977",
        "colab": {
          "base_uri": "https://localhost:8080/",
          "height": 51
        }
      },
      "source": [
        "lista_vacia = []\n",
        "len(lista_vacia)\n",
        "\n",
        "lista_vacia.append(42)\n",
        "lista_vacia.append('un segundo item')\n",
        "print(lista_vacia)\n",
        "print(len(lista_vacia))"
      ],
      "execution_count": 0,
      "outputs": [
        {
          "output_type": "stream",
          "text": [
            "[42, 'un segundo item']\n",
            "2\n"
          ],
          "name": "stdout"
        }
      ]
    },
    {
      "cell_type": "markdown",
      "metadata": {
        "colab_type": "text",
        "id": "sU-6LA63PBPX"
      },
      "source": [
        "Prueben qué pasa si corren nuevamente la celda anterior (justo arriba de esta)."
      ]
    },
    {
      "cell_type": "markdown",
      "metadata": {
        "colab_type": "text",
        "id": "EPJNCI0tUvsl"
      },
      "source": [
        "**Ejercicio**: Defina una lista vacia llamada 'lista_nueva' y agréguele (`append()`) los elementos a, b y c."
      ]
    },
    {
      "cell_type": "code",
      "metadata": {
        "colab_type": "code",
        "id": "jXs-Rkh6VF8K",
        "outputId": "1aa25c03-4942-4be1-ec91-a5e0bee454b2",
        "colab": {
          "base_uri": "https://localhost:8080/",
          "height": 34
        }
      },
      "source": [
        "a = 8\n",
        "b = 'world'\n",
        "c = [12,24.5,66]\n",
        "\n",
        "lista_nueva = []\n",
        "lista_nueva.append(a)\n",
        "lista_nueva.append(b)\n",
        "lista_nueva.append(c)\n",
        "print(lista_nueva)"
      ],
      "execution_count": 0,
      "outputs": [
        {
          "output_type": "stream",
          "text": [
            "[8, 'world', [12, 24.5, 66]]\n"
          ],
          "name": "stdout"
        }
      ]
    },
    {
      "cell_type": "markdown",
      "metadata": {
        "id": "OACuSjIqGOgZ",
        "colab_type": "text"
      },
      "source": [
        "**Detalle muy importante:** copiado de listas (que vale para listas, arreglos de Numpy y dataframes de Pandas)"
      ]
    },
    {
      "cell_type": "code",
      "metadata": {
        "id": "L8nN4bS8GOgc",
        "colab_type": "code",
        "outputId": "aeb95c80-e8d8-4dd0-d207-d8abc6a09798",
        "colab": {
          "base_uri": "https://localhost:8080/",
          "height": 34
        }
      },
      "source": [
        "lista_1 = [1,2,3,4]\n",
        "lista_2 = lista_1  #lista_2 ahora es igual a lista_1\n",
        "lista_2[-1] = 100 #el ultimo elemento de la lista ahora es 100, con -1 seleccionamos el ultimo elemento de la lista\n",
        "print(lista_1, lista_2)"
      ],
      "execution_count": 0,
      "outputs": [
        {
          "output_type": "stream",
          "text": [
            "[1, 2, 3, 100] [1, 2, 3, 100]\n"
          ],
          "name": "stdout"
        }
      ]
    },
    {
      "cell_type": "markdown",
      "metadata": {
        "id": "fyI0gJ_zGOgl",
        "colab_type": "text"
      },
      "source": [
        "¡Se modificaron ambas listas!"
      ]
    },
    {
      "cell_type": "code",
      "metadata": {
        "id": "5xUMwHSbGOgn",
        "colab_type": "code",
        "outputId": "7a27020f-1074-45d9-b55d-d24260208241",
        "colab": {
          "base_uri": "https://localhost:8080/",
          "height": 34
        }
      },
      "source": [
        "lista_1 = [1,2,3,4]\n",
        "lista_2 = lista_1.copy()\n",
        "lista_2[-1] = 100\n",
        "print(lista_1, lista_2)"
      ],
      "execution_count": 0,
      "outputs": [
        {
          "output_type": "stream",
          "text": [
            "[1, 2, 3, 4] [1, 2, 3, 100]\n"
          ],
          "name": "stdout"
        }
      ]
    },
    {
      "cell_type": "markdown",
      "metadata": {
        "id": "90WHxA4BGOgv",
        "colab_type": "text"
      },
      "source": [
        "Ahora no!"
      ]
    },
    {
      "cell_type": "markdown",
      "metadata": {
        "colab_type": "text",
        "id": "oGW0jo5hPBPZ"
      },
      "source": [
        "### 2.2 Loops\n",
        "Los **Loops** son estructuras de codigo fundamentales en cualquier lenguaje de programación. Son bloques de código que se repiten dada una cierta cantidad de veces dada una condición.\n",
        "\n",
        "#### 2.2.1 For\n",
        "El For es un loop en el que un bloque de código se repite tantas veces como elementos haya en una determinada lista. En cada iteración (repetición) hay una variable que va tomando el valor de uno de los elementos en esta lista."
      ]
    },
    {
      "cell_type": "code",
      "metadata": {
        "colab_type": "code",
        "id": "hZw979QmPBPa",
        "outputId": "3b0a9bf6-432d-4715-f4ea-04da68ba6df1",
        "colab": {
          "base_uri": "https://localhost:8080/",
          "height": 102
        }
      },
      "source": [
        "lista_numeros = [3,55,1,876,12]\n",
        "\n",
        "# Definimos el codigo dentro del for mediante la indentación\n",
        "# (Todo lo que este corrido un 'tab' a la derecha)\n",
        "for elemento in lista_numeros:\n",
        "    print(elemento)"
      ],
      "execution_count": 0,
      "outputs": [
        {
          "output_type": "stream",
          "text": [
            "3\n",
            "55\n",
            "1\n",
            "876\n",
            "12\n"
          ],
          "name": "stdout"
        }
      ]
    },
    {
      "cell_type": "code",
      "metadata": {
        "colab_type": "code",
        "id": "kpqiAZb-PBPd",
        "outputId": "fc50ee9d-03b3-4bdc-b6cb-5ca2f1995e2a",
        "colab": {
          "base_uri": "https://localhost:8080/",
          "height": 119
        }
      },
      "source": [
        "# Repitamos los mismo que la celda anteriro\n",
        "# pero ahora agregemos una variable i \n",
        "# que cuente la cantidad de veces que ese corre el codigo \n",
        "\n",
        "lista_numeros = [3,55,1,876,12]\n",
        "\n",
        "# La iniciamos en cero\n",
        "i = 0\n",
        "\n",
        "for elemento in lista_numeros:\n",
        "    \n",
        "    # Le sumamos 1 cada vez que entra\n",
        "    i = i+1\n",
        "    print(elemento)\n",
        "print(\"el valor de i es: \",i)"
      ],
      "execution_count": 0,
      "outputs": [
        {
          "output_type": "stream",
          "text": [
            "3\n",
            "55\n",
            "1\n",
            "876\n",
            "12\n",
            "el valor de i es:  5\n"
          ],
          "name": "stdout"
        }
      ]
    },
    {
      "cell_type": "code",
      "metadata": {
        "colab_type": "code",
        "id": "hsb4LLSdPBPh",
        "outputId": "d0461498-ddac-485c-90dc-538b7fcc0408",
        "colab": {
          "base_uri": "https://localhost:8080/",
          "height": 34
        }
      },
      "source": [
        "print(i)"
      ],
      "execution_count": 0,
      "outputs": [
        {
          "output_type": "stream",
          "text": [
            "5\n"
          ],
          "name": "stdout"
        }
      ]
    },
    {
      "cell_type": "markdown",
      "metadata": {
        "colab_type": "text",
        "id": "Qbz2a3orPBPl"
      },
      "source": [
        "También podemos recorrer listas de texto. Presten atencion al siguiente codigo, e intenten precedir el resultado antes de correr la celda."
      ]
    },
    {
      "cell_type": "code",
      "metadata": {
        "colab_type": "code",
        "id": "z1jQ13uzPBPm",
        "outputId": "88b001e0-67ee-4f21-ae59-fd715aee7945",
        "colab": {
          "base_uri": "https://localhost:8080/",
          "height": 34
        }
      },
      "source": [
        "lista_nombres = ['Ernesto', 'Camilo', 'Violeta']\n",
        "nueva_lista = []\n",
        "\n",
        "for item in lista_nombres:\n",
        "    oracion = 'Mi nombre es ' + item\n",
        "    nueva_lista.append(oracion)\n",
        "\n",
        "# Este print esta fuera del for, no está indentado\n",
        "print(nueva_lista)"
      ],
      "execution_count": 0,
      "outputs": [
        {
          "output_type": "stream",
          "text": [
            "['Mi nombre es Ernesto', 'Mi nombre es Camilo', 'Mi nombre es Violeta']\n"
          ],
          "name": "stdout"
        }
      ]
    },
    {
      "cell_type": "markdown",
      "metadata": {
        "colab_type": "text",
        "id": "565EnFNTVU3V"
      },
      "source": [
        "**Ejercicio**: Genere una lista llamada 'numerotes' que contenga el cuadrado de cada elemento en la lista 'numeritos'."
      ]
    },
    {
      "cell_type": "code",
      "metadata": {
        "colab_type": "code",
        "id": "YB0EcpVqV3hY",
        "outputId": "43e85404-1b37-4b68-c78f-e1138e754e48",
        "colab": {
          "base_uri": "https://localhost:8080/",
          "height": 34
        }
      },
      "source": [
        "numeritos = [3,1,5,7,12,10,17,4,22]\n",
        "\n",
        "numerotes = []\n",
        "\n",
        "for cuadrado in numeritos:\n",
        "    numerotes.append(cuadrado*cuadrado)    \n",
        "print(\"La lista numerotes es: \",numerotes)"
      ],
      "execution_count": 1,
      "outputs": [
        {
          "output_type": "stream",
          "text": [
            "La lista numerotes es:  [9, 1, 25, 49, 144, 100, 289, 16, 484]\n"
          ],
          "name": "stdout"
        }
      ]
    },
    {
      "cell_type": "markdown",
      "metadata": {
        "colab_type": "text",
        "id": "S8lTPAaiPBPo"
      },
      "source": [
        "\n",
        "#### 2.2.2 While\n",
        "El while repite un bloque de código mientras se cumpla una cierta condición que le ponemos. Para mayor claridad, pondremos la condición dentro de parentesis '()'."
      ]
    },
    {
      "cell_type": "code",
      "metadata": {
        "colab_type": "code",
        "id": "EFy5Woa-PBPp",
        "outputId": "a1dc6e4b-3b4c-48be-bcf7-f0986f554da0",
        "colab": {
          "base_uri": "https://localhost:8080/",
          "height": 85
        }
      },
      "source": [
        "numero = 1\n",
        "\n",
        "while (numero < 5):\n",
        "    print(numero)\n",
        "    numero = numero + 1"
      ],
      "execution_count": 0,
      "outputs": [
        {
          "output_type": "stream",
          "text": [
            "1\n",
            "2\n",
            "3\n",
            "4\n"
          ],
          "name": "stdout"
        }
      ]
    },
    {
      "cell_type": "code",
      "metadata": {
        "colab_type": "code",
        "id": "ub1o-7-aPBPr",
        "outputId": "96a9376a-e4c0-4e62-e768-66e3200d0085",
        "colab": {
          "base_uri": "https://localhost:8080/",
          "height": 51
        }
      },
      "source": [
        "# La condición debe ser una operación lógica y dar como resultado un booleano\n",
        "print(2 < 5)\n",
        "type(2 < 5)"
      ],
      "execution_count": 0,
      "outputs": [
        {
          "output_type": "stream",
          "text": [
            "True\n"
          ],
          "name": "stdout"
        },
        {
          "output_type": "execute_result",
          "data": {
            "text/plain": [
              "bool"
            ]
          },
          "metadata": {
            "tags": []
          },
          "execution_count": 68
        }
      ]
    },
    {
      "cell_type": "code",
      "metadata": {
        "colab_type": "code",
        "id": "CnqMdJlEPBPv",
        "outputId": "a71bbd23-a213-4faa-fb4e-8802a0fb9115",
        "colab": {
          "base_uri": "https://localhost:8080/",
          "height": 51
        }
      },
      "source": [
        "print(5 < 5)\n",
        "type(5 < 5)"
      ],
      "execution_count": 0,
      "outputs": [
        {
          "output_type": "stream",
          "text": [
            "False\n"
          ],
          "name": "stdout"
        },
        {
          "output_type": "execute_result",
          "data": {
            "text/plain": [
              "bool"
            ]
          },
          "metadata": {
            "tags": []
          },
          "execution_count": 69
        }
      ]
    },
    {
      "cell_type": "markdown",
      "metadata": {
        "colab_type": "text",
        "id": "lbjDKBFTPBPy"
      },
      "source": [
        "**Ejercicio**: Decida si quiere ejecutar el siguiente bloque de código."
      ]
    },
    {
      "cell_type": "code",
      "metadata": {
        "colab_type": "code",
        "id": "11Yjx3U2PBPy",
        "outputId": "5e86158a-d72f-481d-8ae6-42070ba35d32",
        "colab": {
          "base_uri": "https://localhost:8080/",
          "height": 51
        }
      },
      "source": [
        "numero = 1\n",
        "\n",
        "while (numero < 30): # while (numero > 0)\n",
        "    numero = numero + 1\n",
        "print(\"No caí en el ciclo infinito con la condición while del comentario\")\n",
        "print(\"El número de pasadas en este ciclo fue: \",numero)"
      ],
      "execution_count": 0,
      "outputs": [
        {
          "output_type": "stream",
          "text": [
            "No caí en el ciclo infinito con la condición while del comentario\n",
            "El número de pasadas en este ciclo fue:  30\n"
          ],
          "name": "stdout"
        }
      ]
    },
    {
      "cell_type": "markdown",
      "metadata": {
        "colab_type": "text",
        "id": "BdO41jDPPBP0"
      },
      "source": [
        "Si decidió ejecutarlo (o corrió la celda antes de leer la consigna), ¡felicitaciones, usted ha colgado por primera vez un programa! Pero como ya dijimos, hay que probar y equivocarse, nada es irreversible. Vaya a la solapa 'Kernel' del menú y seleccione 'Interrupt'. Lo que sucuede es que la condición del `while` será siempre cierta, por ende nuestro programa se quedará repitiendo el bloque de codigo dentro del loop indefinidamente. Puede averiguar cuantas iteraciones realizo la maquina inspeccionando la variable 'numero':"
      ]
    },
    {
      "cell_type": "markdown",
      "metadata": {
        "id": "yObNLpnQGOi-",
        "colab_type": "text"
      },
      "source": [
        "¡Notar qué rápido la computadora hace algunas operaciones!"
      ]
    },
    {
      "cell_type": "markdown",
      "metadata": {
        "colab_type": "text",
        "id": "oa016g7sPBP2"
      },
      "source": [
        "### 2.3 Condicionales\n",
        "Los condicionales son un bloque de codigo que se ejecuta solo en el caso que se cumpla una dada condición.\n",
        "\n",
        "### 2.3.1 If\n",
        "El condicional más simple es el `if`. Nuevamente para mayor claridad escribiremos la condicion entre parentesis (), aunque esto no es necesario."
      ]
    },
    {
      "cell_type": "code",
      "metadata": {
        "colab_type": "code",
        "id": "TYisVuiEPBP4",
        "outputId": "3641f242-17e2-42fd-eed0-8dd7c5b3e1da",
        "colab": {
          "base_uri": "https://localhost:8080/",
          "height": 34
        }
      },
      "source": [
        "valor = 15\n",
        "\n",
        "if (valor > 10):\n",
        "    print('El valor el mayo que 10')"
      ],
      "execution_count": 0,
      "outputs": [
        {
          "output_type": "stream",
          "text": [
            "El valor el mayo que 10\n"
          ],
          "name": "stdout"
        }
      ]
    },
    {
      "cell_type": "markdown",
      "metadata": {
        "colab_type": "text",
        "id": "-hz-IXpJPBP6"
      },
      "source": [
        "La condición que escribimos debe ser una operación lógica que da como resultado un booleano."
      ]
    },
    {
      "cell_type": "code",
      "metadata": {
        "colab_type": "code",
        "id": "BCXXXwRMPBP7",
        "outputId": "1b5e632a-ba9a-4aba-ef0c-8bd1988e7dc2",
        "colab": {
          "base_uri": "https://localhost:8080/",
          "height": 34
        }
      },
      "source": [
        "print(15 > 10)"
      ],
      "execution_count": 0,
      "outputs": [
        {
          "output_type": "stream",
          "text": [
            "True\n"
          ],
          "name": "stdout"
        }
      ]
    },
    {
      "cell_type": "code",
      "metadata": {
        "colab_type": "code",
        "id": "PshNhscXPBP9",
        "outputId": "70e2db47-3e75-4e7a-dc36-a395df77d4a5",
        "colab": {
          "base_uri": "https://localhost:8080/",
          "height": 34
        }
      },
      "source": [
        "print(type(15 > 10))"
      ],
      "execution_count": 0,
      "outputs": [
        {
          "output_type": "stream",
          "text": [
            "<class 'bool'>\n"
          ],
          "name": "stdout"
        }
      ]
    },
    {
      "cell_type": "markdown",
      "metadata": {
        "colab_type": "text",
        "id": "zaIO1UwlPBP_"
      },
      "source": [
        "### 2.3.2 If, Else\n",
        "A este condicional se le peude agregar otro bloque de codigo que se ejecute si la condición exigida NO se cuemple. Esto se logra mediante la expresión 'else'."
      ]
    },
    {
      "cell_type": "code",
      "metadata": {
        "colab_type": "code",
        "id": "Hf8xuG6iPBP_",
        "outputId": "0b938aee-0cab-41a9-c444-6ba976a4fcfd",
        "colab": {
          "base_uri": "https://localhost:8080/",
          "height": 34
        }
      },
      "source": [
        "nombre = 'Pedro'\n",
        "\n",
        "if (nombre == 'Juan'):\n",
        "    print('Esta persona se llama Juan')\n",
        "else:\n",
        "    print('Esta persona NO se llama Juan')"
      ],
      "execution_count": 0,
      "outputs": [
        {
          "output_type": "stream",
          "text": [
            "Esta persona NO se llama Juan\n"
          ],
          "name": "stdout"
        }
      ]
    },
    {
      "cell_type": "code",
      "metadata": {
        "colab_type": "code",
        "id": "GVfCLIQyPBQB",
        "outputId": "10f642e7-b681-4d56-e0c3-c7e1fed16dbf",
        "colab": {
          "base_uri": "https://localhost:8080/",
          "height": 34
        }
      },
      "source": [
        "'Juan'=='Pedro'"
      ],
      "execution_count": 0,
      "outputs": [
        {
          "output_type": "execute_result",
          "data": {
            "text/plain": [
              "False"
            ]
          },
          "metadata": {
            "tags": []
          },
          "execution_count": 91
        }
      ]
    },
    {
      "cell_type": "markdown",
      "metadata": {
        "colab_type": "text",
        "id": "1AJNWoqhPBQJ"
      },
      "source": [
        "### 2.3.3 If, Elif, Else\n",
        "A esta estructura se le pueden sumar tantas condiciones encadenadas como uno desee, mediante la expresión `elif`. El orden en que se van chequeando las condiciones depende de su posición, priemero se chequea el `if`, luego el primer `elif`, luego el segundo, y así sucesivamente."
      ]
    },
    {
      "cell_type": "code",
      "metadata": {
        "colab_type": "code",
        "id": "psA9onaFPBQL",
        "colab": {}
      },
      "source": [
        "edad = 20\n",
        "\n",
        "if (edad < 18):\n",
        "    print('Esta persona tiene menos de 18 años')\n",
        "elif (edad > 18):\n",
        "    print('Esta persona tiene mas de 18 años')\n",
        "else:\n",
        "    print('Esta persona tiene justo 18 años')"
      ],
      "execution_count": 0,
      "outputs": []
    },
    {
      "cell_type": "markdown",
      "metadata": {
        "colab_type": "text",
        "id": "ZHXdIEkSW6wa"
      },
      "source": [
        "**Ejercicio**: Escriba un bloque de código que, dado un número, imprima la frase 'El numero es par' si el número es par o la frase 'El numero es impar' si no lo es."
      ]
    },
    {
      "cell_type": "code",
      "metadata": {
        "colab_type": "code",
        "id": "7uWbEw9BYAL4",
        "outputId": "aa082e2f-d583-4656-f58f-26db38ebba2d",
        "colab": {
          "base_uri": "https://localhost:8080/",
          "height": 34
        }
      },
      "source": [
        "numero = 3245618\n",
        "\n",
        "if numero % 2 == 0:\n",
        "    print(\"El número\",numero,\"es par\")\n",
        "else:\n",
        "    print(\"El número\",numero,\"es impar\")"
      ],
      "execution_count": 0,
      "outputs": [
        {
          "output_type": "stream",
          "text": [
            "El número 3245618 es par\n"
          ],
          "name": "stdout"
        }
      ]
    },
    {
      "cell_type": "markdown",
      "metadata": {
        "colab_type": "text",
        "id": "qecxWClXPBQM"
      },
      "source": [
        "### 2.4 Combinando estructuras de código\n",
        "Las estructuras de loops y condicionales que aprendimos se pueden combinar para generar comportamientos más complejos."
      ]
    },
    {
      "cell_type": "code",
      "metadata": {
        "colab_type": "code",
        "id": "69DHgsOjPBQN",
        "outputId": "161cf8c4-1e1a-4940-a91a-7ab2ecf2cae7",
        "colab": {
          "base_uri": "https://localhost:8080/",
          "height": 34
        }
      },
      "source": [
        "lista_de_edades = [4,20,15,29,11,42,10,18]\n",
        "lista_mayores = []\n",
        "\n",
        "# Queremos armar una lista solo con las edades mayores o iguales a 18\n",
        "for edad in lista_de_edades:\n",
        "    if (edad >= 18):\n",
        "        # Agremos a la lista de mayores\n",
        "        lista_mayores.append(edad)\n",
        "\n",
        "print(lista_mayores)"
      ],
      "execution_count": 0,
      "outputs": [
        {
          "output_type": "stream",
          "text": [
            "[20, 29, 42, 18]\n"
          ],
          "name": "stdout"
        }
      ]
    },
    {
      "cell_type": "markdown",
      "metadata": {
        "colab_type": "text",
        "id": "ztSrrW-jPBQQ"
      },
      "source": [
        "## Ejercicios integradores y de repaso\n",
        "\n",
        "A continuación dejamos muchos ejercicios. ¡No se preocupen si no pueden hacer todos!\n",
        "\n",
        "**Ejercicio**: ¿Qué es un *float*?¿Qué operaciones se pueden hacer con ellos?"
      ]
    },
    {
      "cell_type": "markdown",
      "metadata": {
        "id": "uR-POdOXftsN",
        "colab_type": "text"
      },
      "source": [
        "Un float es un número decimal con el cual se pueden realizar cáculos matemáticos."
      ]
    },
    {
      "cell_type": "markdown",
      "metadata": {
        "id": "p1Zo7380GOkj",
        "colab_type": "text"
      },
      "source": [
        "**Ejercicio**: ¿Qué es un *string*?¿Qué operaciones se pueden hacer con ellos? Escribir algunos ejemplos."
      ]
    },
    {
      "cell_type": "markdown",
      "metadata": {
        "id": "fCJU2p2_gV-v",
        "colab_type": "text"
      },
      "source": [
        "Un string es una cadena de texto. Se utilizan bien sea para determinar variables tipo texto como nombres, apellidos, colores, religion, etc."
      ]
    },
    {
      "cell_type": "code",
      "metadata": {
        "id": "g2helUn5GOkm",
        "colab_type": "code",
        "outputId": "b004efac-b188-40e8-b475-ac872dd5b419",
        "colab": {
          "base_uri": "https://localhost:8080/",
          "height": 51
        }
      },
      "source": [
        "a = 45.98\n",
        "b = 23.2\n",
        "c = a + b\n",
        "print(type(c), c)\n",
        "\n",
        "nombre = 'Camila'\n",
        "apellido = 'Pumarejo'\n",
        "nombre_completo = nombre + \"_\" + apellido\n",
        "print(type(nombre_completo), nombre_completo)"
      ],
      "execution_count": 0,
      "outputs": [
        {
          "output_type": "stream",
          "text": [
            "<class 'float'> 69.17999999999999\n",
            "<class 'str'> Camila_Pumarejo\n"
          ],
          "name": "stdout"
        }
      ]
    },
    {
      "cell_type": "markdown",
      "metadata": {
        "id": "7YgjSSYOGOky",
        "colab_type": "text"
      },
      "source": [
        "**Ejercicio**: \n",
        "* ¿cuáles son las operaciones con booleanos básicas? Pistas: `and`, `or`.\n",
        "* ¿Qué pasa si sumás, restás, multiplicás o dividís booleanos?"
      ]
    },
    {
      "cell_type": "markdown",
      "metadata": {
        "id": "5poi9EIkkDwb",
        "colab_type": "text"
      },
      "source": [
        ". Las operaciones básicas con booleanos son: \n",
        "\n",
        "- Producto lógico, o intersección.\n",
        "- Suma lógica o unión.\n",
        "- Negación, complementación o inversión.\n",
        "\n",
        ". Lo que sucede si al operar booleanos es:\n",
        "\n",
        "- si se suma: True=1 y False=0 por lo tanto True+True=2 y True+False=1\n",
        "- si se resta: True-True=0 y True-False=1\n",
        "- si se multiplica: True*True=1 y True*False=0\n",
        "- si se divide: True/True=1.0 False/True=0.0 \n",
        "\n",
        "Nota: es evidente que hay una restricción a la hora de dividir ya que una división nunca puede ser por cero; es decir, no puede dividisrse por False ya que este es interpretado como un cero. Si se realiza dicha operación, mostrará un error ya que será una operación inválida."
      ]
    },
    {
      "cell_type": "markdown",
      "metadata": {
        "id": "gtrSMpsyGOk1",
        "colab_type": "text"
      },
      "source": [
        "Operaciones Booleanas Básicas"
      ]
    },
    {
      "cell_type": "code",
      "metadata": {
        "id": "57V2eU5oGOk3",
        "colab_type": "code",
        "outputId": "6fe9b623-e471-4f07-99c9-f6a543dd383c",
        "colab": {
          "base_uri": "https://localhost:8080/",
          "height": 170
        }
      },
      "source": [
        "print(True*True)\n",
        "print(True*False)\n",
        "print(False*False)\n",
        "print(True/True)\n",
        "print(False/True)\n",
        "print(True+True)\n",
        "print(True+False)\n",
        "print(False+False)\n",
        "print(True-True)\n"
      ],
      "execution_count": 0,
      "outputs": [
        {
          "output_type": "stream",
          "text": [
            "1\n",
            "0\n",
            "0\n",
            "1.0\n",
            "0.0\n",
            "2\n",
            "1\n",
            "0\n",
            "0\n"
          ],
          "name": "stdout"
        }
      ]
    },
    {
      "cell_type": "markdown",
      "metadata": {
        "id": "uQuJM9D4GOlB",
        "colab_type": "text"
      },
      "source": [
        "**Ejercicio**: Hacer una declaración if/else que compare dos variables y que decida cuál es mayor."
      ]
    },
    {
      "cell_type": "code",
      "metadata": {
        "id": "5mGG6MR7GOlD",
        "colab_type": "code",
        "outputId": "8a905da0-9b2a-43f8-e1dc-9e2b64670f11",
        "colab": {
          "base_uri": "https://localhost:8080/",
          "height": 34
        }
      },
      "source": [
        "A = 3\n",
        "B = 4\n",
        "if A>B:\n",
        "    print('A es mayor a B' )\n",
        "else:\n",
        "    print('B es mayor a A')"
      ],
      "execution_count": 0,
      "outputs": [
        {
          "output_type": "stream",
          "text": [
            "B es mayor a A\n"
          ],
          "name": "stdout"
        }
      ]
    },
    {
      "cell_type": "markdown",
      "metadata": {
        "id": "5F8hPBgZGOlL",
        "colab_type": "text"
      },
      "source": [
        "**Ejercicio**: Dada la siguiente lista de numeros:"
      ]
    },
    {
      "cell_type": "code",
      "metadata": {
        "colab_type": "code",
        "id": "nixTh2uwPBQQ",
        "outputId": "ca76d5b2-058a-46ce-aabe-50bda765943c",
        "colab": {
          "base_uri": "https://localhost:8080/",
          "height": 54
        }
      },
      "source": [
        "numeros_en_texto = ['2', '3', '2', '3', '2', '2', '2', '2', '3', '2', '3', '1', '3', '1', '2', '2', '2', '2', '2', '2', '2', '2', '1', '2', '3', '2', '2', '2', '2', '1', '2', '3', '2', '2', '3', '2', '3', '3', '2', '2', '1', '3', '3', '2', '3', '2', '2', '1', '2', '1', '1', '2', '2', '3', '2', '2', '2', '3', '2', '2', '2', '1', '2', '2', '3', '2', '2', '2', '2', '1', '2', '2', '2', '2', '3', '1', '2', '3', '3', '2', '3', '2', '2', '3', '3', '1', '1', '3', '2', '1', '2', '2', '2', '1', '1', '2', '2', '2', '2', '2', '2', '2', '3', '3', '1', '3', '3', '3', '2', '2', '2', '2', '2', '2', '2', '3', '3', '2', '2', '3', '2', '2', '2', '2', '2', '3', '3', '2', '2', '1', '3', '2', '2', '2', '3', '2', '3', '1', '3', '3', '2', '3', '3', '2', '2', '2', '2', '2', '2', '1', '2', '2', '1', '2', '3', '2', '1', '3', '1', '2', '3', '3', '3', '2', '3', '1', '3', '2', '3', '1', '2', '2', '2', '3', '3', '2', '2', '2', '2', '2', '3', '1', '2', '3', '3', '2', '2', '3', '2', '2', '2', '3', '2', '2', '2', '2', '1', '2', '3', '1', '3', '2', '2', '3', '3', '3', '2', '2', '1', '1']\n",
        "print(numeros_en_texto)"
      ],
      "execution_count": 0,
      "outputs": [
        {
          "output_type": "stream",
          "text": [
            "['2', '3', '2', '3', '2', '2', '2', '2', '3', '2', '3', '1', '3', '1', '2', '2', '2', '2', '2', '2', '2', '2', '1', '2', '3', '2', '2', '2', '2', '1', '2', '3', '2', '2', '3', '2', '3', '3', '2', '2', '1', '3', '3', '2', '3', '2', '2', '1', '2', '1', '1', '2', '2', '3', '2', '2', '2', '3', '2', '2', '2', '1', '2', '2', '3', '2', '2', '2', '2', '1', '2', '2', '2', '2', '3', '1', '2', '3', '3', '2', '3', '2', '2', '3', '3', '1', '1', '3', '2', '1', '2', '2', '2', '1', '1', '2', '2', '2', '2', '2', '2', '2', '3', '3', '1', '3', '3', '3', '2', '2', '2', '2', '2', '2', '2', '3', '3', '2', '2', '3', '2', '2', '2', '2', '2', '3', '3', '2', '2', '1', '3', '2', '2', '2', '3', '2', '3', '1', '3', '3', '2', '3', '3', '2', '2', '2', '2', '2', '2', '1', '2', '2', '1', '2', '3', '2', '1', '3', '1', '2', '3', '3', '3', '2', '3', '1', '3', '2', '3', '1', '2', '2', '2', '3', '3', '2', '2', '2', '2', '2', '3', '1', '2', '3', '3', '2', '2', '3', '2', '2', '2', '3', '2', '2', '2', '2', '1', '2', '3', '1', '3', '2', '2', '3', '3', '3', '2', '2', '1', '1']\n"
          ],
          "name": "stdout"
        }
      ]
    },
    {
      "cell_type": "markdown",
      "metadata": {
        "colab_type": "text",
        "id": "XLWP4dKfPBQS"
      },
      "source": [
        "Calcule la suma de los unos (1) y los tres (3) en esta lista. Hay muchas formas de hacerlo, si encuentra más de una, mejor. El resultado es 210."
      ]
    },
    {
      "cell_type": "code",
      "metadata": {
        "id": "HTvnaG9KGOlW",
        "colab_type": "code",
        "outputId": "faa0dd08-4a75-4cc1-d165-e3cdf0077f54",
        "colab": {
          "base_uri": "https://localhost:8080/",
          "height": 51
        }
      },
      "source": [
        "numeros_en_texto = ['2', '3', '2', '3', '2', '2', '2', '2', '3', '2', '3', '1', '3', '1', '2', '2', '2', '2', '2', '2', '2', '2', '1', '2', '3', '2', '2', '2', '2', '1', '2', '3', '2', '2', '3', '2', '3', '3', '2', '2', '1', '3', '3', '2', '3', '2', '2', '1', '2', '1', '1', '2', '2', '3', '2', '2', '2', '3', '2', '2', '2', '1', '2', '2', '3', '2', '2', '2', '2', '1', '2', '2', '2', '2', '3', '1', '2', '3', '3', '2', '3', '2', '2', '3', '3', '1', '1', '3', '2', '1', '2', '2', '2', '1', '1', '2', '2', '2', '2', '2', '2', '2', '3', '3', '1', '3', '3', '3', '2', '2', '2', '2', '2', '2', '2', '3', '3', '2', '2', '3', '2', '2', '2', '2', '2', '3', '3', '2', '2', '1', '3', '2', '2', '2', '3', '2', '3', '1', '3', '3', '2', '3', '3', '2', '2', '2', '2', '2', '2', '1', '2', '2', '1', '2', '3', '2', '1', '3', '1', '2', '3', '3', '3', '2', '3', '1', '3', '2', '3', '1', '2', '2', '2', '3', '3', '2', '2', '2', '2', '2', '3', '1', '2', '3', '3', '2', '2', '3', '2', '2', '2', '3', '2', '2', '2', '2', '1', '2', '3', '1', '3', '2', '2', '3', '3', '3', '2', '2', '1', '1']\n",
        "\n",
        "\n",
        "suma = 0\n",
        "j=0\n",
        "\n",
        "for i in numeros_en_texto:\n",
        "    j = j + 1\n",
        "    if int(i) == 1:\n",
        "        suma = suma + 1\n",
        "    elif int(i) == 3:\n",
        "        suma = suma + 3\n",
        "    else:\n",
        "      continue\n",
        "print(suma)\n",
        "print(\"La lista tiene: \",j, \"números\")"
      ],
      "execution_count": 0,
      "outputs": [
        {
          "output_type": "stream",
          "text": [
            "210\n",
            "La lista tiene:  210 números\n"
          ],
          "name": "stdout"
        }
      ]
    },
    {
      "cell_type": "markdown",
      "metadata": {
        "id": "gwxJcF-xGOlh",
        "colab_type": "text"
      },
      "source": [
        "**Ejercicio**: \n",
        "* Hacer un for loop que le sume uno a todos los elementos de la lista `A = [0,1,2,3,4]` y lo imprima.\n",
        "* Hacer un for loop que le sume uno a todos los elementos de la lista `A = [0,1,2,3,4]` y lo guarde en una lista nueva B. Googlear: append.\n",
        "* ¿Qué hace el comando *range*?"
      ]
    },
    {
      "cell_type": "code",
      "metadata": {
        "id": "hBbLuiWAGOlj",
        "colab_type": "code",
        "outputId": "1ba95970-cbc8-40cb-d55c-6fb5afc5aaaf",
        "colab": {
          "base_uri": "https://localhost:8080/",
          "height": 102
        }
      },
      "source": [
        "# Hacer un for loop que le sume uno a todos los elementos de la lista A = [0,1,2,3,4] y lo imprima.\n",
        "A = [0,1,2,3,4]\n",
        "\n",
        "for i in A:\n",
        "  i = i + 1\n",
        "  print(i)"
      ],
      "execution_count": 0,
      "outputs": [
        {
          "output_type": "stream",
          "text": [
            "1\n",
            "2\n",
            "3\n",
            "4\n",
            "5\n"
          ],
          "name": "stdout"
        }
      ]
    },
    {
      "cell_type": "code",
      "metadata": {
        "id": "bR3ReXWTGOlp",
        "colab_type": "code",
        "outputId": "f5e95ad4-2776-471e-aae0-ab74ec395c1a",
        "colab": {
          "base_uri": "https://localhost:8080/",
          "height": 34
        }
      },
      "source": [
        "# Hacer un for loop que le sume uno a todos los elementos de la lista A = [0,1,2,3,4] y lo guarde en una lista nueva B. Googlear: append.\n",
        "A = [0,1,2,3,4]\n",
        "B = []\n",
        "\n",
        "for i in A:\n",
        "  i = i + 1\n",
        "  B.append(i)\n",
        "print(B)"
      ],
      "execution_count": 0,
      "outputs": [
        {
          "output_type": "stream",
          "text": [
            "[1, 2, 3, 4, 5]\n"
          ],
          "name": "stdout"
        }
      ]
    },
    {
      "cell_type": "code",
      "metadata": {
        "id": "r2rLrPYVGOlv",
        "colab_type": "code",
        "colab": {}
      },
      "source": [
        "# ¿Qué hace el comando *range*?\n",
        "Genera una secuencia virtual de números enteros y sirve para hacer conteos dentro de intervalos."
      ],
      "execution_count": 0,
      "outputs": []
    },
    {
      "cell_type": "markdown",
      "metadata": {
        "id": "tCJFPMqMGOl2",
        "colab_type": "text"
      },
      "source": [
        "**Ejercicio**: Escribir una rutina que imprima aquellos elementos de la lista *a* que son menores que 10.\n",
        "Pistas: *for*, *if*"
      ]
    },
    {
      "cell_type": "markdown",
      "metadata": {
        "id": "RlfkMUFJFvbd",
        "colab_type": "text"
      },
      "source": [
        ""
      ]
    },
    {
      "cell_type": "code",
      "metadata": {
        "id": "62GkLVEmGOl4",
        "colab_type": "code",
        "outputId": "0b248ed3-6a28-4ff3-8a1f-9fc465a75b74",
        "colab": {
          "base_uri": "https://localhost:8080/",
          "height": 34
        }
      },
      "source": [
        "a = [1, 1, 2, 3, 5, 8, 8, 13, 21, 34, 34, 55, 89]\n",
        "\n",
        "b = []\n",
        "\n",
        "for i in a:\n",
        "  if i < 10:\n",
        "    b.append(i)\n",
        "print(b)"
      ],
      "execution_count": 0,
      "outputs": [
        {
          "output_type": "stream",
          "text": [
            "[1, 1, 2, 3, 5, 8, 8]\n"
          ],
          "name": "stdout"
        }
      ]
    },
    {
      "cell_type": "markdown",
      "metadata": {
        "id": "XyoBIq3wGOmC",
        "colab_type": "text"
      },
      "source": [
        "**Extras**: en lugar de imprimir los elementos de a uno, armar una nueva lista con aquellos elementos que sean menores a 10. ¿Cómo filtran elementos repetidos?"
      ]
    },
    {
      "cell_type": "code",
      "metadata": {
        "id": "_tkXP0jqGOmF",
        "colab_type": "code",
        "outputId": "d5a27054-157e-4874-ba4d-f30b991c4b76",
        "colab": {
          "base_uri": "https://localhost:8080/",
          "height": 51
        }
      },
      "source": [
        "a = [1, 1, 2, 3, 5, 8, 8, 13, 21, 34, 34, 55, 89]\n",
        "\n",
        "b = []\n",
        "\n",
        "for i in a:\n",
        "  if i < 10:\n",
        "    b.append(i)\n",
        "    list(set(b))\n",
        "print(b)\n",
        "\n",
        "c = set(b)\n",
        "print(c)\n"
      ],
      "execution_count": 0,
      "outputs": [
        {
          "output_type": "stream",
          "text": [
            "[1, 1, 2, 3, 5, 8, 8]\n",
            "{1, 2, 3, 5, 8}\n"
          ],
          "name": "stdout"
        }
      ]
    },
    {
      "cell_type": "markdown",
      "metadata": {
        "id": "5PMXTzDDGOmR",
        "colab_type": "text"
      },
      "source": [
        "**Ejercicio**: dadas dos listas *a* y *b*, armar una lista con:\n",
        "* Con todos los elementos de *a* y *b*\n",
        "* Con todos los elementos de *a* y *b*, ordenados de menor a mayor\n",
        "* Con todos los elementos de *a* y *b*, ordenados de mayor a menor\n",
        "* Con todos los elementos de *a* y *b*, ordenados de menor a mayor y sin elementos repetidos\n",
        "* Con todos los elementos que están en ambas listas\n",
        "* Con todos los elementos que NO están en ambas listas"
      ]
    },
    {
      "cell_type": "code",
      "metadata": {
        "id": "jAPeKW2LGOmT",
        "colab_type": "code",
        "outputId": "a387153e-1d5b-40c1-95f6-47df43d56d53",
        "colab": {
          "base_uri": "https://localhost:8080/",
          "height": 139
        }
      },
      "source": [
        "a = [12,3,5,12,8,9,25,12,1,3,4,5,17,15]\n",
        "b = [3,5,7,8,45,8,9,16,1,11,30,41,2,3,15,1,29,22]\n",
        "\n",
        "# Lista nueva con los elementos de las listas a y b \n",
        "c = a + b \n",
        "print(\"La lista que contiene TODOS los elementos es: \",c)\n",
        "\n",
        "# Lista con los elementos de a y b; ordenados de menor a mayor\n",
        "d = sorted(c)\n",
        "print(\"La lista con los datos ordenadosde menor a mayor es: \",d)\n",
        "\n",
        "# Lista con los elementos de a y b; ordenados de mayor a menor\n",
        "d.sort(reverse = True)\n",
        "print(\"La lista con los datos ordenadosde mayor a menor es: \",d)\n",
        "\n",
        "# Elementos de a y b; ordenados de menor a mayor y sin elementos repetidos \n",
        "e = set(d)\n",
        "print(\"De menor a mayor y sin elementos repetidos: \",e)\n",
        "\n",
        "# Intersección. Elementos que estan en ambas listas\n",
        "intersección = list(set(a) & set(b))\n",
        "print(\"Los elementos que están en ambas listas son: \",intersección)\n",
        "\n",
        "# Elementos que no están en ambas listas\n",
        "excluidos = []\n",
        "for i in c:\n",
        "  if i != 1 and i != 3 and i != 5 and i != 8 and i != 9 and i != 15:\n",
        "    excluidos.append(i)\n",
        "    \n",
        "excluidos_SR = set(excluidos)\n",
        "print(\"Los elementos que no están en ambas listas son: \",excluidos_SR)\n"
      ],
      "execution_count": 0,
      "outputs": [
        {
          "output_type": "stream",
          "text": [
            "La lista que contiene TODOS los elementos es:  [12, 3, 5, 12, 8, 9, 25, 12, 1, 3, 4, 5, 17, 15, 3, 5, 7, 8, 45, 8, 9, 16, 1, 11, 30, 41, 2, 3, 15, 1, 29, 22]\n",
            "La lista con los datos ordenadosde menor a mayor es:  [1, 1, 1, 2, 3, 3, 3, 3, 4, 5, 5, 5, 7, 8, 8, 8, 9, 9, 11, 12, 12, 12, 15, 15, 16, 17, 22, 25, 29, 30, 41, 45]\n",
            "La lista con los datos ordenadosde mayor a menor es:  [45, 41, 30, 29, 25, 22, 17, 16, 15, 15, 12, 12, 12, 11, 9, 9, 8, 8, 8, 7, 5, 5, 5, 4, 3, 3, 3, 3, 2, 1, 1, 1]\n",
            "De menor a mayor y sin elementos repetidos:  {1, 2, 3, 4, 5, 7, 8, 41, 9, 11, 12, 45, 15, 16, 17, 22, 25, 29, 30}\n",
            "Los elementos que están en ambas listas son:  [1, 3, 5, 8, 9, 15]\n",
            "Los elementos que no están en ambas listas son:  {2, 4, 7, 41, 11, 12, 45, 16, 17, 22, 25, 29, 30}\n"
          ],
          "name": "stdout"
        }
      ]
    },
    {
      "cell_type": "markdown",
      "metadata": {
        "id": "cC7ec3FMGOmb",
        "colab_type": "text"
      },
      "source": [
        "**Ejercicio**: Para googlear:\n",
        "* ¿Qué es un diccionario? Escribir un ejemplo en una celda.\n",
        "\n",
        "Un Diccionario es una estructura de datos y un tipo de dato en Python con características especiales que nos permite almacenar cualquier tipo de valor como enteros, cadenas, listas e incluso otras funciones. Estos diccionarios nos permiten además identificar cada elemento por una clave (Key)."
      ]
    },
    {
      "cell_type": "code",
      "metadata": {
        "id": "4ZQbOo6EGOme",
        "colab_type": "code",
        "outputId": "ecb993e0-5672-4fd1-eca8-b7bb1eecf29e",
        "colab": {
          "base_uri": "https://localhost:8080/",
          "height": 170
        }
      },
      "source": [
        "# Ejemplo diccionario\n",
        "\n",
        "# 1) Para definir un diccionario, se encierra el listado de valores entre llaves. \n",
        "#Las parejas de clave y valor se separan con comas, y la clave y el valor se separan con dos puntos.\n",
        "\n",
        "diccionario = {'nombre' : 'Carlos', 'edad' : 22, 'cursos': ['Python','Django','JavaScript'] }\n",
        "\n",
        "\n",
        "# 2) Podemos acceder al elemento de un Diccionario mediante la clave de este elemento, como veremos a continuación:\n",
        "\n",
        "print (diccionario['nombre']) #Carlos\n",
        "print (diccionario['edad'])#22\n",
        "print (diccionario['cursos']) #['Python','Django','JavaScript']\n",
        "\n",
        "\n",
        "# 3) También es posible insertar una lista dentro de un diccionario. Para acceder a cada uno de los cursos usamos los índices:\n",
        "\n",
        "print (diccionario['cursos'][0])#Python\n",
        "print (diccionario['cursos'][1])#Django\n",
        "print (diccionario['cursos'][2])#JavaScript\n",
        "\n",
        "\n",
        "# 4) Para recorrer todo el Diccionario, podemos hacer uso de la estructura for:\n",
        "\n",
        "for key in diccionario:\n",
        "  print (key, \":\", diccionario[key])\n"
      ],
      "execution_count": 0,
      "outputs": [
        {
          "output_type": "stream",
          "text": [
            "Carlos\n",
            "22\n",
            "['Python', 'Django', 'JavaScript']\n",
            "Python\n",
            "Django\n",
            "JavaScript\n",
            "nombre : Carlos\n",
            "edad : 22\n",
            "cursos : ['Python', 'Django', 'JavaScript']\n"
          ],
          "name": "stdout"
        }
      ]
    }
  ]
}